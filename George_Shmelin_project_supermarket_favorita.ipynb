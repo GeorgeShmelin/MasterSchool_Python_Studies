{
  "cells": [
    {
      "cell_type": "markdown",
      "metadata": {
        "id": "view-in-github",
        "colab_type": "text"
      },
      "source": [
        "<a href=\"https://colab.research.google.com/github/GeorgeShmelin/MasterSchool_Python_Studies/blob/Time-series/George_Shmelin_project_supermarket_favorita.ipynb\" target=\"_parent\"><img src=\"https://colab.research.google.com/assets/colab-badge.svg\" alt=\"Open In Colab\"/></a>"
      ]
    },
    {
      "cell_type": "markdown",
      "metadata": {
        "id": "BabYWNWAXYwL"
      },
      "source": [
        "My idea behind the data download is - to use as much of the real time filtered data is it possible for reliable work of my free version of Google Colab. If one has a better computing possibilities - in this code clearly pointed the places for the personal data ammount adjastment. I came to my exact values empiricaly."
      ]
    },
    {
      "cell_type": "markdown",
      "metadata": {
        "id": "D0xTLlSbrI7R"
      },
      "source": [
        "Dask doesn’t work directly with sklearn models — they expect regular pandas."
      ]
    },
    {
      "cell_type": "markdown",
      "metadata": {
        "id": "lWDVHje_rIqk"
      },
      "source": [
        "# Libraries"
      ]
    },
    {
      "cell_type": "markdown",
      "metadata": {
        "id": "Geu0iZZurVFO"
      },
      "source": [
        "## General and SQL"
      ]
    },
    {
      "cell_type": "code",
      "execution_count": null,
      "metadata": {
        "id": "gxf5WgXr_T4Y"
      },
      "outputs": [],
      "source": [
        "# !pip install kagglehub\n",
        "import kagglehub"
      ]
    },
    {
      "cell_type": "code",
      "execution_count": null,
      "metadata": {
        "id": "xdSj8DyCViCT"
      },
      "outputs": [],
      "source": [
        "import joblib # Save the DataFrame to a compressed file"
      ]
    },
    {
      "cell_type": "code",
      "execution_count": null,
      "metadata": {
        "id": "00UlKSWH2jZe"
      },
      "outputs": [],
      "source": [
        "import matplotlib.pyplot as plt\n",
        "import seaborn as sns\n",
        "import math"
      ]
    },
    {
      "cell_type": "code",
      "execution_count": null,
      "metadata": {
        "id": "CHQHlP2h-1si"
      },
      "outputs": [],
      "source": [
        "import numpy as np\n",
        "import pandas as pd\n",
        "import sqlite3\n",
        "import os\n",
        "import gc"
      ]
    },
    {
      "cell_type": "code",
      "execution_count": null,
      "metadata": {
        "id": "nTcUQ24FqG5q"
      },
      "outputs": [],
      "source": [
        "import sqlalchemy as sa\n",
        "from google.colab import files\n",
        "from sqlalchemy import text\n",
        "from sqlalchemy import create_engine"
      ]
    },
    {
      "cell_type": "markdown",
      "metadata": {
        "id": "i_yfNkIvNNwL"
      },
      "source": [
        "## Encodes"
      ]
    },
    {
      "cell_type": "code",
      "execution_count": null,
      "metadata": {
        "id": "LoJ9Q89vNHw5"
      },
      "outputs": [],
      "source": [
        "from sklearn.preprocessing import LabelEncoder\n",
        "from sklearn.preprocessing import StandardScaler\n",
        "from sklearn.preprocessing import MinMaxScaler"
      ]
    },
    {
      "cell_type": "markdown",
      "metadata": {
        "id": "gor43stffERP"
      },
      "source": [
        "## Models"
      ]
    },
    {
      "cell_type": "code",
      "execution_count": null,
      "metadata": {
        "id": "NKjYyjnOfNJ5"
      },
      "outputs": [],
      "source": [
        "from sklearn.neighbors import NearestNeighbors\n",
        "from sklearn.model_selection import train_test_split\n",
        "from sklearn.ensemble import RandomForestRegressor\n",
        "from sklearn.metrics import mean_absolute_error, r2_score"
      ]
    },
    {
      "cell_type": "markdown",
      "metadata": {
        "id": "fGSXx9j0reD9"
      },
      "source": [
        "# Data Download"
      ]
    },
    {
      "cell_type": "code",
      "execution_count": null,
      "metadata": {
        "colab": {
          "base_uri": "https://localhost:8080/"
        },
        "id": "tCoeGNfUTvnM",
        "outputId": "e8ee74ba-379b-47bd-c4ee-4080aff30278"
      },
      "outputs": [
        {
          "output_type": "stream",
          "name": "stdout",
          "text": [
            "Path to dataset files: /kaggle/input/favoritagrocerysalesforecastingextracted\n"
          ]
        }
      ],
      "source": [
        "# Download latest version\n",
        "path = kagglehub.dataset_download(\"siliconx/favoritagrocerysalesforecastingextracted\")\n",
        "\n",
        "print(\"Path to dataset files:\", path)"
      ]
    },
    {
      "cell_type": "markdown",
      "metadata": {
        "id": "lFkmxZNnUpvI"
      },
      "source": [
        "https://www.kaggle.com/datasets/siliconx/favoritagrocerysalesforecastingextracted"
      ]
    },
    {
      "cell_type": "code",
      "execution_count": null,
      "metadata": {
        "colab": {
          "base_uri": "https://localhost:8080/"
        },
        "id": "1skRkN4CBOP4",
        "outputId": "d054ecde-ba5c-44f6-9d43-a577b0d146f7"
      },
      "outputs": [
        {
          "output_type": "stream",
          "name": "stdout",
          "text": [
            "Files in dataset: ['oil.csv', 'items.csv', 'sample_submission.csv', 'holidays_events.csv', 'stores.csv', 'train.csv', 'test.csv', 'transactions.csv']\n"
          ]
        }
      ],
      "source": [
        "files = os.listdir(path)\n",
        "print(\"Files in dataset:\", files)"
      ]
    },
    {
      "cell_type": "code",
      "execution_count": null,
      "metadata": {
        "id": "-IW7jSyJDDQI"
      },
      "outputs": [],
      "source": [
        "del files"
      ]
    },
    {
      "cell_type": "code",
      "execution_count": null,
      "metadata": {
        "colab": {
          "base_uri": "https://localhost:8080/"
        },
        "id": "Cw8rtwBgFPUd",
        "outputId": "33085dfa-8696-4c6c-ecf5-7600190a31a5"
      },
      "outputs": [
        {
          "output_type": "stream",
          "name": "stdout",
          "text": [
            "✅ Loaded 'oil.csv' into table 'oil'\n",
            "🔢 Table 'oil' has 1,218 rows.\n",
            "🔑 Candidate keys or join fields in 'oil': ['date']\n"
          ]
        }
      ],
      "source": [
        "# Connect to SQLite\n",
        "conn = sqlite3.connect(\"favorita.db\")\n",
        "\n",
        "# Change this line per file\n",
        "filename = 'oil.csv'\n",
        "file_path = os.path.join(path, filename)\n",
        "\n",
        "# Load CSV\n",
        "df = pd.read_csv(file_path)\n",
        "table_name = filename.replace('.csv', '')\n",
        "\n",
        "# Load to SQL\n",
        "df.to_sql(table_name, conn, if_exists=\"replace\", index=False)\n",
        "print(f\"✅ Loaded '{filename}' into table '{table_name}'\")\n",
        "\n",
        "# Row count\n",
        "query = f\"SELECT COUNT(*) AS row_count FROM {table_name};\"\n",
        "row_count_df = pd.read_sql(query, conn)\n",
        "row_count = row_count_df.iloc[0, 0]\n",
        "print(f\"🔢 Table '{table_name}' has {row_count:,} rows.\")\n",
        "\n",
        "# Inspect columns for key info\n",
        "columns = df.columns.tolist()\n",
        "primary_like = [col for col in columns if 'id' in col.lower() or 'nbr' in col.lower()]\n",
        "date_like = [col for col in columns if 'date' in col.lower()]\n",
        "possible_keys = primary_like + date_like\n",
        "\n",
        "# Show candidate keys\n",
        "if possible_keys:\n",
        "    print(f\"🔑 Candidate keys or join fields in '{table_name}': {possible_keys}\")\n",
        "else:\n",
        "    print(f\"ℹ️ No obvious join keys found in '{table_name}'\")"
      ]
    },
    {
      "cell_type": "code",
      "execution_count": null,
      "metadata": {
        "colab": {
          "base_uri": "https://localhost:8080/"
        },
        "id": "yEn_MYRiGiS7",
        "outputId": "ddee9b01-c5b1-4443-bd53-ffb2cfa75d11"
      },
      "outputs": [
        {
          "output_type": "stream",
          "name": "stdout",
          "text": [
            "✅ Loaded 'items.csv' into table 'items'\n",
            "🔢 Table 'items' has 4,100 rows.\n",
            "🔑 Candidate keys or join fields in 'items': ['item_nbr']\n"
          ]
        }
      ],
      "source": [
        "# Change this line per file\n",
        "filename = 'items.csv'\n",
        "file_path = os.path.join(path, filename)\n",
        "\n",
        "# Load CSV\n",
        "df = pd.read_csv(file_path)\n",
        "table_name = filename.replace('.csv', '')\n",
        "\n",
        "# Load to SQL\n",
        "df.to_sql(table_name, conn, if_exists=\"replace\", index=False)\n",
        "print(f\"✅ Loaded '{filename}' into table '{table_name}'\")\n",
        "\n",
        "# Row count\n",
        "query = f\"SELECT COUNT(*) AS row_count FROM {table_name};\"\n",
        "row_count_df = pd.read_sql(query, conn)\n",
        "row_count = row_count_df.iloc[0, 0]\n",
        "print(f\"🔢 Table '{table_name}' has {row_count:,} rows.\")\n",
        "\n",
        "# Inspect columns for key info\n",
        "columns = df.columns.tolist()\n",
        "primary_like = [col for col in columns if 'id' in col.lower() or 'nbr' in col.lower()]\n",
        "date_like = [col for col in columns if 'date' in col.lower()]\n",
        "possible_keys = primary_like + date_like\n",
        "\n",
        "# Show candidate keys\n",
        "if possible_keys:\n",
        "    print(f\"🔑 Candidate keys or join fields in '{table_name}': {possible_keys}\")\n",
        "else:\n",
        "    print(f\"ℹ️ No obvious join keys found in '{table_name}'\")"
      ]
    },
    {
      "cell_type": "code",
      "execution_count": null,
      "metadata": {
        "colab": {
          "base_uri": "https://localhost:8080/"
        },
        "id": "xpoCQ6a_Gw48",
        "outputId": "5478be7f-d48b-435d-8c07-aae54f6a8238"
      },
      "outputs": [
        {
          "output_type": "stream",
          "name": "stdout",
          "text": [
            "✅ Loaded 'sample_submission.csv' into table 'sample_submission'\n",
            "🔢 Table 'sample_submission' has 3,370,464 rows.\n",
            "🔑 Candidate keys or join fields in 'sample_submission': ['id']\n"
          ]
        }
      ],
      "source": [
        "# Change this line per file\n",
        "filename = 'sample_submission.csv'\n",
        "file_path = os.path.join(path, filename)\n",
        "\n",
        "# Load CSV\n",
        "df = pd.read_csv(file_path)\n",
        "table_name = filename.replace('.csv', '')\n",
        "\n",
        "# Load to SQL\n",
        "df.to_sql(table_name, conn, if_exists=\"replace\", index=False)\n",
        "print(f\"✅ Loaded '{filename}' into table '{table_name}'\")\n",
        "\n",
        "# Row count\n",
        "query = f\"SELECT COUNT(*) AS row_count FROM {table_name};\"\n",
        "row_count_df = pd.read_sql(query, conn)\n",
        "row_count = row_count_df.iloc[0, 0]\n",
        "print(f\"🔢 Table '{table_name}' has {row_count:,} rows.\")\n",
        "\n",
        "# Inspect columns for key info\n",
        "columns = df.columns.tolist()\n",
        "primary_like = [col for col in columns if 'id' in col.lower() or 'nbr' in col.lower()]\n",
        "date_like = [col for col in columns if 'date' in col.lower()]\n",
        "possible_keys = primary_like + date_like\n",
        "\n",
        "# Show candidate keys\n",
        "if possible_keys:\n",
        "    print(f\"🔑 Candidate keys or join fields in '{table_name}': {possible_keys}\")\n",
        "else:\n",
        "    print(f\"ℹ️ No obvious join keys found in '{table_name}'\")"
      ]
    },
    {
      "cell_type": "markdown",
      "metadata": {
        "id": "TLbMo4U6_PzK"
      },
      "source": [
        "after a double check I found that not exist special \"holidays\" which affect only Guayas state"
      ]
    },
    {
      "cell_type": "code",
      "execution_count": null,
      "metadata": {
        "colab": {
          "base_uri": "https://localhost:8080/"
        },
        "id": "GGlYHlnLHI1B",
        "outputId": "79cd255a-5102-46ee-eb9e-7a4c33e07ad2"
      },
      "outputs": [
        {
          "output_type": "stream",
          "name": "stdout",
          "text": [
            "✅ Loaded 'holidays_events.csv' into table 'holidays_events'\n",
            "🔢 Table 'holidays_events' has 350 rows.\n",
            "🔑 Candidate keys or join fields in 'holidays_events': ['date']\n"
          ]
        }
      ],
      "source": [
        "# Change this line per file\n",
        "filename = 'holidays_events.csv'\n",
        "file_path = os.path.join(path, filename)\n",
        "\n",
        "# Load CSV\n",
        "df = pd.read_csv(file_path)\n",
        "table_name = filename.replace('.csv', '')\n",
        "\n",
        "# Load to SQL\n",
        "df.to_sql(table_name, conn, if_exists=\"replace\", index=False)\n",
        "print(f\"✅ Loaded '{filename}' into table '{table_name}'\")\n",
        "\n",
        "# Row count\n",
        "query = f\"SELECT COUNT(*) AS row_count FROM {table_name};\"\n",
        "row_count_df = pd.read_sql(query, conn)\n",
        "row_count = row_count_df.iloc[0, 0]\n",
        "print(f\"🔢 Table '{table_name}' has {row_count:,} rows.\")\n",
        "\n",
        "# Inspect columns for key info\n",
        "columns = df.columns.tolist()\n",
        "primary_like = [col for col in columns if 'id' in col.lower() or 'nbr' in col.lower()]\n",
        "date_like = [col for col in columns if 'date' in col.lower()]\n",
        "possible_keys = primary_like + date_like\n",
        "\n",
        "# Show candidate keys\n",
        "if possible_keys:\n",
        "    print(f\"🔑 Candidate keys or join fields in '{table_name}': {possible_keys}\")\n",
        "else:\n",
        "    print(f\"ℹ️ No obvious join keys found in '{table_name}'\")"
      ]
    },
    {
      "cell_type": "markdown",
      "metadata": {
        "id": "11IGDk_yIQe2"
      },
      "source": [
        "Loaded 'stores.csv' into table 'stores' (only state = 'Guayas')"
      ]
    },
    {
      "cell_type": "code",
      "execution_count": null,
      "metadata": {
        "colab": {
          "base_uri": "https://localhost:8080/"
        },
        "id": "ToT0kw6oHXlt",
        "outputId": "3b0ddd37-3b34-4566-80b3-952690505b7e"
      },
      "outputs": [
        {
          "output_type": "stream",
          "name": "stdout",
          "text": [
            "✅ Loaded 'stores.csv' into table 'stores' (only state = 'Guayas')\n",
            "🔢 Table 'stores' has 11 rows.\n",
            "🔑 Candidate keys or join fields in 'stores': ['store_nbr']\n"
          ]
        }
      ],
      "source": [
        "# Set up file\n",
        "filename = 'stores.csv'\n",
        "file_path = os.path.join(path, filename)\n",
        "\n",
        "# Load and filter for Guayas\n",
        "df = pd.read_csv(file_path)\n",
        "df = df[df['state'] == 'Guayas']  # 👈 Filter\n",
        "\n",
        "table_name = filename.replace('.csv', '')\n",
        "\n",
        "# Save to SQL\n",
        "df.to_sql(table_name, conn, if_exists=\"replace\", index=False)\n",
        "print(f\"✅ Loaded '{filename}' into table '{table_name}' (only state = 'Guayas')\")\n",
        "\n",
        "# Row count\n",
        "query = f\"SELECT COUNT(*) AS row_count FROM {table_name};\"\n",
        "row_count_df = pd.read_sql(query, conn)\n",
        "row_count = row_count_df.iloc[0, 0]\n",
        "print(f\"🔢 Table '{table_name}' has {row_count:,} rows.\")\n",
        "\n",
        "# Inspect columns for join keys\n",
        "columns = df.columns.tolist()\n",
        "primary_like = [col for col in columns if 'id' in col.lower() or 'nbr' in col.lower()]\n",
        "date_like = [col for col in columns if 'date' in col.lower()]\n",
        "possible_keys = primary_like + date_like\n",
        "\n",
        "# Show candidate keys\n",
        "if possible_keys:\n",
        "    print(f\"🔑 Candidate keys or join fields in '{table_name}': {possible_keys}\")\n",
        "else:\n",
        "    print(f\"ℹ️ No obvious join keys found in '{table_name}'\")"
      ]
    },
    {
      "cell_type": "code",
      "execution_count": null,
      "metadata": {
        "colab": {
          "base_uri": "https://localhost:8080/"
        },
        "id": "Taj5iRUXJLlW",
        "outputId": "131feb8c-fa86-478a-b414-cd499b947330"
      },
      "outputs": [
        {
          "output_type": "stream",
          "name": "stderr",
          "text": [
            "<ipython-input-149-046f77298da3>:10: FutureWarning: 'H' is deprecated and will be removed in a future version, please use 'h' instead.\n",
            "  df['date'] = pd.to_datetime(df['date'], errors='coerce').dt.floor('H')\n"
          ]
        },
        {
          "output_type": "stream",
          "name": "stdout",
          "text": [
            "✅ Loaded 'test.csv' into table 'test'\n",
            "🔢 Table 'test' has 3,370,464 rows.\n",
            "🔑 Candidate keys or join fields in 'test': ['id', 'store_nbr', 'item_nbr', 'date']\n"
          ]
        }
      ],
      "source": [
        "# Change this line per file\n",
        "filename = 'test.csv'\n",
        "file_path = os.path.join(path, filename)\n",
        "table_name = filename.replace('.csv', '')\n",
        "\n",
        "# Load CSV\n",
        "df = pd.read_csv(file_path, parse_dates=['date'])\n",
        "\n",
        "# ⏱️ Round date to nearest hour\n",
        "df['date'] = pd.to_datetime(df['date'], errors='coerce').dt.floor('H')\n",
        "\n",
        "# Save to SQL\n",
        "df.to_sql(table_name, conn, if_exists=\"replace\", index=False)\n",
        "print(f\"✅ Loaded '{filename}' into table '{table_name}'\")\n",
        "\n",
        "# Row count\n",
        "query = f\"SELECT COUNT(*) AS row_count FROM {table_name};\"\n",
        "row_count = pd.read_sql(query, conn).iloc[0, 0]\n",
        "print(f\"🔢 Table '{table_name}' has {row_count:,} rows.\")\n",
        "\n",
        "# Inspect for join keys\n",
        "columns = df.columns.tolist()\n",
        "primary_like = [col for col in columns if 'id' in col.lower() or 'nbr' in col.lower()]\n",
        "date_like = [col for col in columns if 'date' in col.lower()]\n",
        "possible_keys = primary_like + date_like\n",
        "\n",
        "if possible_keys:\n",
        "    print(f\"🔑 Candidate keys or join fields in '{table_name}': {possible_keys}\")\n",
        "else:\n",
        "    print(f\"ℹ️ No obvious join keys found in '{table_name}'\")"
      ]
    },
    {
      "cell_type": "code",
      "execution_count": null,
      "metadata": {
        "colab": {
          "base_uri": "https://localhost:8080/"
        },
        "id": "LrzPy2UiJa4h",
        "outputId": "d27a30f1-b8cc-4ff3-f231-19970d2a6e4c"
      },
      "outputs": [
        {
          "output_type": "stream",
          "name": "stdout",
          "text": [
            "✅ Loaded 'transactions.csv' into table 'transactions'\n",
            "🔢 Table 'transactions' has 83,488 rows.\n",
            "🔑 Candidate keys or join fields in 'transactions': ['store_nbr', 'date']\n"
          ]
        }
      ],
      "source": [
        "# Change this line per file\n",
        "filename = 'transactions.csv'\n",
        "file_path = os.path.join(path, filename)\n",
        "\n",
        "# Load CSV\n",
        "df = pd.read_csv(file_path)\n",
        "table_name = filename.replace('.csv', '')\n",
        "\n",
        "# Load to SQL\n",
        "df.to_sql(table_name, conn, if_exists=\"replace\", index=False)\n",
        "print(f\"✅ Loaded '{filename}' into table '{table_name}'\")\n",
        "\n",
        "# Row count\n",
        "query = f\"SELECT COUNT(*) AS row_count FROM {table_name};\"\n",
        "row_count_df = pd.read_sql(query, conn)\n",
        "row_count = row_count_df.iloc[0, 0]\n",
        "print(f\"🔢 Table '{table_name}' has {row_count:,} rows.\")\n",
        "\n",
        "# Inspect columns for key info\n",
        "columns = df.columns.tolist()\n",
        "primary_like = [col for col in columns if 'id' in col.lower() or 'nbr' in col.lower()]\n",
        "date_like = [col for col in columns if 'date' in col.lower()]\n",
        "possible_keys = primary_like + date_like\n",
        "\n",
        "# Show candidate keys\n",
        "if possible_keys:\n",
        "    print(f\"🔑 Candidate keys or join fields in '{table_name}': {possible_keys}\")\n",
        "else:\n",
        "    print(f\"ℹ️ No obvious join keys found in '{table_name}'\")"
      ]
    },
    {
      "cell_type": "code",
      "execution_count": null,
      "metadata": {
        "id": "lGU9r9AaD3lA"
      },
      "outputs": [],
      "source": [
        "del possible_keys\n",
        "del columns\n",
        "del date_like\n",
        "del primary_like\n",
        "del df\n",
        "del row_count_df\n",
        "del query"
      ]
    },
    {
      "cell_type": "markdown",
      "metadata": {
        "id": "9Bzg59poMH2Q"
      },
      "source": [
        "### train.csv is a big in this dataset - like 125 million rows"
      ]
    },
    {
      "cell_type": "code",
      "execution_count": null,
      "metadata": {
        "id": "2bGBq0SsVyvL"
      },
      "outputs": [],
      "source": [
        "# Paths and file setup\n",
        "filename = 'train.csv'\n",
        "file_path = os.path.join(path, filename)\n",
        "table_name = filename.replace('.csv', '')\n",
        "\n",
        "# Date filter range\n",
        "DATE_START = '2017-01-01'\n",
        "DATE_END = '2018-12-31'\n",
        "\n",
        "# Sampling + row cap\n",
        "SAMPLE_RATIO = 0.01\n",
        "MAX_ROWS = 100_000\n",
        "total_saved_rows = 0\n",
        "\n",
        "# Columns to keep from CSV\n",
        "columns_to_keep = ['date', 'store_nbr', 'item_nbr', 'unit_sales', 'onpromotion']"
      ]
    },
    {
      "cell_type": "code",
      "execution_count": null,
      "metadata": {
        "colab": {
          "base_uri": "https://localhost:8080/"
        },
        "id": "QOrWzKOqb0fU",
        "outputId": "5a92246a-e1e8-4b92-9c55-c0db0f3df4e1"
      },
      "outputs": [
        {
          "output_type": "stream",
          "name": "stdout",
          "text": [
            "ℹ️ Table 'train' exists and includes 'onpromotion'\n"
          ]
        }
      ],
      "source": [
        "# Connect to SQLite\n",
        "conn = sqlite3.connect(\"favorita.db\")\n",
        "cursor = conn.cursor()\n",
        "\n",
        "# Check if the table exists\n",
        "cursor.execute(f\"SELECT name FROM sqlite_master WHERE type='table' AND name='{table_name}'\")\n",
        "table_exists = cursor.fetchone()\n",
        "\n",
        "# If not exists, create it with correct schema\n",
        "if not table_exists:\n",
        "    create_sql = f\"\"\"\n",
        "        CREATE TABLE {table_name} (\n",
        "            date DATETIME,\n",
        "            store_nbr INTEGER,\n",
        "            item_nbr INTEGER,\n",
        "            unit_sales REAL,\n",
        "            onpromotion INTEGER\n",
        "        )\n",
        "    \"\"\"\n",
        "    conn.execute(create_sql)\n",
        "    print(f\"✅ Created table '{table_name}' with all expected columns\")\n",
        "else:\n",
        "    # Validate column schema\n",
        "    cursor.execute(f\"PRAGMA table_info({table_name})\")\n",
        "    existing_columns = [col[1] for col in cursor.fetchall()]\n",
        "    if 'onpromotion' not in existing_columns:\n",
        "        try:\n",
        "            conn.execute(f\"ALTER TABLE {table_name} ADD COLUMN onpromotion INTEGER\")\n",
        "            print(f\"➕ Added missing column 'onpromotion' to '{table_name}'\")\n",
        "        except sqlite3.OperationalError as e:\n",
        "            print(f\"⚠️ Could not alter table to add 'onpromotion': {e}\")\n",
        "    else:\n",
        "        print(f\"ℹ️ Table '{table_name}' exists and includes 'onpromotion'\")"
      ]
    },
    {
      "cell_type": "code",
      "execution_count": null,
      "metadata": {
        "colab": {
          "base_uri": "https://localhost:8080/"
        },
        "id": "AgERUzZBekYL",
        "outputId": "43423a57-bf31-4aef-878a-d197963f083a"
      },
      "outputs": [
        {
          "output_type": "stream",
          "name": "stderr",
          "text": [
            "<ipython-input-154-6059995e4f50>:4: DtypeWarning: Columns (5) have mixed types. Specify dtype option on import or set low_memory=False.\n",
            "  for chunk in chunks:\n",
            "<ipython-input-154-6059995e4f50>:11: FutureWarning: 'H' is deprecated and will be removed in a future version, please use 'h' instead.\n",
            "  chunk['date'] = pd.to_datetime(chunk['date'], errors='coerce').dt.floor('H')\n",
            "<ipython-input-154-6059995e4f50>:11: FutureWarning: 'H' is deprecated and will be removed in a future version, please use 'h' instead.\n",
            "  chunk['date'] = pd.to_datetime(chunk['date'], errors='coerce').dt.floor('H')\n",
            "<ipython-input-154-6059995e4f50>:11: FutureWarning: 'H' is deprecated and will be removed in a future version, please use 'h' instead.\n",
            "  chunk['date'] = pd.to_datetime(chunk['date'], errors='coerce').dt.floor('H')\n",
            "<ipython-input-154-6059995e4f50>:11: FutureWarning: 'H' is deprecated and will be removed in a future version, please use 'h' instead.\n",
            "  chunk['date'] = pd.to_datetime(chunk['date'], errors='coerce').dt.floor('H')\n",
            "<ipython-input-154-6059995e4f50>:11: FutureWarning: 'H' is deprecated and will be removed in a future version, please use 'h' instead.\n",
            "  chunk['date'] = pd.to_datetime(chunk['date'], errors='coerce').dt.floor('H')\n",
            "<ipython-input-154-6059995e4f50>:11: FutureWarning: 'H' is deprecated and will be removed in a future version, please use 'h' instead.\n",
            "  chunk['date'] = pd.to_datetime(chunk['date'], errors='coerce').dt.floor('H')\n",
            "<ipython-input-154-6059995e4f50>:11: FutureWarning: 'H' is deprecated and will be removed in a future version, please use 'h' instead.\n",
            "  chunk['date'] = pd.to_datetime(chunk['date'], errors='coerce').dt.floor('H')\n",
            "<ipython-input-154-6059995e4f50>:11: FutureWarning: 'H' is deprecated and will be removed in a future version, please use 'h' instead.\n",
            "  chunk['date'] = pd.to_datetime(chunk['date'], errors='coerce').dt.floor('H')\n",
            "<ipython-input-154-6059995e4f50>:11: FutureWarning: 'H' is deprecated and will be removed in a future version, please use 'h' instead.\n",
            "  chunk['date'] = pd.to_datetime(chunk['date'], errors='coerce').dt.floor('H')\n",
            "<ipython-input-154-6059995e4f50>:11: FutureWarning: 'H' is deprecated and will be removed in a future version, please use 'h' instead.\n",
            "  chunk['date'] = pd.to_datetime(chunk['date'], errors='coerce').dt.floor('H')\n",
            "<ipython-input-154-6059995e4f50>:11: FutureWarning: 'H' is deprecated and will be removed in a future version, please use 'h' instead.\n",
            "  chunk['date'] = pd.to_datetime(chunk['date'], errors='coerce').dt.floor('H')\n"
          ]
        },
        {
          "output_type": "stream",
          "name": "stdout",
          "text": [
            "✅ Loaded 100000 rows into 'train'\n"
          ]
        }
      ],
      "source": [
        "# Read CSV in chunks\n",
        "chunks = pd.read_csv(file_path, chunksize=1_000_000, parse_dates=['date'])\n",
        "\n",
        "for chunk in chunks:\n",
        "    # Filter date\n",
        "    chunk = chunk[(chunk['date'] >= DATE_START) & (chunk['date'] < DATE_END)]\n",
        "    if chunk.empty:\n",
        "        continue\n",
        "\n",
        "    # Round to hour\n",
        "    chunk['date'] = pd.to_datetime(chunk['date'], errors='coerce').dt.floor('H')\n",
        "\n",
        "    # Ensure onpromotion column\n",
        "    if 'onpromotion' not in chunk.columns:\n",
        "        chunk['onpromotion'] = 0\n",
        "    chunk['onpromotion'] = chunk['onpromotion'].fillna(False).astype('int8')  # Make it small\n",
        "\n",
        "    # Downcast numerics\n",
        "    chunk['store_nbr'] = pd.to_numeric(chunk['store_nbr'], downcast='integer')\n",
        "    chunk['item_nbr'] = pd.to_numeric(chunk['item_nbr'], downcast='integer')\n",
        "    chunk['unit_sales'] = pd.to_numeric(chunk['unit_sales'], downcast='float')\n",
        "\n",
        "    # Try float16 if it fits (warning: less precise)\n",
        "    if chunk['unit_sales'].max() < 65504:  # float16 upper limit\n",
        "        chunk['unit_sales'] = chunk['unit_sales'].astype('float16')\n",
        "\n",
        "    # Sample\n",
        "    chunk = chunk.sample(frac=SAMPLE_RATIO, random_state=42)\n",
        "\n",
        "    # Cap rows\n",
        "    if total_saved_rows + len(chunk) > MAX_ROWS:\n",
        "        chunk = chunk.iloc[:MAX_ROWS - total_saved_rows]\n",
        "\n",
        "    # Keep only expected columns\n",
        "    chunk = chunk[columns_to_keep]\n",
        "\n",
        "    # Save\n",
        "    chunk.to_sql(table_name, conn, if_exists='append', index=False)\n",
        "    total_saved_rows += len(chunk)\n",
        "\n",
        "    if total_saved_rows >= MAX_ROWS:\n",
        "        break\n",
        "\n",
        "print(f\"✅ Loaded {total_saved_rows} rows into '{table_name}'\")"
      ]
    },
    {
      "cell_type": "code",
      "execution_count": null,
      "metadata": {
        "id": "XXGusU1Nen9n"
      },
      "outputs": [],
      "source": [
        "chunk['onpromotion'] = chunk['onpromotion'].fillna(False).astype('int8')\n",
        "chunk['unit_sales'] = pd.to_numeric(chunk['unit_sales'], downcast='float')\n",
        "if chunk['unit_sales'].max() < 65504:\n",
        "    chunk['unit_sales'] = chunk['unit_sales'].astype('float16')"
      ]
    },
    {
      "cell_type": "code",
      "execution_count": null,
      "metadata": {
        "id": "J5mdvyI_Ercw"
      },
      "outputs": [],
      "source": [
        "del cursor"
      ]
    },
    {
      "cell_type": "code",
      "execution_count": null,
      "metadata": {
        "id": "1_yJMV62WELc",
        "colab": {
          "base_uri": "https://localhost:8080/"
        },
        "outputId": "b36e3677-4d72-4b3e-c0d1-59e2b040b015"
      },
      "outputs": [
        {
          "output_type": "stream",
          "name": "stdout",
          "text": [
            "🔢 Table 'train' has 600,000 rows.\n",
            "🔑 Candidate keys or join fields in 'train': ['date', 'store_nbr', 'item_nbr']\n"
          ]
        }
      ],
      "source": [
        "# Row count\n",
        "row_count = pd.read_sql(f\"SELECT COUNT(*) AS row_count FROM {table_name}\", conn).iloc[0, 0]\n",
        "print(f\"🔢 Table '{table_name}' has {row_count:,} rows.\")\n",
        "\n",
        "# Keys for join\n",
        "sample = pd.read_sql(f\"SELECT * FROM {table_name} LIMIT 5\", conn)\n",
        "columns = sample.columns.tolist()\n",
        "keys = [col for col in columns if 'id' in col.lower() or 'nbr' in col.lower() or 'date' in col.lower()]\n",
        "print(f\"🔑 Candidate keys or join fields in '{table_name}': {keys}\")"
      ]
    },
    {
      "cell_type": "code",
      "execution_count": null,
      "metadata": {
        "id": "tBoc10woaLhH",
        "colab": {
          "base_uri": "https://localhost:8080/"
        },
        "outputId": "b65c8d71-8d52-4f78-ad41-87f163693b03"
      },
      "outputs": [
        {
          "output_type": "stream",
          "name": "stdout",
          "text": [
            "🧮 train.csv has approximately 125,497,040 rows\n"
          ]
        }
      ],
      "source": [
        "row_count = sum(1 for _ in open(file_path)) - 1  # subtract 1 for header\n",
        "print(f\"🧮 train.csv has approximately {row_count:,} rows\")"
      ]
    },
    {
      "cell_type": "code",
      "execution_count": null,
      "metadata": {
        "id": "MSxNTauFExsN"
      },
      "outputs": [],
      "source": [
        "del row_count\n",
        "del sample\n",
        "del keys\n",
        "del columns"
      ]
    },
    {
      "cell_type": "code",
      "execution_count": null,
      "metadata": {
        "id": "EODH2cHVaoQy"
      },
      "outputs": [],
      "source": [
        "# file_path = os.path.join(path, 'train.csv')\n",
        "# size_bytes = os.path.getsize(file_path)\n",
        "# ize_mb = size_bytes / (1024 * 1024)\n",
        "\n",
        "# print(f\"📦 train.csv size: {size_mb:.2f} MB\")"
      ]
    },
    {
      "cell_type": "code",
      "execution_count": null,
      "metadata": {
        "id": "MPVlaH9Gh8-W",
        "colab": {
          "base_uri": "https://localhost:8080/"
        },
        "outputId": "431b808e-ec05-4fae-fffa-af325b4ced46"
      },
      "outputs": [
        {
          "output_type": "stream",
          "name": "stdout",
          "text": [
            "<class 'pandas.core.frame.DataFrame'>\n",
            "Index: 6888 entries, 111987231 to 111740474\n",
            "Data columns (total 5 columns):\n",
            " #   Column       Non-Null Count  Dtype         \n",
            "---  ------       --------------  -----         \n",
            " 0   date         6888 non-null   datetime64[ns]\n",
            " 1   store_nbr    6888 non-null   int8          \n",
            " 2   item_nbr     6888 non-null   int32         \n",
            " 3   unit_sales   6888 non-null   float16       \n",
            " 4   onpromotion  6888 non-null   int8          \n",
            "dtypes: datetime64[ns](1), float16(1), int32(1), int8(2)\n",
            "memory usage: 161.4 KB\n",
            "None\n"
          ]
        }
      ],
      "source": [
        "print(chunk.info(memory_usage='deep'))"
      ]
    },
    {
      "cell_type": "markdown",
      "metadata": {
        "id": "C7ONuOD_xfKO"
      },
      "source": [
        "## From SQL to DataFrame"
      ]
    },
    {
      "cell_type": "code",
      "execution_count": null,
      "metadata": {
        "id": "LTsvZ8lSsRkJ"
      },
      "outputs": [],
      "source": [
        "database_connection_string = \"sqlite:///favorita.db\"  # Assuming the database file is named 'favorita.db'\n",
        "\n",
        "# Create the engine\n",
        "engine = sa.create_engine(database_connection_string)"
      ]
    },
    {
      "cell_type": "markdown",
      "metadata": {
        "id": "9JR_Qc6J9-_B"
      },
      "source": [
        "### oil"
      ]
    },
    {
      "cell_type": "code",
      "execution_count": null,
      "metadata": {
        "id": "UoyISoF18Wtw"
      },
      "outputs": [],
      "source": [
        "query_oil = \"\"\"\n",
        "  SELECT *\n",
        "  FROM oil\n",
        "\"\"\""
      ]
    },
    {
      "cell_type": "code",
      "execution_count": null,
      "metadata": {
        "id": "Wn4nQkQJ8uoy",
        "colab": {
          "base_uri": "https://localhost:8080/"
        },
        "outputId": "2a3f23fa-9723-4f83-a69b-b459a5a83efe"
      },
      "outputs": [
        {
          "output_type": "execute_result",
          "data": {
            "text/plain": [
              "(1218, 2)"
            ]
          },
          "metadata": {},
          "execution_count": 164
        }
      ],
      "source": [
        "df_oil = pd.read_sql_query(query_oil, engine)\n",
        "df_oil.shape"
      ]
    },
    {
      "cell_type": "code",
      "execution_count": null,
      "metadata": {
        "id": "8q-v6tkr9Xw0",
        "colab": {
          "base_uri": "https://localhost:8080/",
          "height": 143
        },
        "outputId": "f82d4e68-e174-4767-dcf5-57bda19fa740"
      },
      "outputs": [
        {
          "output_type": "execute_result",
          "data": {
            "text/plain": [
              "            date  dcoilwtico\n",
              "547   2015-02-05       50.48\n",
              "1056  2017-01-18       51.12\n",
              "36    2013-02-20       94.92"
            ],
            "text/html": [
              "\n",
              "  <div id=\"df-661940e7-aea6-4849-98f2-3036e25c3e75\" class=\"colab-df-container\">\n",
              "    <div>\n",
              "<style scoped>\n",
              "    .dataframe tbody tr th:only-of-type {\n",
              "        vertical-align: middle;\n",
              "    }\n",
              "\n",
              "    .dataframe tbody tr th {\n",
              "        vertical-align: top;\n",
              "    }\n",
              "\n",
              "    .dataframe thead th {\n",
              "        text-align: right;\n",
              "    }\n",
              "</style>\n",
              "<table border=\"1\" class=\"dataframe\">\n",
              "  <thead>\n",
              "    <tr style=\"text-align: right;\">\n",
              "      <th></th>\n",
              "      <th>date</th>\n",
              "      <th>dcoilwtico</th>\n",
              "    </tr>\n",
              "  </thead>\n",
              "  <tbody>\n",
              "    <tr>\n",
              "      <th>547</th>\n",
              "      <td>2015-02-05</td>\n",
              "      <td>50.48</td>\n",
              "    </tr>\n",
              "    <tr>\n",
              "      <th>1056</th>\n",
              "      <td>2017-01-18</td>\n",
              "      <td>51.12</td>\n",
              "    </tr>\n",
              "    <tr>\n",
              "      <th>36</th>\n",
              "      <td>2013-02-20</td>\n",
              "      <td>94.92</td>\n",
              "    </tr>\n",
              "  </tbody>\n",
              "</table>\n",
              "</div>\n",
              "    <div class=\"colab-df-buttons\">\n",
              "\n",
              "  <div class=\"colab-df-container\">\n",
              "    <button class=\"colab-df-convert\" onclick=\"convertToInteractive('df-661940e7-aea6-4849-98f2-3036e25c3e75')\"\n",
              "            title=\"Convert this dataframe to an interactive table.\"\n",
              "            style=\"display:none;\">\n",
              "\n",
              "  <svg xmlns=\"http://www.w3.org/2000/svg\" height=\"24px\" viewBox=\"0 -960 960 960\">\n",
              "    <path d=\"M120-120v-720h720v720H120Zm60-500h600v-160H180v160Zm220 220h160v-160H400v160Zm0 220h160v-160H400v160ZM180-400h160v-160H180v160Zm440 0h160v-160H620v160ZM180-180h160v-160H180v160Zm440 0h160v-160H620v160Z\"/>\n",
              "  </svg>\n",
              "    </button>\n",
              "\n",
              "  <style>\n",
              "    .colab-df-container {\n",
              "      display:flex;\n",
              "      gap: 12px;\n",
              "    }\n",
              "\n",
              "    .colab-df-convert {\n",
              "      background-color: #E8F0FE;\n",
              "      border: none;\n",
              "      border-radius: 50%;\n",
              "      cursor: pointer;\n",
              "      display: none;\n",
              "      fill: #1967D2;\n",
              "      height: 32px;\n",
              "      padding: 0 0 0 0;\n",
              "      width: 32px;\n",
              "    }\n",
              "\n",
              "    .colab-df-convert:hover {\n",
              "      background-color: #E2EBFA;\n",
              "      box-shadow: 0px 1px 2px rgba(60, 64, 67, 0.3), 0px 1px 3px 1px rgba(60, 64, 67, 0.15);\n",
              "      fill: #174EA6;\n",
              "    }\n",
              "\n",
              "    .colab-df-buttons div {\n",
              "      margin-bottom: 4px;\n",
              "    }\n",
              "\n",
              "    [theme=dark] .colab-df-convert {\n",
              "      background-color: #3B4455;\n",
              "      fill: #D2E3FC;\n",
              "    }\n",
              "\n",
              "    [theme=dark] .colab-df-convert:hover {\n",
              "      background-color: #434B5C;\n",
              "      box-shadow: 0px 1px 3px 1px rgba(0, 0, 0, 0.15);\n",
              "      filter: drop-shadow(0px 1px 2px rgba(0, 0, 0, 0.3));\n",
              "      fill: #FFFFFF;\n",
              "    }\n",
              "  </style>\n",
              "\n",
              "    <script>\n",
              "      const buttonEl =\n",
              "        document.querySelector('#df-661940e7-aea6-4849-98f2-3036e25c3e75 button.colab-df-convert');\n",
              "      buttonEl.style.display =\n",
              "        google.colab.kernel.accessAllowed ? 'block' : 'none';\n",
              "\n",
              "      async function convertToInteractive(key) {\n",
              "        const element = document.querySelector('#df-661940e7-aea6-4849-98f2-3036e25c3e75');\n",
              "        const dataTable =\n",
              "          await google.colab.kernel.invokeFunction('convertToInteractive',\n",
              "                                                    [key], {});\n",
              "        if (!dataTable) return;\n",
              "\n",
              "        const docLinkHtml = 'Like what you see? Visit the ' +\n",
              "          '<a target=\"_blank\" href=https://colab.research.google.com/notebooks/data_table.ipynb>data table notebook</a>'\n",
              "          + ' to learn more about interactive tables.';\n",
              "        element.innerHTML = '';\n",
              "        dataTable['output_type'] = 'display_data';\n",
              "        await google.colab.output.renderOutput(dataTable, element);\n",
              "        const docLink = document.createElement('div');\n",
              "        docLink.innerHTML = docLinkHtml;\n",
              "        element.appendChild(docLink);\n",
              "      }\n",
              "    </script>\n",
              "  </div>\n",
              "\n",
              "\n",
              "    <div id=\"df-8debc191-6d57-415c-a1b1-304f5f68bf96\">\n",
              "      <button class=\"colab-df-quickchart\" onclick=\"quickchart('df-8debc191-6d57-415c-a1b1-304f5f68bf96')\"\n",
              "                title=\"Suggest charts\"\n",
              "                style=\"display:none;\">\n",
              "\n",
              "<svg xmlns=\"http://www.w3.org/2000/svg\" height=\"24px\"viewBox=\"0 0 24 24\"\n",
              "     width=\"24px\">\n",
              "    <g>\n",
              "        <path d=\"M19 3H5c-1.1 0-2 .9-2 2v14c0 1.1.9 2 2 2h14c1.1 0 2-.9 2-2V5c0-1.1-.9-2-2-2zM9 17H7v-7h2v7zm4 0h-2V7h2v10zm4 0h-2v-4h2v4z\"/>\n",
              "    </g>\n",
              "</svg>\n",
              "      </button>\n",
              "\n",
              "<style>\n",
              "  .colab-df-quickchart {\n",
              "      --bg-color: #E8F0FE;\n",
              "      --fill-color: #1967D2;\n",
              "      --hover-bg-color: #E2EBFA;\n",
              "      --hover-fill-color: #174EA6;\n",
              "      --disabled-fill-color: #AAA;\n",
              "      --disabled-bg-color: #DDD;\n",
              "  }\n",
              "\n",
              "  [theme=dark] .colab-df-quickchart {\n",
              "      --bg-color: #3B4455;\n",
              "      --fill-color: #D2E3FC;\n",
              "      --hover-bg-color: #434B5C;\n",
              "      --hover-fill-color: #FFFFFF;\n",
              "      --disabled-bg-color: #3B4455;\n",
              "      --disabled-fill-color: #666;\n",
              "  }\n",
              "\n",
              "  .colab-df-quickchart {\n",
              "    background-color: var(--bg-color);\n",
              "    border: none;\n",
              "    border-radius: 50%;\n",
              "    cursor: pointer;\n",
              "    display: none;\n",
              "    fill: var(--fill-color);\n",
              "    height: 32px;\n",
              "    padding: 0;\n",
              "    width: 32px;\n",
              "  }\n",
              "\n",
              "  .colab-df-quickchart:hover {\n",
              "    background-color: var(--hover-bg-color);\n",
              "    box-shadow: 0 1px 2px rgba(60, 64, 67, 0.3), 0 1px 3px 1px rgba(60, 64, 67, 0.15);\n",
              "    fill: var(--button-hover-fill-color);\n",
              "  }\n",
              "\n",
              "  .colab-df-quickchart-complete:disabled,\n",
              "  .colab-df-quickchart-complete:disabled:hover {\n",
              "    background-color: var(--disabled-bg-color);\n",
              "    fill: var(--disabled-fill-color);\n",
              "    box-shadow: none;\n",
              "  }\n",
              "\n",
              "  .colab-df-spinner {\n",
              "    border: 2px solid var(--fill-color);\n",
              "    border-color: transparent;\n",
              "    border-bottom-color: var(--fill-color);\n",
              "    animation:\n",
              "      spin 1s steps(1) infinite;\n",
              "  }\n",
              "\n",
              "  @keyframes spin {\n",
              "    0% {\n",
              "      border-color: transparent;\n",
              "      border-bottom-color: var(--fill-color);\n",
              "      border-left-color: var(--fill-color);\n",
              "    }\n",
              "    20% {\n",
              "      border-color: transparent;\n",
              "      border-left-color: var(--fill-color);\n",
              "      border-top-color: var(--fill-color);\n",
              "    }\n",
              "    30% {\n",
              "      border-color: transparent;\n",
              "      border-left-color: var(--fill-color);\n",
              "      border-top-color: var(--fill-color);\n",
              "      border-right-color: var(--fill-color);\n",
              "    }\n",
              "    40% {\n",
              "      border-color: transparent;\n",
              "      border-right-color: var(--fill-color);\n",
              "      border-top-color: var(--fill-color);\n",
              "    }\n",
              "    60% {\n",
              "      border-color: transparent;\n",
              "      border-right-color: var(--fill-color);\n",
              "    }\n",
              "    80% {\n",
              "      border-color: transparent;\n",
              "      border-right-color: var(--fill-color);\n",
              "      border-bottom-color: var(--fill-color);\n",
              "    }\n",
              "    90% {\n",
              "      border-color: transparent;\n",
              "      border-bottom-color: var(--fill-color);\n",
              "    }\n",
              "  }\n",
              "</style>\n",
              "\n",
              "      <script>\n",
              "        async function quickchart(key) {\n",
              "          const quickchartButtonEl =\n",
              "            document.querySelector('#' + key + ' button');\n",
              "          quickchartButtonEl.disabled = true;  // To prevent multiple clicks.\n",
              "          quickchartButtonEl.classList.add('colab-df-spinner');\n",
              "          try {\n",
              "            const charts = await google.colab.kernel.invokeFunction(\n",
              "                'suggestCharts', [key], {});\n",
              "          } catch (error) {\n",
              "            console.error('Error during call to suggestCharts:', error);\n",
              "          }\n",
              "          quickchartButtonEl.classList.remove('colab-df-spinner');\n",
              "          quickchartButtonEl.classList.add('colab-df-quickchart-complete');\n",
              "        }\n",
              "        (() => {\n",
              "          let quickchartButtonEl =\n",
              "            document.querySelector('#df-8debc191-6d57-415c-a1b1-304f5f68bf96 button');\n",
              "          quickchartButtonEl.style.display =\n",
              "            google.colab.kernel.accessAllowed ? 'block' : 'none';\n",
              "        })();\n",
              "      </script>\n",
              "    </div>\n",
              "\n",
              "    </div>\n",
              "  </div>\n"
            ],
            "application/vnd.google.colaboratory.intrinsic+json": {
              "type": "dataframe",
              "repr_error": "0"
            }
          },
          "metadata": {},
          "execution_count": 165
        }
      ],
      "source": [
        "df_oil.sample(3)"
      ]
    },
    {
      "cell_type": "code",
      "execution_count": null,
      "metadata": {
        "id": "OZY5PkjJX-Fg"
      },
      "outputs": [],
      "source": [
        "del query_oil\n",
        "del df_oil"
      ]
    },
    {
      "cell_type": "markdown",
      "metadata": {
        "id": "PHYsZnZL-Gev"
      },
      "source": [
        "### items"
      ]
    },
    {
      "cell_type": "code",
      "execution_count": null,
      "metadata": {
        "id": "WpQWftfT-K7Y"
      },
      "outputs": [],
      "source": [
        "query_items = \"\"\"\n",
        "  SELECT *\n",
        "  FROM items\n",
        "\"\"\""
      ]
    },
    {
      "cell_type": "code",
      "execution_count": null,
      "metadata": {
        "id": "IUujEajI-SLZ",
        "colab": {
          "base_uri": "https://localhost:8080/"
        },
        "outputId": "a49f6332-c9ce-46c1-d6ec-6271b18d929f"
      },
      "outputs": [
        {
          "output_type": "execute_result",
          "data": {
            "text/plain": [
              "(4100, 4)"
            ]
          },
          "metadata": {},
          "execution_count": 168
        }
      ],
      "source": [
        "df_items = pd.read_sql_query(query_items, engine)\n",
        "df_items.shape"
      ]
    },
    {
      "cell_type": "code",
      "execution_count": null,
      "metadata": {
        "id": "fbgq2ip3_Jo6",
        "colab": {
          "base_uri": "https://localhost:8080/",
          "height": 112
        },
        "outputId": "b9f722d5-e470-4ec1-c80b-4fe74ec0806d"
      },
      "outputs": [
        {
          "output_type": "execute_result",
          "data": {
            "text/plain": [
              "      item_nbr              family  class  perishable\n",
              "707     582865               MEATS   2302           1\n",
              "2345   1420007  HOME AND KITCHEN I   6266           0"
            ],
            "text/html": [
              "\n",
              "  <div id=\"df-0f9cec35-589d-4412-a2ec-824e73241de3\" class=\"colab-df-container\">\n",
              "    <div>\n",
              "<style scoped>\n",
              "    .dataframe tbody tr th:only-of-type {\n",
              "        vertical-align: middle;\n",
              "    }\n",
              "\n",
              "    .dataframe tbody tr th {\n",
              "        vertical-align: top;\n",
              "    }\n",
              "\n",
              "    .dataframe thead th {\n",
              "        text-align: right;\n",
              "    }\n",
              "</style>\n",
              "<table border=\"1\" class=\"dataframe\">\n",
              "  <thead>\n",
              "    <tr style=\"text-align: right;\">\n",
              "      <th></th>\n",
              "      <th>item_nbr</th>\n",
              "      <th>family</th>\n",
              "      <th>class</th>\n",
              "      <th>perishable</th>\n",
              "    </tr>\n",
              "  </thead>\n",
              "  <tbody>\n",
              "    <tr>\n",
              "      <th>707</th>\n",
              "      <td>582865</td>\n",
              "      <td>MEATS</td>\n",
              "      <td>2302</td>\n",
              "      <td>1</td>\n",
              "    </tr>\n",
              "    <tr>\n",
              "      <th>2345</th>\n",
              "      <td>1420007</td>\n",
              "      <td>HOME AND KITCHEN I</td>\n",
              "      <td>6266</td>\n",
              "      <td>0</td>\n",
              "    </tr>\n",
              "  </tbody>\n",
              "</table>\n",
              "</div>\n",
              "    <div class=\"colab-df-buttons\">\n",
              "\n",
              "  <div class=\"colab-df-container\">\n",
              "    <button class=\"colab-df-convert\" onclick=\"convertToInteractive('df-0f9cec35-589d-4412-a2ec-824e73241de3')\"\n",
              "            title=\"Convert this dataframe to an interactive table.\"\n",
              "            style=\"display:none;\">\n",
              "\n",
              "  <svg xmlns=\"http://www.w3.org/2000/svg\" height=\"24px\" viewBox=\"0 -960 960 960\">\n",
              "    <path d=\"M120-120v-720h720v720H120Zm60-500h600v-160H180v160Zm220 220h160v-160H400v160Zm0 220h160v-160H400v160ZM180-400h160v-160H180v160Zm440 0h160v-160H620v160ZM180-180h160v-160H180v160Zm440 0h160v-160H620v160Z\"/>\n",
              "  </svg>\n",
              "    </button>\n",
              "\n",
              "  <style>\n",
              "    .colab-df-container {\n",
              "      display:flex;\n",
              "      gap: 12px;\n",
              "    }\n",
              "\n",
              "    .colab-df-convert {\n",
              "      background-color: #E8F0FE;\n",
              "      border: none;\n",
              "      border-radius: 50%;\n",
              "      cursor: pointer;\n",
              "      display: none;\n",
              "      fill: #1967D2;\n",
              "      height: 32px;\n",
              "      padding: 0 0 0 0;\n",
              "      width: 32px;\n",
              "    }\n",
              "\n",
              "    .colab-df-convert:hover {\n",
              "      background-color: #E2EBFA;\n",
              "      box-shadow: 0px 1px 2px rgba(60, 64, 67, 0.3), 0px 1px 3px 1px rgba(60, 64, 67, 0.15);\n",
              "      fill: #174EA6;\n",
              "    }\n",
              "\n",
              "    .colab-df-buttons div {\n",
              "      margin-bottom: 4px;\n",
              "    }\n",
              "\n",
              "    [theme=dark] .colab-df-convert {\n",
              "      background-color: #3B4455;\n",
              "      fill: #D2E3FC;\n",
              "    }\n",
              "\n",
              "    [theme=dark] .colab-df-convert:hover {\n",
              "      background-color: #434B5C;\n",
              "      box-shadow: 0px 1px 3px 1px rgba(0, 0, 0, 0.15);\n",
              "      filter: drop-shadow(0px 1px 2px rgba(0, 0, 0, 0.3));\n",
              "      fill: #FFFFFF;\n",
              "    }\n",
              "  </style>\n",
              "\n",
              "    <script>\n",
              "      const buttonEl =\n",
              "        document.querySelector('#df-0f9cec35-589d-4412-a2ec-824e73241de3 button.colab-df-convert');\n",
              "      buttonEl.style.display =\n",
              "        google.colab.kernel.accessAllowed ? 'block' : 'none';\n",
              "\n",
              "      async function convertToInteractive(key) {\n",
              "        const element = document.querySelector('#df-0f9cec35-589d-4412-a2ec-824e73241de3');\n",
              "        const dataTable =\n",
              "          await google.colab.kernel.invokeFunction('convertToInteractive',\n",
              "                                                    [key], {});\n",
              "        if (!dataTable) return;\n",
              "\n",
              "        const docLinkHtml = 'Like what you see? Visit the ' +\n",
              "          '<a target=\"_blank\" href=https://colab.research.google.com/notebooks/data_table.ipynb>data table notebook</a>'\n",
              "          + ' to learn more about interactive tables.';\n",
              "        element.innerHTML = '';\n",
              "        dataTable['output_type'] = 'display_data';\n",
              "        await google.colab.output.renderOutput(dataTable, element);\n",
              "        const docLink = document.createElement('div');\n",
              "        docLink.innerHTML = docLinkHtml;\n",
              "        element.appendChild(docLink);\n",
              "      }\n",
              "    </script>\n",
              "  </div>\n",
              "\n",
              "\n",
              "    <div id=\"df-76f2d6f8-2006-4fd6-9823-2363b3441df0\">\n",
              "      <button class=\"colab-df-quickchart\" onclick=\"quickchart('df-76f2d6f8-2006-4fd6-9823-2363b3441df0')\"\n",
              "                title=\"Suggest charts\"\n",
              "                style=\"display:none;\">\n",
              "\n",
              "<svg xmlns=\"http://www.w3.org/2000/svg\" height=\"24px\"viewBox=\"0 0 24 24\"\n",
              "     width=\"24px\">\n",
              "    <g>\n",
              "        <path d=\"M19 3H5c-1.1 0-2 .9-2 2v14c0 1.1.9 2 2 2h14c1.1 0 2-.9 2-2V5c0-1.1-.9-2-2-2zM9 17H7v-7h2v7zm4 0h-2V7h2v10zm4 0h-2v-4h2v4z\"/>\n",
              "    </g>\n",
              "</svg>\n",
              "      </button>\n",
              "\n",
              "<style>\n",
              "  .colab-df-quickchart {\n",
              "      --bg-color: #E8F0FE;\n",
              "      --fill-color: #1967D2;\n",
              "      --hover-bg-color: #E2EBFA;\n",
              "      --hover-fill-color: #174EA6;\n",
              "      --disabled-fill-color: #AAA;\n",
              "      --disabled-bg-color: #DDD;\n",
              "  }\n",
              "\n",
              "  [theme=dark] .colab-df-quickchart {\n",
              "      --bg-color: #3B4455;\n",
              "      --fill-color: #D2E3FC;\n",
              "      --hover-bg-color: #434B5C;\n",
              "      --hover-fill-color: #FFFFFF;\n",
              "      --disabled-bg-color: #3B4455;\n",
              "      --disabled-fill-color: #666;\n",
              "  }\n",
              "\n",
              "  .colab-df-quickchart {\n",
              "    background-color: var(--bg-color);\n",
              "    border: none;\n",
              "    border-radius: 50%;\n",
              "    cursor: pointer;\n",
              "    display: none;\n",
              "    fill: var(--fill-color);\n",
              "    height: 32px;\n",
              "    padding: 0;\n",
              "    width: 32px;\n",
              "  }\n",
              "\n",
              "  .colab-df-quickchart:hover {\n",
              "    background-color: var(--hover-bg-color);\n",
              "    box-shadow: 0 1px 2px rgba(60, 64, 67, 0.3), 0 1px 3px 1px rgba(60, 64, 67, 0.15);\n",
              "    fill: var(--button-hover-fill-color);\n",
              "  }\n",
              "\n",
              "  .colab-df-quickchart-complete:disabled,\n",
              "  .colab-df-quickchart-complete:disabled:hover {\n",
              "    background-color: var(--disabled-bg-color);\n",
              "    fill: var(--disabled-fill-color);\n",
              "    box-shadow: none;\n",
              "  }\n",
              "\n",
              "  .colab-df-spinner {\n",
              "    border: 2px solid var(--fill-color);\n",
              "    border-color: transparent;\n",
              "    border-bottom-color: var(--fill-color);\n",
              "    animation:\n",
              "      spin 1s steps(1) infinite;\n",
              "  }\n",
              "\n",
              "  @keyframes spin {\n",
              "    0% {\n",
              "      border-color: transparent;\n",
              "      border-bottom-color: var(--fill-color);\n",
              "      border-left-color: var(--fill-color);\n",
              "    }\n",
              "    20% {\n",
              "      border-color: transparent;\n",
              "      border-left-color: var(--fill-color);\n",
              "      border-top-color: var(--fill-color);\n",
              "    }\n",
              "    30% {\n",
              "      border-color: transparent;\n",
              "      border-left-color: var(--fill-color);\n",
              "      border-top-color: var(--fill-color);\n",
              "      border-right-color: var(--fill-color);\n",
              "    }\n",
              "    40% {\n",
              "      border-color: transparent;\n",
              "      border-right-color: var(--fill-color);\n",
              "      border-top-color: var(--fill-color);\n",
              "    }\n",
              "    60% {\n",
              "      border-color: transparent;\n",
              "      border-right-color: var(--fill-color);\n",
              "    }\n",
              "    80% {\n",
              "      border-color: transparent;\n",
              "      border-right-color: var(--fill-color);\n",
              "      border-bottom-color: var(--fill-color);\n",
              "    }\n",
              "    90% {\n",
              "      border-color: transparent;\n",
              "      border-bottom-color: var(--fill-color);\n",
              "    }\n",
              "  }\n",
              "</style>\n",
              "\n",
              "      <script>\n",
              "        async function quickchart(key) {\n",
              "          const quickchartButtonEl =\n",
              "            document.querySelector('#' + key + ' button');\n",
              "          quickchartButtonEl.disabled = true;  // To prevent multiple clicks.\n",
              "          quickchartButtonEl.classList.add('colab-df-spinner');\n",
              "          try {\n",
              "            const charts = await google.colab.kernel.invokeFunction(\n",
              "                'suggestCharts', [key], {});\n",
              "          } catch (error) {\n",
              "            console.error('Error during call to suggestCharts:', error);\n",
              "          }\n",
              "          quickchartButtonEl.classList.remove('colab-df-spinner');\n",
              "          quickchartButtonEl.classList.add('colab-df-quickchart-complete');\n",
              "        }\n",
              "        (() => {\n",
              "          let quickchartButtonEl =\n",
              "            document.querySelector('#df-76f2d6f8-2006-4fd6-9823-2363b3441df0 button');\n",
              "          quickchartButtonEl.style.display =\n",
              "            google.colab.kernel.accessAllowed ? 'block' : 'none';\n",
              "        })();\n",
              "      </script>\n",
              "    </div>\n",
              "\n",
              "    </div>\n",
              "  </div>\n"
            ],
            "application/vnd.google.colaboratory.intrinsic+json": {
              "type": "dataframe",
              "summary": "{\n  \"name\": \"df_items\",\n  \"rows\": 2,\n  \"fields\": [\n    {\n      \"column\": \"item_nbr\",\n      \"properties\": {\n        \"dtype\": \"number\",\n        \"std\": 591948,\n        \"min\": 582865,\n        \"max\": 1420007,\n        \"num_unique_values\": 2,\n        \"samples\": [\n          1420007,\n          582865\n        ],\n        \"semantic_type\": \"\",\n        \"description\": \"\"\n      }\n    },\n    {\n      \"column\": \"family\",\n      \"properties\": {\n        \"dtype\": \"string\",\n        \"num_unique_values\": 2,\n        \"samples\": [\n          \"HOME AND KITCHEN I\",\n          \"MEATS\"\n        ],\n        \"semantic_type\": \"\",\n        \"description\": \"\"\n      }\n    },\n    {\n      \"column\": \"class\",\n      \"properties\": {\n        \"dtype\": \"number\",\n        \"std\": 2802,\n        \"min\": 2302,\n        \"max\": 6266,\n        \"num_unique_values\": 2,\n        \"samples\": [\n          6266,\n          2302\n        ],\n        \"semantic_type\": \"\",\n        \"description\": \"\"\n      }\n    },\n    {\n      \"column\": \"perishable\",\n      \"properties\": {\n        \"dtype\": \"number\",\n        \"std\": 0,\n        \"min\": 0,\n        \"max\": 1,\n        \"num_unique_values\": 2,\n        \"samples\": [\n          0,\n          1\n        ],\n        \"semantic_type\": \"\",\n        \"description\": \"\"\n      }\n    }\n  ]\n}"
            }
          },
          "metadata": {},
          "execution_count": 169
        }
      ],
      "source": [
        "df_items.sample(2)"
      ]
    },
    {
      "cell_type": "code",
      "execution_count": null,
      "metadata": {
        "id": "j9N1d22wYNpH"
      },
      "outputs": [],
      "source": [
        "del query_items\n",
        "del df_items"
      ]
    },
    {
      "cell_type": "markdown",
      "metadata": {
        "id": "IQfU1ZvJDxWc"
      },
      "source": [
        "### stores"
      ]
    },
    {
      "cell_type": "code",
      "execution_count": null,
      "metadata": {
        "id": "BWxKf0xwC_Qi"
      },
      "outputs": [],
      "source": [
        "query_stores = \"\"\"\n",
        "  SELECT *\n",
        "  FROM stores\n",
        "\"\"\""
      ]
    },
    {
      "cell_type": "code",
      "execution_count": null,
      "metadata": {
        "id": "q0uXngjpDIPe",
        "colab": {
          "base_uri": "https://localhost:8080/"
        },
        "outputId": "f083c9cd-757b-4553-888e-1a0321d4dff8"
      },
      "outputs": [
        {
          "output_type": "execute_result",
          "data": {
            "text/plain": [
              "(11, 5)"
            ]
          },
          "metadata": {},
          "execution_count": 172
        }
      ],
      "source": [
        "df_stores = pd.read_sql_query(query_stores, engine) # only Guayas\n",
        "df_stores.shape"
      ]
    },
    {
      "cell_type": "code",
      "execution_count": null,
      "metadata": {
        "id": "3Uv6eDUGDZUc",
        "colab": {
          "base_uri": "https://localhost:8080/",
          "height": 112
        },
        "outputId": "b6fe644c-2873-4660-eea1-4cd61acd74e8"
      },
      "outputs": [
        {
          "output_type": "execute_result",
          "data": {
            "text/plain": [
              "   store_nbr       city   state type  cluster\n",
              "3         28  Guayaquil  Guayas    E       10\n",
              "2         27      Daule  Guayas    D        1"
            ],
            "text/html": [
              "\n",
              "  <div id=\"df-3e0c6111-8cf7-49f5-9139-c2f75053e667\" class=\"colab-df-container\">\n",
              "    <div>\n",
              "<style scoped>\n",
              "    .dataframe tbody tr th:only-of-type {\n",
              "        vertical-align: middle;\n",
              "    }\n",
              "\n",
              "    .dataframe tbody tr th {\n",
              "        vertical-align: top;\n",
              "    }\n",
              "\n",
              "    .dataframe thead th {\n",
              "        text-align: right;\n",
              "    }\n",
              "</style>\n",
              "<table border=\"1\" class=\"dataframe\">\n",
              "  <thead>\n",
              "    <tr style=\"text-align: right;\">\n",
              "      <th></th>\n",
              "      <th>store_nbr</th>\n",
              "      <th>city</th>\n",
              "      <th>state</th>\n",
              "      <th>type</th>\n",
              "      <th>cluster</th>\n",
              "    </tr>\n",
              "  </thead>\n",
              "  <tbody>\n",
              "    <tr>\n",
              "      <th>3</th>\n",
              "      <td>28</td>\n",
              "      <td>Guayaquil</td>\n",
              "      <td>Guayas</td>\n",
              "      <td>E</td>\n",
              "      <td>10</td>\n",
              "    </tr>\n",
              "    <tr>\n",
              "      <th>2</th>\n",
              "      <td>27</td>\n",
              "      <td>Daule</td>\n",
              "      <td>Guayas</td>\n",
              "      <td>D</td>\n",
              "      <td>1</td>\n",
              "    </tr>\n",
              "  </tbody>\n",
              "</table>\n",
              "</div>\n",
              "    <div class=\"colab-df-buttons\">\n",
              "\n",
              "  <div class=\"colab-df-container\">\n",
              "    <button class=\"colab-df-convert\" onclick=\"convertToInteractive('df-3e0c6111-8cf7-49f5-9139-c2f75053e667')\"\n",
              "            title=\"Convert this dataframe to an interactive table.\"\n",
              "            style=\"display:none;\">\n",
              "\n",
              "  <svg xmlns=\"http://www.w3.org/2000/svg\" height=\"24px\" viewBox=\"0 -960 960 960\">\n",
              "    <path d=\"M120-120v-720h720v720H120Zm60-500h600v-160H180v160Zm220 220h160v-160H400v160Zm0 220h160v-160H400v160ZM180-400h160v-160H180v160Zm440 0h160v-160H620v160ZM180-180h160v-160H180v160Zm440 0h160v-160H620v160Z\"/>\n",
              "  </svg>\n",
              "    </button>\n",
              "\n",
              "  <style>\n",
              "    .colab-df-container {\n",
              "      display:flex;\n",
              "      gap: 12px;\n",
              "    }\n",
              "\n",
              "    .colab-df-convert {\n",
              "      background-color: #E8F0FE;\n",
              "      border: none;\n",
              "      border-radius: 50%;\n",
              "      cursor: pointer;\n",
              "      display: none;\n",
              "      fill: #1967D2;\n",
              "      height: 32px;\n",
              "      padding: 0 0 0 0;\n",
              "      width: 32px;\n",
              "    }\n",
              "\n",
              "    .colab-df-convert:hover {\n",
              "      background-color: #E2EBFA;\n",
              "      box-shadow: 0px 1px 2px rgba(60, 64, 67, 0.3), 0px 1px 3px 1px rgba(60, 64, 67, 0.15);\n",
              "      fill: #174EA6;\n",
              "    }\n",
              "\n",
              "    .colab-df-buttons div {\n",
              "      margin-bottom: 4px;\n",
              "    }\n",
              "\n",
              "    [theme=dark] .colab-df-convert {\n",
              "      background-color: #3B4455;\n",
              "      fill: #D2E3FC;\n",
              "    }\n",
              "\n",
              "    [theme=dark] .colab-df-convert:hover {\n",
              "      background-color: #434B5C;\n",
              "      box-shadow: 0px 1px 3px 1px rgba(0, 0, 0, 0.15);\n",
              "      filter: drop-shadow(0px 1px 2px rgba(0, 0, 0, 0.3));\n",
              "      fill: #FFFFFF;\n",
              "    }\n",
              "  </style>\n",
              "\n",
              "    <script>\n",
              "      const buttonEl =\n",
              "        document.querySelector('#df-3e0c6111-8cf7-49f5-9139-c2f75053e667 button.colab-df-convert');\n",
              "      buttonEl.style.display =\n",
              "        google.colab.kernel.accessAllowed ? 'block' : 'none';\n",
              "\n",
              "      async function convertToInteractive(key) {\n",
              "        const element = document.querySelector('#df-3e0c6111-8cf7-49f5-9139-c2f75053e667');\n",
              "        const dataTable =\n",
              "          await google.colab.kernel.invokeFunction('convertToInteractive',\n",
              "                                                    [key], {});\n",
              "        if (!dataTable) return;\n",
              "\n",
              "        const docLinkHtml = 'Like what you see? Visit the ' +\n",
              "          '<a target=\"_blank\" href=https://colab.research.google.com/notebooks/data_table.ipynb>data table notebook</a>'\n",
              "          + ' to learn more about interactive tables.';\n",
              "        element.innerHTML = '';\n",
              "        dataTable['output_type'] = 'display_data';\n",
              "        await google.colab.output.renderOutput(dataTable, element);\n",
              "        const docLink = document.createElement('div');\n",
              "        docLink.innerHTML = docLinkHtml;\n",
              "        element.appendChild(docLink);\n",
              "      }\n",
              "    </script>\n",
              "  </div>\n",
              "\n",
              "\n",
              "    <div id=\"df-98c27a70-29c0-418b-89a5-debc9ba5763c\">\n",
              "      <button class=\"colab-df-quickchart\" onclick=\"quickchart('df-98c27a70-29c0-418b-89a5-debc9ba5763c')\"\n",
              "                title=\"Suggest charts\"\n",
              "                style=\"display:none;\">\n",
              "\n",
              "<svg xmlns=\"http://www.w3.org/2000/svg\" height=\"24px\"viewBox=\"0 0 24 24\"\n",
              "     width=\"24px\">\n",
              "    <g>\n",
              "        <path d=\"M19 3H5c-1.1 0-2 .9-2 2v14c0 1.1.9 2 2 2h14c1.1 0 2-.9 2-2V5c0-1.1-.9-2-2-2zM9 17H7v-7h2v7zm4 0h-2V7h2v10zm4 0h-2v-4h2v4z\"/>\n",
              "    </g>\n",
              "</svg>\n",
              "      </button>\n",
              "\n",
              "<style>\n",
              "  .colab-df-quickchart {\n",
              "      --bg-color: #E8F0FE;\n",
              "      --fill-color: #1967D2;\n",
              "      --hover-bg-color: #E2EBFA;\n",
              "      --hover-fill-color: #174EA6;\n",
              "      --disabled-fill-color: #AAA;\n",
              "      --disabled-bg-color: #DDD;\n",
              "  }\n",
              "\n",
              "  [theme=dark] .colab-df-quickchart {\n",
              "      --bg-color: #3B4455;\n",
              "      --fill-color: #D2E3FC;\n",
              "      --hover-bg-color: #434B5C;\n",
              "      --hover-fill-color: #FFFFFF;\n",
              "      --disabled-bg-color: #3B4455;\n",
              "      --disabled-fill-color: #666;\n",
              "  }\n",
              "\n",
              "  .colab-df-quickchart {\n",
              "    background-color: var(--bg-color);\n",
              "    border: none;\n",
              "    border-radius: 50%;\n",
              "    cursor: pointer;\n",
              "    display: none;\n",
              "    fill: var(--fill-color);\n",
              "    height: 32px;\n",
              "    padding: 0;\n",
              "    width: 32px;\n",
              "  }\n",
              "\n",
              "  .colab-df-quickchart:hover {\n",
              "    background-color: var(--hover-bg-color);\n",
              "    box-shadow: 0 1px 2px rgba(60, 64, 67, 0.3), 0 1px 3px 1px rgba(60, 64, 67, 0.15);\n",
              "    fill: var(--button-hover-fill-color);\n",
              "  }\n",
              "\n",
              "  .colab-df-quickchart-complete:disabled,\n",
              "  .colab-df-quickchart-complete:disabled:hover {\n",
              "    background-color: var(--disabled-bg-color);\n",
              "    fill: var(--disabled-fill-color);\n",
              "    box-shadow: none;\n",
              "  }\n",
              "\n",
              "  .colab-df-spinner {\n",
              "    border: 2px solid var(--fill-color);\n",
              "    border-color: transparent;\n",
              "    border-bottom-color: var(--fill-color);\n",
              "    animation:\n",
              "      spin 1s steps(1) infinite;\n",
              "  }\n",
              "\n",
              "  @keyframes spin {\n",
              "    0% {\n",
              "      border-color: transparent;\n",
              "      border-bottom-color: var(--fill-color);\n",
              "      border-left-color: var(--fill-color);\n",
              "    }\n",
              "    20% {\n",
              "      border-color: transparent;\n",
              "      border-left-color: var(--fill-color);\n",
              "      border-top-color: var(--fill-color);\n",
              "    }\n",
              "    30% {\n",
              "      border-color: transparent;\n",
              "      border-left-color: var(--fill-color);\n",
              "      border-top-color: var(--fill-color);\n",
              "      border-right-color: var(--fill-color);\n",
              "    }\n",
              "    40% {\n",
              "      border-color: transparent;\n",
              "      border-right-color: var(--fill-color);\n",
              "      border-top-color: var(--fill-color);\n",
              "    }\n",
              "    60% {\n",
              "      border-color: transparent;\n",
              "      border-right-color: var(--fill-color);\n",
              "    }\n",
              "    80% {\n",
              "      border-color: transparent;\n",
              "      border-right-color: var(--fill-color);\n",
              "      border-bottom-color: var(--fill-color);\n",
              "    }\n",
              "    90% {\n",
              "      border-color: transparent;\n",
              "      border-bottom-color: var(--fill-color);\n",
              "    }\n",
              "  }\n",
              "</style>\n",
              "\n",
              "      <script>\n",
              "        async function quickchart(key) {\n",
              "          const quickchartButtonEl =\n",
              "            document.querySelector('#' + key + ' button');\n",
              "          quickchartButtonEl.disabled = true;  // To prevent multiple clicks.\n",
              "          quickchartButtonEl.classList.add('colab-df-spinner');\n",
              "          try {\n",
              "            const charts = await google.colab.kernel.invokeFunction(\n",
              "                'suggestCharts', [key], {});\n",
              "          } catch (error) {\n",
              "            console.error('Error during call to suggestCharts:', error);\n",
              "          }\n",
              "          quickchartButtonEl.classList.remove('colab-df-spinner');\n",
              "          quickchartButtonEl.classList.add('colab-df-quickchart-complete');\n",
              "        }\n",
              "        (() => {\n",
              "          let quickchartButtonEl =\n",
              "            document.querySelector('#df-98c27a70-29c0-418b-89a5-debc9ba5763c button');\n",
              "          quickchartButtonEl.style.display =\n",
              "            google.colab.kernel.accessAllowed ? 'block' : 'none';\n",
              "        })();\n",
              "      </script>\n",
              "    </div>\n",
              "\n",
              "    </div>\n",
              "  </div>\n"
            ],
            "application/vnd.google.colaboratory.intrinsic+json": {
              "type": "dataframe",
              "summary": "{\n  \"name\": \"df_stores\",\n  \"rows\": 2,\n  \"fields\": [\n    {\n      \"column\": \"store_nbr\",\n      \"properties\": {\n        \"dtype\": \"number\",\n        \"std\": 0,\n        \"min\": 27,\n        \"max\": 28,\n        \"num_unique_values\": 2,\n        \"samples\": [\n          27,\n          28\n        ],\n        \"semantic_type\": \"\",\n        \"description\": \"\"\n      }\n    },\n    {\n      \"column\": \"city\",\n      \"properties\": {\n        \"dtype\": \"string\",\n        \"num_unique_values\": 2,\n        \"samples\": [\n          \"Daule\",\n          \"Guayaquil\"\n        ],\n        \"semantic_type\": \"\",\n        \"description\": \"\"\n      }\n    },\n    {\n      \"column\": \"state\",\n      \"properties\": {\n        \"dtype\": \"string\",\n        \"num_unique_values\": 1,\n        \"samples\": [\n          \"Guayas\"\n        ],\n        \"semantic_type\": \"\",\n        \"description\": \"\"\n      }\n    },\n    {\n      \"column\": \"type\",\n      \"properties\": {\n        \"dtype\": \"string\",\n        \"num_unique_values\": 2,\n        \"samples\": [\n          \"D\"\n        ],\n        \"semantic_type\": \"\",\n        \"description\": \"\"\n      }\n    },\n    {\n      \"column\": \"cluster\",\n      \"properties\": {\n        \"dtype\": \"number\",\n        \"std\": 6,\n        \"min\": 1,\n        \"max\": 10,\n        \"num_unique_values\": 2,\n        \"samples\": [\n          1\n        ],\n        \"semantic_type\": \"\",\n        \"description\": \"\"\n      }\n    }\n  ]\n}"
            }
          },
          "metadata": {},
          "execution_count": 173
        }
      ],
      "source": [
        "df_stores.sample(2)"
      ]
    },
    {
      "cell_type": "code",
      "execution_count": null,
      "metadata": {
        "id": "V2BMhv8JiAp0"
      },
      "outputs": [],
      "source": [
        "del query_stores\n",
        "del df_stores"
      ]
    },
    {
      "cell_type": "markdown",
      "metadata": {
        "id": "vC9Cwf1sD1SJ"
      },
      "source": [
        "### holidays_events"
      ]
    },
    {
      "cell_type": "code",
      "execution_count": null,
      "metadata": {
        "id": "5_DsteEWEBDd"
      },
      "outputs": [],
      "source": [
        "query_holidays_events = \"\"\"\n",
        "  SELECT *\n",
        "  FROM holidays_events\n",
        "\"\"\""
      ]
    },
    {
      "cell_type": "code",
      "execution_count": null,
      "metadata": {
        "id": "QgzGFCXkEpYS",
        "colab": {
          "base_uri": "https://localhost:8080/"
        },
        "outputId": "4454a61f-8c96-487e-e03d-775fcf8caed5"
      },
      "outputs": [
        {
          "output_type": "execute_result",
          "data": {
            "text/plain": [
              "(350, 6)"
            ]
          },
          "metadata": {},
          "execution_count": 176
        }
      ],
      "source": [
        "df_holidays_events = pd.read_sql_query(query_holidays_events, engine)\n",
        "df_holidays_events.shape"
      ]
    },
    {
      "cell_type": "code",
      "execution_count": null,
      "metadata": {
        "id": "K9Km_Bs1Ewcd",
        "colab": {
          "base_uri": "https://localhost:8080/",
          "height": 112
        },
        "outputId": "fc4349a1-28b9-4edb-c1b1-6f27e04d421c"
      },
      "outputs": [
        {
          "output_type": "execute_result",
          "data": {
            "text/plain": [
              "           date     type locale locale_name               description  \\\n",
              "18   2012-10-07  Holiday  Local     Quevedo  Cantonizacion de Quevedo   \n",
              "111  2014-06-25  Holiday  Local     Machala      Fundacion de Machala   \n",
              "\n",
              "     transferred  \n",
              "18             0  \n",
              "111            0  "
            ],
            "text/html": [
              "\n",
              "  <div id=\"df-2ca26f9a-3447-4379-8ca4-25182533988d\" class=\"colab-df-container\">\n",
              "    <div>\n",
              "<style scoped>\n",
              "    .dataframe tbody tr th:only-of-type {\n",
              "        vertical-align: middle;\n",
              "    }\n",
              "\n",
              "    .dataframe tbody tr th {\n",
              "        vertical-align: top;\n",
              "    }\n",
              "\n",
              "    .dataframe thead th {\n",
              "        text-align: right;\n",
              "    }\n",
              "</style>\n",
              "<table border=\"1\" class=\"dataframe\">\n",
              "  <thead>\n",
              "    <tr style=\"text-align: right;\">\n",
              "      <th></th>\n",
              "      <th>date</th>\n",
              "      <th>type</th>\n",
              "      <th>locale</th>\n",
              "      <th>locale_name</th>\n",
              "      <th>description</th>\n",
              "      <th>transferred</th>\n",
              "    </tr>\n",
              "  </thead>\n",
              "  <tbody>\n",
              "    <tr>\n",
              "      <th>18</th>\n",
              "      <td>2012-10-07</td>\n",
              "      <td>Holiday</td>\n",
              "      <td>Local</td>\n",
              "      <td>Quevedo</td>\n",
              "      <td>Cantonizacion de Quevedo</td>\n",
              "      <td>0</td>\n",
              "    </tr>\n",
              "    <tr>\n",
              "      <th>111</th>\n",
              "      <td>2014-06-25</td>\n",
              "      <td>Holiday</td>\n",
              "      <td>Local</td>\n",
              "      <td>Machala</td>\n",
              "      <td>Fundacion de Machala</td>\n",
              "      <td>0</td>\n",
              "    </tr>\n",
              "  </tbody>\n",
              "</table>\n",
              "</div>\n",
              "    <div class=\"colab-df-buttons\">\n",
              "\n",
              "  <div class=\"colab-df-container\">\n",
              "    <button class=\"colab-df-convert\" onclick=\"convertToInteractive('df-2ca26f9a-3447-4379-8ca4-25182533988d')\"\n",
              "            title=\"Convert this dataframe to an interactive table.\"\n",
              "            style=\"display:none;\">\n",
              "\n",
              "  <svg xmlns=\"http://www.w3.org/2000/svg\" height=\"24px\" viewBox=\"0 -960 960 960\">\n",
              "    <path d=\"M120-120v-720h720v720H120Zm60-500h600v-160H180v160Zm220 220h160v-160H400v160Zm0 220h160v-160H400v160ZM180-400h160v-160H180v160Zm440 0h160v-160H620v160ZM180-180h160v-160H180v160Zm440 0h160v-160H620v160Z\"/>\n",
              "  </svg>\n",
              "    </button>\n",
              "\n",
              "  <style>\n",
              "    .colab-df-container {\n",
              "      display:flex;\n",
              "      gap: 12px;\n",
              "    }\n",
              "\n",
              "    .colab-df-convert {\n",
              "      background-color: #E8F0FE;\n",
              "      border: none;\n",
              "      border-radius: 50%;\n",
              "      cursor: pointer;\n",
              "      display: none;\n",
              "      fill: #1967D2;\n",
              "      height: 32px;\n",
              "      padding: 0 0 0 0;\n",
              "      width: 32px;\n",
              "    }\n",
              "\n",
              "    .colab-df-convert:hover {\n",
              "      background-color: #E2EBFA;\n",
              "      box-shadow: 0px 1px 2px rgba(60, 64, 67, 0.3), 0px 1px 3px 1px rgba(60, 64, 67, 0.15);\n",
              "      fill: #174EA6;\n",
              "    }\n",
              "\n",
              "    .colab-df-buttons div {\n",
              "      margin-bottom: 4px;\n",
              "    }\n",
              "\n",
              "    [theme=dark] .colab-df-convert {\n",
              "      background-color: #3B4455;\n",
              "      fill: #D2E3FC;\n",
              "    }\n",
              "\n",
              "    [theme=dark] .colab-df-convert:hover {\n",
              "      background-color: #434B5C;\n",
              "      box-shadow: 0px 1px 3px 1px rgba(0, 0, 0, 0.15);\n",
              "      filter: drop-shadow(0px 1px 2px rgba(0, 0, 0, 0.3));\n",
              "      fill: #FFFFFF;\n",
              "    }\n",
              "  </style>\n",
              "\n",
              "    <script>\n",
              "      const buttonEl =\n",
              "        document.querySelector('#df-2ca26f9a-3447-4379-8ca4-25182533988d button.colab-df-convert');\n",
              "      buttonEl.style.display =\n",
              "        google.colab.kernel.accessAllowed ? 'block' : 'none';\n",
              "\n",
              "      async function convertToInteractive(key) {\n",
              "        const element = document.querySelector('#df-2ca26f9a-3447-4379-8ca4-25182533988d');\n",
              "        const dataTable =\n",
              "          await google.colab.kernel.invokeFunction('convertToInteractive',\n",
              "                                                    [key], {});\n",
              "        if (!dataTable) return;\n",
              "\n",
              "        const docLinkHtml = 'Like what you see? Visit the ' +\n",
              "          '<a target=\"_blank\" href=https://colab.research.google.com/notebooks/data_table.ipynb>data table notebook</a>'\n",
              "          + ' to learn more about interactive tables.';\n",
              "        element.innerHTML = '';\n",
              "        dataTable['output_type'] = 'display_data';\n",
              "        await google.colab.output.renderOutput(dataTable, element);\n",
              "        const docLink = document.createElement('div');\n",
              "        docLink.innerHTML = docLinkHtml;\n",
              "        element.appendChild(docLink);\n",
              "      }\n",
              "    </script>\n",
              "  </div>\n",
              "\n",
              "\n",
              "    <div id=\"df-845ff572-a42d-40e8-9f38-0b74054e6e9f\">\n",
              "      <button class=\"colab-df-quickchart\" onclick=\"quickchart('df-845ff572-a42d-40e8-9f38-0b74054e6e9f')\"\n",
              "                title=\"Suggest charts\"\n",
              "                style=\"display:none;\">\n",
              "\n",
              "<svg xmlns=\"http://www.w3.org/2000/svg\" height=\"24px\"viewBox=\"0 0 24 24\"\n",
              "     width=\"24px\">\n",
              "    <g>\n",
              "        <path d=\"M19 3H5c-1.1 0-2 .9-2 2v14c0 1.1.9 2 2 2h14c1.1 0 2-.9 2-2V5c0-1.1-.9-2-2-2zM9 17H7v-7h2v7zm4 0h-2V7h2v10zm4 0h-2v-4h2v4z\"/>\n",
              "    </g>\n",
              "</svg>\n",
              "      </button>\n",
              "\n",
              "<style>\n",
              "  .colab-df-quickchart {\n",
              "      --bg-color: #E8F0FE;\n",
              "      --fill-color: #1967D2;\n",
              "      --hover-bg-color: #E2EBFA;\n",
              "      --hover-fill-color: #174EA6;\n",
              "      --disabled-fill-color: #AAA;\n",
              "      --disabled-bg-color: #DDD;\n",
              "  }\n",
              "\n",
              "  [theme=dark] .colab-df-quickchart {\n",
              "      --bg-color: #3B4455;\n",
              "      --fill-color: #D2E3FC;\n",
              "      --hover-bg-color: #434B5C;\n",
              "      --hover-fill-color: #FFFFFF;\n",
              "      --disabled-bg-color: #3B4455;\n",
              "      --disabled-fill-color: #666;\n",
              "  }\n",
              "\n",
              "  .colab-df-quickchart {\n",
              "    background-color: var(--bg-color);\n",
              "    border: none;\n",
              "    border-radius: 50%;\n",
              "    cursor: pointer;\n",
              "    display: none;\n",
              "    fill: var(--fill-color);\n",
              "    height: 32px;\n",
              "    padding: 0;\n",
              "    width: 32px;\n",
              "  }\n",
              "\n",
              "  .colab-df-quickchart:hover {\n",
              "    background-color: var(--hover-bg-color);\n",
              "    box-shadow: 0 1px 2px rgba(60, 64, 67, 0.3), 0 1px 3px 1px rgba(60, 64, 67, 0.15);\n",
              "    fill: var(--button-hover-fill-color);\n",
              "  }\n",
              "\n",
              "  .colab-df-quickchart-complete:disabled,\n",
              "  .colab-df-quickchart-complete:disabled:hover {\n",
              "    background-color: var(--disabled-bg-color);\n",
              "    fill: var(--disabled-fill-color);\n",
              "    box-shadow: none;\n",
              "  }\n",
              "\n",
              "  .colab-df-spinner {\n",
              "    border: 2px solid var(--fill-color);\n",
              "    border-color: transparent;\n",
              "    border-bottom-color: var(--fill-color);\n",
              "    animation:\n",
              "      spin 1s steps(1) infinite;\n",
              "  }\n",
              "\n",
              "  @keyframes spin {\n",
              "    0% {\n",
              "      border-color: transparent;\n",
              "      border-bottom-color: var(--fill-color);\n",
              "      border-left-color: var(--fill-color);\n",
              "    }\n",
              "    20% {\n",
              "      border-color: transparent;\n",
              "      border-left-color: var(--fill-color);\n",
              "      border-top-color: var(--fill-color);\n",
              "    }\n",
              "    30% {\n",
              "      border-color: transparent;\n",
              "      border-left-color: var(--fill-color);\n",
              "      border-top-color: var(--fill-color);\n",
              "      border-right-color: var(--fill-color);\n",
              "    }\n",
              "    40% {\n",
              "      border-color: transparent;\n",
              "      border-right-color: var(--fill-color);\n",
              "      border-top-color: var(--fill-color);\n",
              "    }\n",
              "    60% {\n",
              "      border-color: transparent;\n",
              "      border-right-color: var(--fill-color);\n",
              "    }\n",
              "    80% {\n",
              "      border-color: transparent;\n",
              "      border-right-color: var(--fill-color);\n",
              "      border-bottom-color: var(--fill-color);\n",
              "    }\n",
              "    90% {\n",
              "      border-color: transparent;\n",
              "      border-bottom-color: var(--fill-color);\n",
              "    }\n",
              "  }\n",
              "</style>\n",
              "\n",
              "      <script>\n",
              "        async function quickchart(key) {\n",
              "          const quickchartButtonEl =\n",
              "            document.querySelector('#' + key + ' button');\n",
              "          quickchartButtonEl.disabled = true;  // To prevent multiple clicks.\n",
              "          quickchartButtonEl.classList.add('colab-df-spinner');\n",
              "          try {\n",
              "            const charts = await google.colab.kernel.invokeFunction(\n",
              "                'suggestCharts', [key], {});\n",
              "          } catch (error) {\n",
              "            console.error('Error during call to suggestCharts:', error);\n",
              "          }\n",
              "          quickchartButtonEl.classList.remove('colab-df-spinner');\n",
              "          quickchartButtonEl.classList.add('colab-df-quickchart-complete');\n",
              "        }\n",
              "        (() => {\n",
              "          let quickchartButtonEl =\n",
              "            document.querySelector('#df-845ff572-a42d-40e8-9f38-0b74054e6e9f button');\n",
              "          quickchartButtonEl.style.display =\n",
              "            google.colab.kernel.accessAllowed ? 'block' : 'none';\n",
              "        })();\n",
              "      </script>\n",
              "    </div>\n",
              "\n",
              "    </div>\n",
              "  </div>\n"
            ],
            "application/vnd.google.colaboratory.intrinsic+json": {
              "type": "dataframe",
              "repr_error": "0"
            }
          },
          "metadata": {},
          "execution_count": 177
        }
      ],
      "source": [
        "df_holidays_events.sample(2)"
      ]
    },
    {
      "cell_type": "code",
      "execution_count": null,
      "metadata": {
        "id": "4ZhrDaKVE3TS",
        "colab": {
          "base_uri": "https://localhost:8080/"
        },
        "outputId": "1fdfc7ea-6961-4692-e392-b7e28d287e61"
      },
      "outputs": [
        {
          "output_type": "execute_result",
          "data": {
            "text/plain": [
              "2"
            ]
          },
          "metadata": {},
          "execution_count": 178
        }
      ],
      "source": [
        "df_holidays_events[\"transferred\"].nunique() # keep"
      ]
    },
    {
      "cell_type": "code",
      "execution_count": null,
      "metadata": {
        "id": "gBBSPMJjiKWX"
      },
      "outputs": [],
      "source": [
        "del query_holidays_events\n",
        "del df_holidays_events"
      ]
    },
    {
      "cell_type": "markdown",
      "metadata": {
        "id": "hz0VTn2HFblB"
      },
      "source": [
        "### transactions"
      ]
    },
    {
      "cell_type": "code",
      "execution_count": null,
      "metadata": {
        "id": "iXlB0B5sFuvw"
      },
      "outputs": [],
      "source": [
        "query_transactions = \"\"\"\n",
        "  SELECT *\n",
        "  FROM transactions\n",
        "\"\"\""
      ]
    },
    {
      "cell_type": "code",
      "execution_count": null,
      "metadata": {
        "id": "Oe6q5PcaF4gs",
        "colab": {
          "base_uri": "https://localhost:8080/"
        },
        "outputId": "8c88d1ac-4e90-431c-c53f-4560f9f287d4"
      },
      "outputs": [
        {
          "output_type": "execute_result",
          "data": {
            "text/plain": [
              "(83488, 3)"
            ]
          },
          "metadata": {},
          "execution_count": 181
        }
      ],
      "source": [
        "df_transactions = pd.read_sql_query(query_transactions, engine)\n",
        "df_transactions.shape"
      ]
    },
    {
      "cell_type": "code",
      "execution_count": null,
      "metadata": {
        "id": "0qCeocGBGNCa",
        "colab": {
          "base_uri": "https://localhost:8080/",
          "height": 112
        },
        "outputId": "aec94733-9c95-4b8b-f79e-7b5c2dd8a917"
      },
      "outputs": [
        {
          "output_type": "execute_result",
          "data": {
            "text/plain": [
              "             date  store_nbr  transactions\n",
              "60938  2016-06-13         19          1145\n",
              "70751  2016-12-18         50          3845"
            ],
            "text/html": [
              "\n",
              "  <div id=\"df-a365b47e-0821-4673-a3ea-ff63b81543a3\" class=\"colab-df-container\">\n",
              "    <div>\n",
              "<style scoped>\n",
              "    .dataframe tbody tr th:only-of-type {\n",
              "        vertical-align: middle;\n",
              "    }\n",
              "\n",
              "    .dataframe tbody tr th {\n",
              "        vertical-align: top;\n",
              "    }\n",
              "\n",
              "    .dataframe thead th {\n",
              "        text-align: right;\n",
              "    }\n",
              "</style>\n",
              "<table border=\"1\" class=\"dataframe\">\n",
              "  <thead>\n",
              "    <tr style=\"text-align: right;\">\n",
              "      <th></th>\n",
              "      <th>date</th>\n",
              "      <th>store_nbr</th>\n",
              "      <th>transactions</th>\n",
              "    </tr>\n",
              "  </thead>\n",
              "  <tbody>\n",
              "    <tr>\n",
              "      <th>60938</th>\n",
              "      <td>2016-06-13</td>\n",
              "      <td>19</td>\n",
              "      <td>1145</td>\n",
              "    </tr>\n",
              "    <tr>\n",
              "      <th>70751</th>\n",
              "      <td>2016-12-18</td>\n",
              "      <td>50</td>\n",
              "      <td>3845</td>\n",
              "    </tr>\n",
              "  </tbody>\n",
              "</table>\n",
              "</div>\n",
              "    <div class=\"colab-df-buttons\">\n",
              "\n",
              "  <div class=\"colab-df-container\">\n",
              "    <button class=\"colab-df-convert\" onclick=\"convertToInteractive('df-a365b47e-0821-4673-a3ea-ff63b81543a3')\"\n",
              "            title=\"Convert this dataframe to an interactive table.\"\n",
              "            style=\"display:none;\">\n",
              "\n",
              "  <svg xmlns=\"http://www.w3.org/2000/svg\" height=\"24px\" viewBox=\"0 -960 960 960\">\n",
              "    <path d=\"M120-120v-720h720v720H120Zm60-500h600v-160H180v160Zm220 220h160v-160H400v160Zm0 220h160v-160H400v160ZM180-400h160v-160H180v160Zm440 0h160v-160H620v160ZM180-180h160v-160H180v160Zm440 0h160v-160H620v160Z\"/>\n",
              "  </svg>\n",
              "    </button>\n",
              "\n",
              "  <style>\n",
              "    .colab-df-container {\n",
              "      display:flex;\n",
              "      gap: 12px;\n",
              "    }\n",
              "\n",
              "    .colab-df-convert {\n",
              "      background-color: #E8F0FE;\n",
              "      border: none;\n",
              "      border-radius: 50%;\n",
              "      cursor: pointer;\n",
              "      display: none;\n",
              "      fill: #1967D2;\n",
              "      height: 32px;\n",
              "      padding: 0 0 0 0;\n",
              "      width: 32px;\n",
              "    }\n",
              "\n",
              "    .colab-df-convert:hover {\n",
              "      background-color: #E2EBFA;\n",
              "      box-shadow: 0px 1px 2px rgba(60, 64, 67, 0.3), 0px 1px 3px 1px rgba(60, 64, 67, 0.15);\n",
              "      fill: #174EA6;\n",
              "    }\n",
              "\n",
              "    .colab-df-buttons div {\n",
              "      margin-bottom: 4px;\n",
              "    }\n",
              "\n",
              "    [theme=dark] .colab-df-convert {\n",
              "      background-color: #3B4455;\n",
              "      fill: #D2E3FC;\n",
              "    }\n",
              "\n",
              "    [theme=dark] .colab-df-convert:hover {\n",
              "      background-color: #434B5C;\n",
              "      box-shadow: 0px 1px 3px 1px rgba(0, 0, 0, 0.15);\n",
              "      filter: drop-shadow(0px 1px 2px rgba(0, 0, 0, 0.3));\n",
              "      fill: #FFFFFF;\n",
              "    }\n",
              "  </style>\n",
              "\n",
              "    <script>\n",
              "      const buttonEl =\n",
              "        document.querySelector('#df-a365b47e-0821-4673-a3ea-ff63b81543a3 button.colab-df-convert');\n",
              "      buttonEl.style.display =\n",
              "        google.colab.kernel.accessAllowed ? 'block' : 'none';\n",
              "\n",
              "      async function convertToInteractive(key) {\n",
              "        const element = document.querySelector('#df-a365b47e-0821-4673-a3ea-ff63b81543a3');\n",
              "        const dataTable =\n",
              "          await google.colab.kernel.invokeFunction('convertToInteractive',\n",
              "                                                    [key], {});\n",
              "        if (!dataTable) return;\n",
              "\n",
              "        const docLinkHtml = 'Like what you see? Visit the ' +\n",
              "          '<a target=\"_blank\" href=https://colab.research.google.com/notebooks/data_table.ipynb>data table notebook</a>'\n",
              "          + ' to learn more about interactive tables.';\n",
              "        element.innerHTML = '';\n",
              "        dataTable['output_type'] = 'display_data';\n",
              "        await google.colab.output.renderOutput(dataTable, element);\n",
              "        const docLink = document.createElement('div');\n",
              "        docLink.innerHTML = docLinkHtml;\n",
              "        element.appendChild(docLink);\n",
              "      }\n",
              "    </script>\n",
              "  </div>\n",
              "\n",
              "\n",
              "    <div id=\"df-73570aae-432a-41aa-8f92-768c4c30893a\">\n",
              "      <button class=\"colab-df-quickchart\" onclick=\"quickchart('df-73570aae-432a-41aa-8f92-768c4c30893a')\"\n",
              "                title=\"Suggest charts\"\n",
              "                style=\"display:none;\">\n",
              "\n",
              "<svg xmlns=\"http://www.w3.org/2000/svg\" height=\"24px\"viewBox=\"0 0 24 24\"\n",
              "     width=\"24px\">\n",
              "    <g>\n",
              "        <path d=\"M19 3H5c-1.1 0-2 .9-2 2v14c0 1.1.9 2 2 2h14c1.1 0 2-.9 2-2V5c0-1.1-.9-2-2-2zM9 17H7v-7h2v7zm4 0h-2V7h2v10zm4 0h-2v-4h2v4z\"/>\n",
              "    </g>\n",
              "</svg>\n",
              "      </button>\n",
              "\n",
              "<style>\n",
              "  .colab-df-quickchart {\n",
              "      --bg-color: #E8F0FE;\n",
              "      --fill-color: #1967D2;\n",
              "      --hover-bg-color: #E2EBFA;\n",
              "      --hover-fill-color: #174EA6;\n",
              "      --disabled-fill-color: #AAA;\n",
              "      --disabled-bg-color: #DDD;\n",
              "  }\n",
              "\n",
              "  [theme=dark] .colab-df-quickchart {\n",
              "      --bg-color: #3B4455;\n",
              "      --fill-color: #D2E3FC;\n",
              "      --hover-bg-color: #434B5C;\n",
              "      --hover-fill-color: #FFFFFF;\n",
              "      --disabled-bg-color: #3B4455;\n",
              "      --disabled-fill-color: #666;\n",
              "  }\n",
              "\n",
              "  .colab-df-quickchart {\n",
              "    background-color: var(--bg-color);\n",
              "    border: none;\n",
              "    border-radius: 50%;\n",
              "    cursor: pointer;\n",
              "    display: none;\n",
              "    fill: var(--fill-color);\n",
              "    height: 32px;\n",
              "    padding: 0;\n",
              "    width: 32px;\n",
              "  }\n",
              "\n",
              "  .colab-df-quickchart:hover {\n",
              "    background-color: var(--hover-bg-color);\n",
              "    box-shadow: 0 1px 2px rgba(60, 64, 67, 0.3), 0 1px 3px 1px rgba(60, 64, 67, 0.15);\n",
              "    fill: var(--button-hover-fill-color);\n",
              "  }\n",
              "\n",
              "  .colab-df-quickchart-complete:disabled,\n",
              "  .colab-df-quickchart-complete:disabled:hover {\n",
              "    background-color: var(--disabled-bg-color);\n",
              "    fill: var(--disabled-fill-color);\n",
              "    box-shadow: none;\n",
              "  }\n",
              "\n",
              "  .colab-df-spinner {\n",
              "    border: 2px solid var(--fill-color);\n",
              "    border-color: transparent;\n",
              "    border-bottom-color: var(--fill-color);\n",
              "    animation:\n",
              "      spin 1s steps(1) infinite;\n",
              "  }\n",
              "\n",
              "  @keyframes spin {\n",
              "    0% {\n",
              "      border-color: transparent;\n",
              "      border-bottom-color: var(--fill-color);\n",
              "      border-left-color: var(--fill-color);\n",
              "    }\n",
              "    20% {\n",
              "      border-color: transparent;\n",
              "      border-left-color: var(--fill-color);\n",
              "      border-top-color: var(--fill-color);\n",
              "    }\n",
              "    30% {\n",
              "      border-color: transparent;\n",
              "      border-left-color: var(--fill-color);\n",
              "      border-top-color: var(--fill-color);\n",
              "      border-right-color: var(--fill-color);\n",
              "    }\n",
              "    40% {\n",
              "      border-color: transparent;\n",
              "      border-right-color: var(--fill-color);\n",
              "      border-top-color: var(--fill-color);\n",
              "    }\n",
              "    60% {\n",
              "      border-color: transparent;\n",
              "      border-right-color: var(--fill-color);\n",
              "    }\n",
              "    80% {\n",
              "      border-color: transparent;\n",
              "      border-right-color: var(--fill-color);\n",
              "      border-bottom-color: var(--fill-color);\n",
              "    }\n",
              "    90% {\n",
              "      border-color: transparent;\n",
              "      border-bottom-color: var(--fill-color);\n",
              "    }\n",
              "  }\n",
              "</style>\n",
              "\n",
              "      <script>\n",
              "        async function quickchart(key) {\n",
              "          const quickchartButtonEl =\n",
              "            document.querySelector('#' + key + ' button');\n",
              "          quickchartButtonEl.disabled = true;  // To prevent multiple clicks.\n",
              "          quickchartButtonEl.classList.add('colab-df-spinner');\n",
              "          try {\n",
              "            const charts = await google.colab.kernel.invokeFunction(\n",
              "                'suggestCharts', [key], {});\n",
              "          } catch (error) {\n",
              "            console.error('Error during call to suggestCharts:', error);\n",
              "          }\n",
              "          quickchartButtonEl.classList.remove('colab-df-spinner');\n",
              "          quickchartButtonEl.classList.add('colab-df-quickchart-complete');\n",
              "        }\n",
              "        (() => {\n",
              "          let quickchartButtonEl =\n",
              "            document.querySelector('#df-73570aae-432a-41aa-8f92-768c4c30893a button');\n",
              "          quickchartButtonEl.style.display =\n",
              "            google.colab.kernel.accessAllowed ? 'block' : 'none';\n",
              "        })();\n",
              "      </script>\n",
              "    </div>\n",
              "\n",
              "    </div>\n",
              "  </div>\n"
            ],
            "application/vnd.google.colaboratory.intrinsic+json": {
              "type": "dataframe",
              "repr_error": "0"
            }
          },
          "metadata": {},
          "execution_count": 182
        }
      ],
      "source": [
        "df_transactions.sample(2)"
      ]
    },
    {
      "cell_type": "code",
      "execution_count": null,
      "metadata": {
        "id": "Y6l3T7XPiUi6"
      },
      "outputs": [],
      "source": [
        "del query_transactions\n",
        "del df_transactions"
      ]
    },
    {
      "cell_type": "markdown",
      "metadata": {
        "id": "kQEnb7FZGxkk"
      },
      "source": [
        "### sample_submission"
      ]
    },
    {
      "cell_type": "code",
      "execution_count": null,
      "metadata": {
        "id": "TfZRSBOPG4Fy"
      },
      "outputs": [],
      "source": [
        "query_sample_submission = \"\"\"\n",
        "  SELECT *\n",
        "  FROM sample_submission\n",
        "\"\"\""
      ]
    },
    {
      "cell_type": "code",
      "execution_count": null,
      "metadata": {
        "id": "m5SHmYouHdZl",
        "colab": {
          "base_uri": "https://localhost:8080/"
        },
        "outputId": "b613d269-4343-457e-a21b-cf9eb61e0058"
      },
      "outputs": [
        {
          "output_type": "execute_result",
          "data": {
            "text/plain": [
              "(3370464, 2)"
            ]
          },
          "metadata": {},
          "execution_count": 185
        }
      ],
      "source": [
        "df_sample_submission = pd.read_sql_query(query_sample_submission, engine)\n",
        "df_sample_submission.shape"
      ]
    },
    {
      "cell_type": "code",
      "execution_count": null,
      "metadata": {
        "id": "IsqZVBoAH9X6",
        "colab": {
          "base_uri": "https://localhost:8080/",
          "height": 112
        },
        "outputId": "d9ff374e-c738-4869-b036-62d03c52f670"
      },
      "outputs": [
        {
          "output_type": "execute_result",
          "data": {
            "text/plain": [
              "                id  unit_sales\n",
              "1471252  126968292           0\n",
              "2697493  128194533           0"
            ],
            "text/html": [
              "\n",
              "  <div id=\"df-60aab4f9-246a-4d0e-bc64-4081d31883e2\" class=\"colab-df-container\">\n",
              "    <div>\n",
              "<style scoped>\n",
              "    .dataframe tbody tr th:only-of-type {\n",
              "        vertical-align: middle;\n",
              "    }\n",
              "\n",
              "    .dataframe tbody tr th {\n",
              "        vertical-align: top;\n",
              "    }\n",
              "\n",
              "    .dataframe thead th {\n",
              "        text-align: right;\n",
              "    }\n",
              "</style>\n",
              "<table border=\"1\" class=\"dataframe\">\n",
              "  <thead>\n",
              "    <tr style=\"text-align: right;\">\n",
              "      <th></th>\n",
              "      <th>id</th>\n",
              "      <th>unit_sales</th>\n",
              "    </tr>\n",
              "  </thead>\n",
              "  <tbody>\n",
              "    <tr>\n",
              "      <th>1471252</th>\n",
              "      <td>126968292</td>\n",
              "      <td>0</td>\n",
              "    </tr>\n",
              "    <tr>\n",
              "      <th>2697493</th>\n",
              "      <td>128194533</td>\n",
              "      <td>0</td>\n",
              "    </tr>\n",
              "  </tbody>\n",
              "</table>\n",
              "</div>\n",
              "    <div class=\"colab-df-buttons\">\n",
              "\n",
              "  <div class=\"colab-df-container\">\n",
              "    <button class=\"colab-df-convert\" onclick=\"convertToInteractive('df-60aab4f9-246a-4d0e-bc64-4081d31883e2')\"\n",
              "            title=\"Convert this dataframe to an interactive table.\"\n",
              "            style=\"display:none;\">\n",
              "\n",
              "  <svg xmlns=\"http://www.w3.org/2000/svg\" height=\"24px\" viewBox=\"0 -960 960 960\">\n",
              "    <path d=\"M120-120v-720h720v720H120Zm60-500h600v-160H180v160Zm220 220h160v-160H400v160Zm0 220h160v-160H400v160ZM180-400h160v-160H180v160Zm440 0h160v-160H620v160ZM180-180h160v-160H180v160Zm440 0h160v-160H620v160Z\"/>\n",
              "  </svg>\n",
              "    </button>\n",
              "\n",
              "  <style>\n",
              "    .colab-df-container {\n",
              "      display:flex;\n",
              "      gap: 12px;\n",
              "    }\n",
              "\n",
              "    .colab-df-convert {\n",
              "      background-color: #E8F0FE;\n",
              "      border: none;\n",
              "      border-radius: 50%;\n",
              "      cursor: pointer;\n",
              "      display: none;\n",
              "      fill: #1967D2;\n",
              "      height: 32px;\n",
              "      padding: 0 0 0 0;\n",
              "      width: 32px;\n",
              "    }\n",
              "\n",
              "    .colab-df-convert:hover {\n",
              "      background-color: #E2EBFA;\n",
              "      box-shadow: 0px 1px 2px rgba(60, 64, 67, 0.3), 0px 1px 3px 1px rgba(60, 64, 67, 0.15);\n",
              "      fill: #174EA6;\n",
              "    }\n",
              "\n",
              "    .colab-df-buttons div {\n",
              "      margin-bottom: 4px;\n",
              "    }\n",
              "\n",
              "    [theme=dark] .colab-df-convert {\n",
              "      background-color: #3B4455;\n",
              "      fill: #D2E3FC;\n",
              "    }\n",
              "\n",
              "    [theme=dark] .colab-df-convert:hover {\n",
              "      background-color: #434B5C;\n",
              "      box-shadow: 0px 1px 3px 1px rgba(0, 0, 0, 0.15);\n",
              "      filter: drop-shadow(0px 1px 2px rgba(0, 0, 0, 0.3));\n",
              "      fill: #FFFFFF;\n",
              "    }\n",
              "  </style>\n",
              "\n",
              "    <script>\n",
              "      const buttonEl =\n",
              "        document.querySelector('#df-60aab4f9-246a-4d0e-bc64-4081d31883e2 button.colab-df-convert');\n",
              "      buttonEl.style.display =\n",
              "        google.colab.kernel.accessAllowed ? 'block' : 'none';\n",
              "\n",
              "      async function convertToInteractive(key) {\n",
              "        const element = document.querySelector('#df-60aab4f9-246a-4d0e-bc64-4081d31883e2');\n",
              "        const dataTable =\n",
              "          await google.colab.kernel.invokeFunction('convertToInteractive',\n",
              "                                                    [key], {});\n",
              "        if (!dataTable) return;\n",
              "\n",
              "        const docLinkHtml = 'Like what you see? Visit the ' +\n",
              "          '<a target=\"_blank\" href=https://colab.research.google.com/notebooks/data_table.ipynb>data table notebook</a>'\n",
              "          + ' to learn more about interactive tables.';\n",
              "        element.innerHTML = '';\n",
              "        dataTable['output_type'] = 'display_data';\n",
              "        await google.colab.output.renderOutput(dataTable, element);\n",
              "        const docLink = document.createElement('div');\n",
              "        docLink.innerHTML = docLinkHtml;\n",
              "        element.appendChild(docLink);\n",
              "      }\n",
              "    </script>\n",
              "  </div>\n",
              "\n",
              "\n",
              "    <div id=\"df-ef02ab03-dbe1-4f0e-912e-8bf3b17f3ad2\">\n",
              "      <button class=\"colab-df-quickchart\" onclick=\"quickchart('df-ef02ab03-dbe1-4f0e-912e-8bf3b17f3ad2')\"\n",
              "                title=\"Suggest charts\"\n",
              "                style=\"display:none;\">\n",
              "\n",
              "<svg xmlns=\"http://www.w3.org/2000/svg\" height=\"24px\"viewBox=\"0 0 24 24\"\n",
              "     width=\"24px\">\n",
              "    <g>\n",
              "        <path d=\"M19 3H5c-1.1 0-2 .9-2 2v14c0 1.1.9 2 2 2h14c1.1 0 2-.9 2-2V5c0-1.1-.9-2-2-2zM9 17H7v-7h2v7zm4 0h-2V7h2v10zm4 0h-2v-4h2v4z\"/>\n",
              "    </g>\n",
              "</svg>\n",
              "      </button>\n",
              "\n",
              "<style>\n",
              "  .colab-df-quickchart {\n",
              "      --bg-color: #E8F0FE;\n",
              "      --fill-color: #1967D2;\n",
              "      --hover-bg-color: #E2EBFA;\n",
              "      --hover-fill-color: #174EA6;\n",
              "      --disabled-fill-color: #AAA;\n",
              "      --disabled-bg-color: #DDD;\n",
              "  }\n",
              "\n",
              "  [theme=dark] .colab-df-quickchart {\n",
              "      --bg-color: #3B4455;\n",
              "      --fill-color: #D2E3FC;\n",
              "      --hover-bg-color: #434B5C;\n",
              "      --hover-fill-color: #FFFFFF;\n",
              "      --disabled-bg-color: #3B4455;\n",
              "      --disabled-fill-color: #666;\n",
              "  }\n",
              "\n",
              "  .colab-df-quickchart {\n",
              "    background-color: var(--bg-color);\n",
              "    border: none;\n",
              "    border-radius: 50%;\n",
              "    cursor: pointer;\n",
              "    display: none;\n",
              "    fill: var(--fill-color);\n",
              "    height: 32px;\n",
              "    padding: 0;\n",
              "    width: 32px;\n",
              "  }\n",
              "\n",
              "  .colab-df-quickchart:hover {\n",
              "    background-color: var(--hover-bg-color);\n",
              "    box-shadow: 0 1px 2px rgba(60, 64, 67, 0.3), 0 1px 3px 1px rgba(60, 64, 67, 0.15);\n",
              "    fill: var(--button-hover-fill-color);\n",
              "  }\n",
              "\n",
              "  .colab-df-quickchart-complete:disabled,\n",
              "  .colab-df-quickchart-complete:disabled:hover {\n",
              "    background-color: var(--disabled-bg-color);\n",
              "    fill: var(--disabled-fill-color);\n",
              "    box-shadow: none;\n",
              "  }\n",
              "\n",
              "  .colab-df-spinner {\n",
              "    border: 2px solid var(--fill-color);\n",
              "    border-color: transparent;\n",
              "    border-bottom-color: var(--fill-color);\n",
              "    animation:\n",
              "      spin 1s steps(1) infinite;\n",
              "  }\n",
              "\n",
              "  @keyframes spin {\n",
              "    0% {\n",
              "      border-color: transparent;\n",
              "      border-bottom-color: var(--fill-color);\n",
              "      border-left-color: var(--fill-color);\n",
              "    }\n",
              "    20% {\n",
              "      border-color: transparent;\n",
              "      border-left-color: var(--fill-color);\n",
              "      border-top-color: var(--fill-color);\n",
              "    }\n",
              "    30% {\n",
              "      border-color: transparent;\n",
              "      border-left-color: var(--fill-color);\n",
              "      border-top-color: var(--fill-color);\n",
              "      border-right-color: var(--fill-color);\n",
              "    }\n",
              "    40% {\n",
              "      border-color: transparent;\n",
              "      border-right-color: var(--fill-color);\n",
              "      border-top-color: var(--fill-color);\n",
              "    }\n",
              "    60% {\n",
              "      border-color: transparent;\n",
              "      border-right-color: var(--fill-color);\n",
              "    }\n",
              "    80% {\n",
              "      border-color: transparent;\n",
              "      border-right-color: var(--fill-color);\n",
              "      border-bottom-color: var(--fill-color);\n",
              "    }\n",
              "    90% {\n",
              "      border-color: transparent;\n",
              "      border-bottom-color: var(--fill-color);\n",
              "    }\n",
              "  }\n",
              "</style>\n",
              "\n",
              "      <script>\n",
              "        async function quickchart(key) {\n",
              "          const quickchartButtonEl =\n",
              "            document.querySelector('#' + key + ' button');\n",
              "          quickchartButtonEl.disabled = true;  // To prevent multiple clicks.\n",
              "          quickchartButtonEl.classList.add('colab-df-spinner');\n",
              "          try {\n",
              "            const charts = await google.colab.kernel.invokeFunction(\n",
              "                'suggestCharts', [key], {});\n",
              "          } catch (error) {\n",
              "            console.error('Error during call to suggestCharts:', error);\n",
              "          }\n",
              "          quickchartButtonEl.classList.remove('colab-df-spinner');\n",
              "          quickchartButtonEl.classList.add('colab-df-quickchart-complete');\n",
              "        }\n",
              "        (() => {\n",
              "          let quickchartButtonEl =\n",
              "            document.querySelector('#df-ef02ab03-dbe1-4f0e-912e-8bf3b17f3ad2 button');\n",
              "          quickchartButtonEl.style.display =\n",
              "            google.colab.kernel.accessAllowed ? 'block' : 'none';\n",
              "        })();\n",
              "      </script>\n",
              "    </div>\n",
              "\n",
              "    </div>\n",
              "  </div>\n"
            ],
            "application/vnd.google.colaboratory.intrinsic+json": {
              "type": "dataframe",
              "summary": "{\n  \"name\": \"df_sample_submission\",\n  \"rows\": 2,\n  \"fields\": [\n    {\n      \"column\": \"id\",\n      \"properties\": {\n        \"dtype\": \"number\",\n        \"std\": 867083,\n        \"min\": 126968292,\n        \"max\": 128194533,\n        \"num_unique_values\": 2,\n        \"samples\": [\n          128194533,\n          126968292\n        ],\n        \"semantic_type\": \"\",\n        \"description\": \"\"\n      }\n    },\n    {\n      \"column\": \"unit_sales\",\n      \"properties\": {\n        \"dtype\": \"number\",\n        \"std\": 0,\n        \"min\": 0,\n        \"max\": 0,\n        \"num_unique_values\": 1,\n        \"samples\": [\n          0\n        ],\n        \"semantic_type\": \"\",\n        \"description\": \"\"\n      }\n    }\n  ]\n}"
            }
          },
          "metadata": {},
          "execution_count": 186
        }
      ],
      "source": [
        "df_sample_submission.sample(2)"
      ]
    },
    {
      "cell_type": "code",
      "execution_count": null,
      "metadata": {
        "id": "EiIsvUMCII4J",
        "colab": {
          "base_uri": "https://localhost:8080/"
        },
        "outputId": "183804df-ca49-4596-9b7a-fa0b1f09968d"
      },
      "outputs": [
        {
          "output_type": "execute_result",
          "data": {
            "text/plain": [
              "1"
            ]
          },
          "metadata": {},
          "execution_count": 187
        }
      ],
      "source": [
        "df_sample_submission[\"unit_sales\"].nunique()"
      ]
    },
    {
      "cell_type": "code",
      "execution_count": null,
      "metadata": {
        "id": "Y_znic07ieVs"
      },
      "outputs": [],
      "source": [
        "del query_sample_submission\n",
        "del df_sample_submission"
      ]
    },
    {
      "cell_type": "markdown",
      "metadata": {
        "id": "EQ4B9mgMJr5Y"
      },
      "source": [
        "### test"
      ]
    },
    {
      "cell_type": "code",
      "execution_count": null,
      "metadata": {
        "id": "0sRA5fbIJwhe"
      },
      "outputs": [],
      "source": [
        "query_test_only = \"\"\"\n",
        "  SELECT *\n",
        "  FROM test\n",
        "\"\"\""
      ]
    },
    {
      "cell_type": "code",
      "execution_count": null,
      "metadata": {
        "id": "GaZ3LVepKV4R",
        "colab": {
          "base_uri": "https://localhost:8080/"
        },
        "outputId": "20cff9f9-ebc6-404a-c128-ebd6cbc101b6"
      },
      "outputs": [
        {
          "output_type": "execute_result",
          "data": {
            "text/plain": [
              "(3370464, 5)"
            ]
          },
          "metadata": {},
          "execution_count": 190
        }
      ],
      "source": [
        "df_test_only = pd.read_sql_query(query_test_only, engine)\n",
        "df_test_only.shape"
      ]
    },
    {
      "cell_type": "code",
      "execution_count": null,
      "metadata": {
        "id": "76NhlTrjKs_I",
        "colab": {
          "base_uri": "https://localhost:8080/",
          "height": 112
        },
        "outputId": "3abb908a-17bf-410a-e69d-b78a8be94e14"
      },
      "outputs": [
        {
          "output_type": "execute_result",
          "data": {
            "text/plain": [
              "                id                 date  store_nbr  item_nbr  onpromotion\n",
              "3327579  128824619  2017-08-31 00:00:00         44    112830            0\n",
              "320128   125817168  2017-08-17 00:00:00         29    268834            0"
            ],
            "text/html": [
              "\n",
              "  <div id=\"df-6164ea3a-4857-4a25-a195-e7e0a5cd3b87\" class=\"colab-df-container\">\n",
              "    <div>\n",
              "<style scoped>\n",
              "    .dataframe tbody tr th:only-of-type {\n",
              "        vertical-align: middle;\n",
              "    }\n",
              "\n",
              "    .dataframe tbody tr th {\n",
              "        vertical-align: top;\n",
              "    }\n",
              "\n",
              "    .dataframe thead th {\n",
              "        text-align: right;\n",
              "    }\n",
              "</style>\n",
              "<table border=\"1\" class=\"dataframe\">\n",
              "  <thead>\n",
              "    <tr style=\"text-align: right;\">\n",
              "      <th></th>\n",
              "      <th>id</th>\n",
              "      <th>date</th>\n",
              "      <th>store_nbr</th>\n",
              "      <th>item_nbr</th>\n",
              "      <th>onpromotion</th>\n",
              "    </tr>\n",
              "  </thead>\n",
              "  <tbody>\n",
              "    <tr>\n",
              "      <th>3327579</th>\n",
              "      <td>128824619</td>\n",
              "      <td>2017-08-31 00:00:00</td>\n",
              "      <td>44</td>\n",
              "      <td>112830</td>\n",
              "      <td>0</td>\n",
              "    </tr>\n",
              "    <tr>\n",
              "      <th>320128</th>\n",
              "      <td>125817168</td>\n",
              "      <td>2017-08-17 00:00:00</td>\n",
              "      <td>29</td>\n",
              "      <td>268834</td>\n",
              "      <td>0</td>\n",
              "    </tr>\n",
              "  </tbody>\n",
              "</table>\n",
              "</div>\n",
              "    <div class=\"colab-df-buttons\">\n",
              "\n",
              "  <div class=\"colab-df-container\">\n",
              "    <button class=\"colab-df-convert\" onclick=\"convertToInteractive('df-6164ea3a-4857-4a25-a195-e7e0a5cd3b87')\"\n",
              "            title=\"Convert this dataframe to an interactive table.\"\n",
              "            style=\"display:none;\">\n",
              "\n",
              "  <svg xmlns=\"http://www.w3.org/2000/svg\" height=\"24px\" viewBox=\"0 -960 960 960\">\n",
              "    <path d=\"M120-120v-720h720v720H120Zm60-500h600v-160H180v160Zm220 220h160v-160H400v160Zm0 220h160v-160H400v160ZM180-400h160v-160H180v160Zm440 0h160v-160H620v160ZM180-180h160v-160H180v160Zm440 0h160v-160H620v160Z\"/>\n",
              "  </svg>\n",
              "    </button>\n",
              "\n",
              "  <style>\n",
              "    .colab-df-container {\n",
              "      display:flex;\n",
              "      gap: 12px;\n",
              "    }\n",
              "\n",
              "    .colab-df-convert {\n",
              "      background-color: #E8F0FE;\n",
              "      border: none;\n",
              "      border-radius: 50%;\n",
              "      cursor: pointer;\n",
              "      display: none;\n",
              "      fill: #1967D2;\n",
              "      height: 32px;\n",
              "      padding: 0 0 0 0;\n",
              "      width: 32px;\n",
              "    }\n",
              "\n",
              "    .colab-df-convert:hover {\n",
              "      background-color: #E2EBFA;\n",
              "      box-shadow: 0px 1px 2px rgba(60, 64, 67, 0.3), 0px 1px 3px 1px rgba(60, 64, 67, 0.15);\n",
              "      fill: #174EA6;\n",
              "    }\n",
              "\n",
              "    .colab-df-buttons div {\n",
              "      margin-bottom: 4px;\n",
              "    }\n",
              "\n",
              "    [theme=dark] .colab-df-convert {\n",
              "      background-color: #3B4455;\n",
              "      fill: #D2E3FC;\n",
              "    }\n",
              "\n",
              "    [theme=dark] .colab-df-convert:hover {\n",
              "      background-color: #434B5C;\n",
              "      box-shadow: 0px 1px 3px 1px rgba(0, 0, 0, 0.15);\n",
              "      filter: drop-shadow(0px 1px 2px rgba(0, 0, 0, 0.3));\n",
              "      fill: #FFFFFF;\n",
              "    }\n",
              "  </style>\n",
              "\n",
              "    <script>\n",
              "      const buttonEl =\n",
              "        document.querySelector('#df-6164ea3a-4857-4a25-a195-e7e0a5cd3b87 button.colab-df-convert');\n",
              "      buttonEl.style.display =\n",
              "        google.colab.kernel.accessAllowed ? 'block' : 'none';\n",
              "\n",
              "      async function convertToInteractive(key) {\n",
              "        const element = document.querySelector('#df-6164ea3a-4857-4a25-a195-e7e0a5cd3b87');\n",
              "        const dataTable =\n",
              "          await google.colab.kernel.invokeFunction('convertToInteractive',\n",
              "                                                    [key], {});\n",
              "        if (!dataTable) return;\n",
              "\n",
              "        const docLinkHtml = 'Like what you see? Visit the ' +\n",
              "          '<a target=\"_blank\" href=https://colab.research.google.com/notebooks/data_table.ipynb>data table notebook</a>'\n",
              "          + ' to learn more about interactive tables.';\n",
              "        element.innerHTML = '';\n",
              "        dataTable['output_type'] = 'display_data';\n",
              "        await google.colab.output.renderOutput(dataTable, element);\n",
              "        const docLink = document.createElement('div');\n",
              "        docLink.innerHTML = docLinkHtml;\n",
              "        element.appendChild(docLink);\n",
              "      }\n",
              "    </script>\n",
              "  </div>\n",
              "\n",
              "\n",
              "    <div id=\"df-b1307f5a-5540-42bc-9fad-dd05f2d606b5\">\n",
              "      <button class=\"colab-df-quickchart\" onclick=\"quickchart('df-b1307f5a-5540-42bc-9fad-dd05f2d606b5')\"\n",
              "                title=\"Suggest charts\"\n",
              "                style=\"display:none;\">\n",
              "\n",
              "<svg xmlns=\"http://www.w3.org/2000/svg\" height=\"24px\"viewBox=\"0 0 24 24\"\n",
              "     width=\"24px\">\n",
              "    <g>\n",
              "        <path d=\"M19 3H5c-1.1 0-2 .9-2 2v14c0 1.1.9 2 2 2h14c1.1 0 2-.9 2-2V5c0-1.1-.9-2-2-2zM9 17H7v-7h2v7zm4 0h-2V7h2v10zm4 0h-2v-4h2v4z\"/>\n",
              "    </g>\n",
              "</svg>\n",
              "      </button>\n",
              "\n",
              "<style>\n",
              "  .colab-df-quickchart {\n",
              "      --bg-color: #E8F0FE;\n",
              "      --fill-color: #1967D2;\n",
              "      --hover-bg-color: #E2EBFA;\n",
              "      --hover-fill-color: #174EA6;\n",
              "      --disabled-fill-color: #AAA;\n",
              "      --disabled-bg-color: #DDD;\n",
              "  }\n",
              "\n",
              "  [theme=dark] .colab-df-quickchart {\n",
              "      --bg-color: #3B4455;\n",
              "      --fill-color: #D2E3FC;\n",
              "      --hover-bg-color: #434B5C;\n",
              "      --hover-fill-color: #FFFFFF;\n",
              "      --disabled-bg-color: #3B4455;\n",
              "      --disabled-fill-color: #666;\n",
              "  }\n",
              "\n",
              "  .colab-df-quickchart {\n",
              "    background-color: var(--bg-color);\n",
              "    border: none;\n",
              "    border-radius: 50%;\n",
              "    cursor: pointer;\n",
              "    display: none;\n",
              "    fill: var(--fill-color);\n",
              "    height: 32px;\n",
              "    padding: 0;\n",
              "    width: 32px;\n",
              "  }\n",
              "\n",
              "  .colab-df-quickchart:hover {\n",
              "    background-color: var(--hover-bg-color);\n",
              "    box-shadow: 0 1px 2px rgba(60, 64, 67, 0.3), 0 1px 3px 1px rgba(60, 64, 67, 0.15);\n",
              "    fill: var(--button-hover-fill-color);\n",
              "  }\n",
              "\n",
              "  .colab-df-quickchart-complete:disabled,\n",
              "  .colab-df-quickchart-complete:disabled:hover {\n",
              "    background-color: var(--disabled-bg-color);\n",
              "    fill: var(--disabled-fill-color);\n",
              "    box-shadow: none;\n",
              "  }\n",
              "\n",
              "  .colab-df-spinner {\n",
              "    border: 2px solid var(--fill-color);\n",
              "    border-color: transparent;\n",
              "    border-bottom-color: var(--fill-color);\n",
              "    animation:\n",
              "      spin 1s steps(1) infinite;\n",
              "  }\n",
              "\n",
              "  @keyframes spin {\n",
              "    0% {\n",
              "      border-color: transparent;\n",
              "      border-bottom-color: var(--fill-color);\n",
              "      border-left-color: var(--fill-color);\n",
              "    }\n",
              "    20% {\n",
              "      border-color: transparent;\n",
              "      border-left-color: var(--fill-color);\n",
              "      border-top-color: var(--fill-color);\n",
              "    }\n",
              "    30% {\n",
              "      border-color: transparent;\n",
              "      border-left-color: var(--fill-color);\n",
              "      border-top-color: var(--fill-color);\n",
              "      border-right-color: var(--fill-color);\n",
              "    }\n",
              "    40% {\n",
              "      border-color: transparent;\n",
              "      border-right-color: var(--fill-color);\n",
              "      border-top-color: var(--fill-color);\n",
              "    }\n",
              "    60% {\n",
              "      border-color: transparent;\n",
              "      border-right-color: var(--fill-color);\n",
              "    }\n",
              "    80% {\n",
              "      border-color: transparent;\n",
              "      border-right-color: var(--fill-color);\n",
              "      border-bottom-color: var(--fill-color);\n",
              "    }\n",
              "    90% {\n",
              "      border-color: transparent;\n",
              "      border-bottom-color: var(--fill-color);\n",
              "    }\n",
              "  }\n",
              "</style>\n",
              "\n",
              "      <script>\n",
              "        async function quickchart(key) {\n",
              "          const quickchartButtonEl =\n",
              "            document.querySelector('#' + key + ' button');\n",
              "          quickchartButtonEl.disabled = true;  // To prevent multiple clicks.\n",
              "          quickchartButtonEl.classList.add('colab-df-spinner');\n",
              "          try {\n",
              "            const charts = await google.colab.kernel.invokeFunction(\n",
              "                'suggestCharts', [key], {});\n",
              "          } catch (error) {\n",
              "            console.error('Error during call to suggestCharts:', error);\n",
              "          }\n",
              "          quickchartButtonEl.classList.remove('colab-df-spinner');\n",
              "          quickchartButtonEl.classList.add('colab-df-quickchart-complete');\n",
              "        }\n",
              "        (() => {\n",
              "          let quickchartButtonEl =\n",
              "            document.querySelector('#df-b1307f5a-5540-42bc-9fad-dd05f2d606b5 button');\n",
              "          quickchartButtonEl.style.display =\n",
              "            google.colab.kernel.accessAllowed ? 'block' : 'none';\n",
              "        })();\n",
              "      </script>\n",
              "    </div>\n",
              "\n",
              "    </div>\n",
              "  </div>\n"
            ],
            "application/vnd.google.colaboratory.intrinsic+json": {
              "type": "dataframe",
              "repr_error": "0"
            }
          },
          "metadata": {},
          "execution_count": 191
        }
      ],
      "source": [
        "df_test_only.sample(2)"
      ]
    },
    {
      "cell_type": "code",
      "execution_count": null,
      "metadata": {
        "id": "rdO-l2G_MIcZ"
      },
      "outputs": [],
      "source": [
        "df_test_only[\"date\"] = pd.to_datetime(df_test_only[\"date\"], errors='coerce').dt.date"
      ]
    },
    {
      "cell_type": "code",
      "execution_count": null,
      "metadata": {
        "id": "NomcAx2jjFJW",
        "colab": {
          "base_uri": "https://localhost:8080/"
        },
        "outputId": "e49756cb-bb6d-4621-f14b-53edf9a8ab80"
      },
      "outputs": [
        {
          "output_type": "stream",
          "name": "stdout",
          "text": [
            "🕓 Min date: 2017-08-16\n",
            "🕔 Max date: 2017-08-31\n"
          ]
        }
      ],
      "source": [
        "print(\"🕓 Min date:\", df_test_only[\"date\"].min())\n",
        "print(\"🕔 Max date:\", df_test_only[\"date\"].max())"
      ]
    },
    {
      "cell_type": "code",
      "execution_count": null,
      "metadata": {
        "id": "ERG9q59ULcOe",
        "colab": {
          "base_uri": "https://localhost:8080/",
          "height": 112
        },
        "outputId": "00ec0678-2ca6-4b25-92e1-29826e61ff33"
      },
      "outputs": [
        {
          "output_type": "execute_result",
          "data": {
            "text/plain": [
              "               id        date  store_nbr  item_nbr  onpromotion\n",
              "387026  125884066  2017-08-17         46    679926            0\n",
              "917375  126414415  2017-08-20         20    559494            1"
            ],
            "text/html": [
              "\n",
              "  <div id=\"df-66e7e720-dc4e-4c02-8af3-6939bd461475\" class=\"colab-df-container\">\n",
              "    <div>\n",
              "<style scoped>\n",
              "    .dataframe tbody tr th:only-of-type {\n",
              "        vertical-align: middle;\n",
              "    }\n",
              "\n",
              "    .dataframe tbody tr th {\n",
              "        vertical-align: top;\n",
              "    }\n",
              "\n",
              "    .dataframe thead th {\n",
              "        text-align: right;\n",
              "    }\n",
              "</style>\n",
              "<table border=\"1\" class=\"dataframe\">\n",
              "  <thead>\n",
              "    <tr style=\"text-align: right;\">\n",
              "      <th></th>\n",
              "      <th>id</th>\n",
              "      <th>date</th>\n",
              "      <th>store_nbr</th>\n",
              "      <th>item_nbr</th>\n",
              "      <th>onpromotion</th>\n",
              "    </tr>\n",
              "  </thead>\n",
              "  <tbody>\n",
              "    <tr>\n",
              "      <th>387026</th>\n",
              "      <td>125884066</td>\n",
              "      <td>2017-08-17</td>\n",
              "      <td>46</td>\n",
              "      <td>679926</td>\n",
              "      <td>0</td>\n",
              "    </tr>\n",
              "    <tr>\n",
              "      <th>917375</th>\n",
              "      <td>126414415</td>\n",
              "      <td>2017-08-20</td>\n",
              "      <td>20</td>\n",
              "      <td>559494</td>\n",
              "      <td>1</td>\n",
              "    </tr>\n",
              "  </tbody>\n",
              "</table>\n",
              "</div>\n",
              "    <div class=\"colab-df-buttons\">\n",
              "\n",
              "  <div class=\"colab-df-container\">\n",
              "    <button class=\"colab-df-convert\" onclick=\"convertToInteractive('df-66e7e720-dc4e-4c02-8af3-6939bd461475')\"\n",
              "            title=\"Convert this dataframe to an interactive table.\"\n",
              "            style=\"display:none;\">\n",
              "\n",
              "  <svg xmlns=\"http://www.w3.org/2000/svg\" height=\"24px\" viewBox=\"0 -960 960 960\">\n",
              "    <path d=\"M120-120v-720h720v720H120Zm60-500h600v-160H180v160Zm220 220h160v-160H400v160Zm0 220h160v-160H400v160ZM180-400h160v-160H180v160Zm440 0h160v-160H620v160ZM180-180h160v-160H180v160Zm440 0h160v-160H620v160Z\"/>\n",
              "  </svg>\n",
              "    </button>\n",
              "\n",
              "  <style>\n",
              "    .colab-df-container {\n",
              "      display:flex;\n",
              "      gap: 12px;\n",
              "    }\n",
              "\n",
              "    .colab-df-convert {\n",
              "      background-color: #E8F0FE;\n",
              "      border: none;\n",
              "      border-radius: 50%;\n",
              "      cursor: pointer;\n",
              "      display: none;\n",
              "      fill: #1967D2;\n",
              "      height: 32px;\n",
              "      padding: 0 0 0 0;\n",
              "      width: 32px;\n",
              "    }\n",
              "\n",
              "    .colab-df-convert:hover {\n",
              "      background-color: #E2EBFA;\n",
              "      box-shadow: 0px 1px 2px rgba(60, 64, 67, 0.3), 0px 1px 3px 1px rgba(60, 64, 67, 0.15);\n",
              "      fill: #174EA6;\n",
              "    }\n",
              "\n",
              "    .colab-df-buttons div {\n",
              "      margin-bottom: 4px;\n",
              "    }\n",
              "\n",
              "    [theme=dark] .colab-df-convert {\n",
              "      background-color: #3B4455;\n",
              "      fill: #D2E3FC;\n",
              "    }\n",
              "\n",
              "    [theme=dark] .colab-df-convert:hover {\n",
              "      background-color: #434B5C;\n",
              "      box-shadow: 0px 1px 3px 1px rgba(0, 0, 0, 0.15);\n",
              "      filter: drop-shadow(0px 1px 2px rgba(0, 0, 0, 0.3));\n",
              "      fill: #FFFFFF;\n",
              "    }\n",
              "  </style>\n",
              "\n",
              "    <script>\n",
              "      const buttonEl =\n",
              "        document.querySelector('#df-66e7e720-dc4e-4c02-8af3-6939bd461475 button.colab-df-convert');\n",
              "      buttonEl.style.display =\n",
              "        google.colab.kernel.accessAllowed ? 'block' : 'none';\n",
              "\n",
              "      async function convertToInteractive(key) {\n",
              "        const element = document.querySelector('#df-66e7e720-dc4e-4c02-8af3-6939bd461475');\n",
              "        const dataTable =\n",
              "          await google.colab.kernel.invokeFunction('convertToInteractive',\n",
              "                                                    [key], {});\n",
              "        if (!dataTable) return;\n",
              "\n",
              "        const docLinkHtml = 'Like what you see? Visit the ' +\n",
              "          '<a target=\"_blank\" href=https://colab.research.google.com/notebooks/data_table.ipynb>data table notebook</a>'\n",
              "          + ' to learn more about interactive tables.';\n",
              "        element.innerHTML = '';\n",
              "        dataTable['output_type'] = 'display_data';\n",
              "        await google.colab.output.renderOutput(dataTable, element);\n",
              "        const docLink = document.createElement('div');\n",
              "        docLink.innerHTML = docLinkHtml;\n",
              "        element.appendChild(docLink);\n",
              "      }\n",
              "    </script>\n",
              "  </div>\n",
              "\n",
              "\n",
              "    <div id=\"df-33c97bf5-9d0c-48dc-b061-2164a51d1707\">\n",
              "      <button class=\"colab-df-quickchart\" onclick=\"quickchart('df-33c97bf5-9d0c-48dc-b061-2164a51d1707')\"\n",
              "                title=\"Suggest charts\"\n",
              "                style=\"display:none;\">\n",
              "\n",
              "<svg xmlns=\"http://www.w3.org/2000/svg\" height=\"24px\"viewBox=\"0 0 24 24\"\n",
              "     width=\"24px\">\n",
              "    <g>\n",
              "        <path d=\"M19 3H5c-1.1 0-2 .9-2 2v14c0 1.1.9 2 2 2h14c1.1 0 2-.9 2-2V5c0-1.1-.9-2-2-2zM9 17H7v-7h2v7zm4 0h-2V7h2v10zm4 0h-2v-4h2v4z\"/>\n",
              "    </g>\n",
              "</svg>\n",
              "      </button>\n",
              "\n",
              "<style>\n",
              "  .colab-df-quickchart {\n",
              "      --bg-color: #E8F0FE;\n",
              "      --fill-color: #1967D2;\n",
              "      --hover-bg-color: #E2EBFA;\n",
              "      --hover-fill-color: #174EA6;\n",
              "      --disabled-fill-color: #AAA;\n",
              "      --disabled-bg-color: #DDD;\n",
              "  }\n",
              "\n",
              "  [theme=dark] .colab-df-quickchart {\n",
              "      --bg-color: #3B4455;\n",
              "      --fill-color: #D2E3FC;\n",
              "      --hover-bg-color: #434B5C;\n",
              "      --hover-fill-color: #FFFFFF;\n",
              "      --disabled-bg-color: #3B4455;\n",
              "      --disabled-fill-color: #666;\n",
              "  }\n",
              "\n",
              "  .colab-df-quickchart {\n",
              "    background-color: var(--bg-color);\n",
              "    border: none;\n",
              "    border-radius: 50%;\n",
              "    cursor: pointer;\n",
              "    display: none;\n",
              "    fill: var(--fill-color);\n",
              "    height: 32px;\n",
              "    padding: 0;\n",
              "    width: 32px;\n",
              "  }\n",
              "\n",
              "  .colab-df-quickchart:hover {\n",
              "    background-color: var(--hover-bg-color);\n",
              "    box-shadow: 0 1px 2px rgba(60, 64, 67, 0.3), 0 1px 3px 1px rgba(60, 64, 67, 0.15);\n",
              "    fill: var(--button-hover-fill-color);\n",
              "  }\n",
              "\n",
              "  .colab-df-quickchart-complete:disabled,\n",
              "  .colab-df-quickchart-complete:disabled:hover {\n",
              "    background-color: var(--disabled-bg-color);\n",
              "    fill: var(--disabled-fill-color);\n",
              "    box-shadow: none;\n",
              "  }\n",
              "\n",
              "  .colab-df-spinner {\n",
              "    border: 2px solid var(--fill-color);\n",
              "    border-color: transparent;\n",
              "    border-bottom-color: var(--fill-color);\n",
              "    animation:\n",
              "      spin 1s steps(1) infinite;\n",
              "  }\n",
              "\n",
              "  @keyframes spin {\n",
              "    0% {\n",
              "      border-color: transparent;\n",
              "      border-bottom-color: var(--fill-color);\n",
              "      border-left-color: var(--fill-color);\n",
              "    }\n",
              "    20% {\n",
              "      border-color: transparent;\n",
              "      border-left-color: var(--fill-color);\n",
              "      border-top-color: var(--fill-color);\n",
              "    }\n",
              "    30% {\n",
              "      border-color: transparent;\n",
              "      border-left-color: var(--fill-color);\n",
              "      border-top-color: var(--fill-color);\n",
              "      border-right-color: var(--fill-color);\n",
              "    }\n",
              "    40% {\n",
              "      border-color: transparent;\n",
              "      border-right-color: var(--fill-color);\n",
              "      border-top-color: var(--fill-color);\n",
              "    }\n",
              "    60% {\n",
              "      border-color: transparent;\n",
              "      border-right-color: var(--fill-color);\n",
              "    }\n",
              "    80% {\n",
              "      border-color: transparent;\n",
              "      border-right-color: var(--fill-color);\n",
              "      border-bottom-color: var(--fill-color);\n",
              "    }\n",
              "    90% {\n",
              "      border-color: transparent;\n",
              "      border-bottom-color: var(--fill-color);\n",
              "    }\n",
              "  }\n",
              "</style>\n",
              "\n",
              "      <script>\n",
              "        async function quickchart(key) {\n",
              "          const quickchartButtonEl =\n",
              "            document.querySelector('#' + key + ' button');\n",
              "          quickchartButtonEl.disabled = true;  // To prevent multiple clicks.\n",
              "          quickchartButtonEl.classList.add('colab-df-spinner');\n",
              "          try {\n",
              "            const charts = await google.colab.kernel.invokeFunction(\n",
              "                'suggestCharts', [key], {});\n",
              "          } catch (error) {\n",
              "            console.error('Error during call to suggestCharts:', error);\n",
              "          }\n",
              "          quickchartButtonEl.classList.remove('colab-df-spinner');\n",
              "          quickchartButtonEl.classList.add('colab-df-quickchart-complete');\n",
              "        }\n",
              "        (() => {\n",
              "          let quickchartButtonEl =\n",
              "            document.querySelector('#df-33c97bf5-9d0c-48dc-b061-2164a51d1707 button');\n",
              "          quickchartButtonEl.style.display =\n",
              "            google.colab.kernel.accessAllowed ? 'block' : 'none';\n",
              "        })();\n",
              "      </script>\n",
              "    </div>\n",
              "\n",
              "    </div>\n",
              "  </div>\n"
            ],
            "application/vnd.google.colaboratory.intrinsic+json": {
              "type": "dataframe",
              "repr_error": "0"
            }
          },
          "metadata": {},
          "execution_count": 194
        }
      ],
      "source": [
        "df_test_only.sample(2)"
      ]
    },
    {
      "cell_type": "code",
      "execution_count": null,
      "metadata": {
        "id": "zRGT5wmziqQG"
      },
      "outputs": [],
      "source": [
        "del query_test_only\n",
        "del df_test_only"
      ]
    },
    {
      "cell_type": "code",
      "execution_count": null,
      "metadata": {
        "id": "CwyoNN0MmqKe",
        "colab": {
          "base_uri": "https://localhost:8080/"
        },
        "outputId": "4d72146d-73b9-4b69-b739-6c272d55a467"
      },
      "outputs": [
        {
          "output_type": "execute_result",
          "data": {
            "text/plain": [
              "17"
            ]
          },
          "metadata": {},
          "execution_count": 196
        }
      ],
      "source": [
        "gc.collect() # gc.collect() are for garbage collection — basically cleaning up memory that Python no longer needs"
      ]
    },
    {
      "cell_type": "markdown",
      "metadata": {
        "id": "gYnNJEDipQDU"
      },
      "source": [
        "If I would delete all \"oil\" 0 values before my download from SQL - I may miss some of my \"holidays\" values"
      ]
    },
    {
      "cell_type": "code",
      "execution_count": null,
      "metadata": {
        "id": "qVvgzMVBAvDi"
      },
      "outputs": [],
      "source": [
        "query_test = \"\"\"\n",
        "WITH top_families AS (\n",
        "    SELECT items.family\n",
        "    FROM train\n",
        "    JOIN items ON train.item_nbr = items.item_nbr\n",
        "    WHERE train.unit_sales >= 0\n",
        "    GROUP BY items.family\n",
        "    ORDER BY SUM(train.unit_sales) DESC\n",
        "    LIMIT 3\n",
        ")\n",
        "\n",
        "SELECT\n",
        "    test.date AS test_date,\n",
        "    test.store_nbr,\n",
        "    test.item_nbr,\n",
        "    test.onpromotion,\n",
        "    sample_submission.unit_sales,\n",
        "    oil.dcoilwtico,\n",
        "    holidays_events.type AS holiday_type,\n",
        "    holidays_events.locale,\n",
        "    holidays_events.transferred,\n",
        "    stores.city,\n",
        "    stores.type AS store_type,\n",
        "    stores.cluster AS store_cluster,\n",
        "    items.family AS items_family,\n",
        "    items.class AS item_class,\n",
        "    items.perishable AS perishable_items,\n",
        "    transactions.transactions\n",
        "\n",
        "FROM test\n",
        "\n",
        "-- Historical unit sales for same store/item/date (if available)\n",
        "LEFT JOIN train\n",
        "  ON test.store_nbr = train.store_nbr\n",
        "  AND test.item_nbr = train.item_nbr\n",
        "  AND DATE(test.date) = DATE(train.date)\n",
        "\n",
        "LEFT JOIN oil\n",
        "  ON DATE(test.date) = DATE(oil.date)\n",
        "\n",
        "LEFT JOIN sample_submission\n",
        "  ON test.id = sample_submission.id\n",
        "\n",
        "LEFT JOIN holidays_events\n",
        "  ON DATE(test.date) = DATE(holidays_events.date)\n",
        "\n",
        "LEFT JOIN stores\n",
        "  ON test.store_nbr = stores.store_nbr\n",
        "\n",
        "LEFT JOIN items\n",
        "  ON test.item_nbr = items.item_nbr\n",
        "\n",
        "LEFT JOIN transactions\n",
        "  ON DATE(test.date) = DATE(transactions.date)\n",
        "     AND test.store_nbr = transactions.store_nbr\n",
        "\n",
        "-- ✅ Only keep top 3 families\n",
        "WHERE items.family IN (SELECT family FROM top_families)\n",
        "\n",
        "LIMIT 25000;\n",
        "\"\"\""
      ]
    },
    {
      "cell_type": "code",
      "execution_count": null,
      "metadata": {
        "id": "U0ycRWz-QWuM",
        "colab": {
          "base_uri": "https://localhost:8080/"
        },
        "outputId": "75c7b23a-3f31-4caf-f1e4-c6fa3d6aef5d"
      },
      "outputs": [
        {
          "output_type": "execute_result",
          "data": {
            "text/plain": [
              "(25000, 16)"
            ]
          },
          "metadata": {},
          "execution_count": 198
        }
      ],
      "source": [
        "df_test_download = pd.read_sql_query(query_test, engine)\n",
        "df_test = df_test_download.copy()\n",
        "df_test.shape"
      ]
    },
    {
      "cell_type": "code",
      "execution_count": null,
      "metadata": {
        "id": "CtMasJiKWJSs",
        "colab": {
          "base_uri": "https://localhost:8080/"
        },
        "outputId": "5440eb6f-7476-43b0-eb31-a6ae556098ba"
      },
      "outputs": [
        {
          "output_type": "execute_result",
          "data": {
            "text/plain": [
              "['df_test_download.joblib.gz']"
            ]
          },
          "metadata": {},
          "execution_count": 199
        }
      ],
      "source": [
        "# Save the DataFrame to a compressed file\n",
        "joblib.dump(df_test_download, 'df_test_download.joblib.gz', compress=('gzip', 3))\n",
        "\n",
        "# You can load it back later like this:\n",
        "# df_test_download = joblib.load('df_test_download.joblib.gz')"
      ]
    },
    {
      "cell_type": "markdown",
      "metadata": {
        "id": "hhkw06slrDo4"
      },
      "source": [
        "after a doble check I found that my items' purchase time is not in minutes or hours, for saving the data size I will reduce df_test[\"test date\"] also df_train[\"train_date\"] to days"
      ]
    },
    {
      "cell_type": "code",
      "execution_count": null,
      "metadata": {
        "id": "gP2nFBcvRjR4"
      },
      "outputs": [],
      "source": [
        "df_test[\"test_date\"] = pd.to_datetime(df_test[\"test_date\"], errors='coerce').dt.date"
      ]
    },
    {
      "cell_type": "code",
      "execution_count": null,
      "metadata": {
        "id": "Medwd0ZbphQi"
      },
      "outputs": [],
      "source": [
        "df_test[\"onpromotion\"] = df_test[\"onpromotion\"].fillna(False).astype('bool')\n",
        "df_test[\"onpromotion\"] = df_test[\"onpromotion\"].astype('int8')"
      ]
    },
    {
      "cell_type": "markdown",
      "metadata": {
        "id": "qxErSDDQSF8V"
      },
      "source": [
        "I add a column \"weekday\" so it should be easier analise \"holidays\" influence"
      ]
    },
    {
      "cell_type": "code",
      "execution_count": null,
      "metadata": {
        "id": "y1X_oUKQRyqR"
      },
      "outputs": [],
      "source": [
        "df_test[\"test_date\"] = pd.to_datetime(df_test[\"test_date\"], errors='coerce')\n",
        "df_test[\"weekday\"] = df_test[\"test_date\"].dt.weekday"
      ]
    },
    {
      "cell_type": "markdown",
      "metadata": {
        "id": "IDWy7rr4VKHg"
      },
      "source": [
        "some of the cleaning comes from the later one done on df_train data"
      ]
    },
    {
      "cell_type": "code",
      "execution_count": null,
      "metadata": {
        "id": "beNpFJgNaEpl",
        "colab": {
          "base_uri": "https://localhost:8080/"
        },
        "outputId": "81348917-2b0c-469d-ff85-bd7786447fe8"
      },
      "outputs": [
        {
          "output_type": "stream",
          "name": "stderr",
          "text": [
            "<ipython-input-203-abfcd4d6f004>:1: FutureWarning: Downcasting object dtype arrays on .fillna, .ffill, .bfill is deprecated and will change in a future version. Call result.infer_objects(copy=False) instead. To opt-in to the future behavior, set `pd.set_option('future.no_silent_downcasting', True)`\n",
            "  df_test[\"store_cluster\"] = df_test[\"store_cluster\"].fillna(0).astype('int8')\n"
          ]
        }
      ],
      "source": [
        "df_test[\"store_cluster\"] = df_test[\"store_cluster\"].fillna(0).astype('int8')"
      ]
    },
    {
      "cell_type": "code",
      "execution_count": null,
      "metadata": {
        "id": "OQxMqxQAWRdF",
        "colab": {
          "base_uri": "https://localhost:8080/"
        },
        "outputId": "948dd812-2da2-4720-88b3-5688b937dcb3"
      },
      "outputs": [
        {
          "output_type": "stream",
          "name": "stderr",
          "text": [
            "<ipython-input-204-6b718e39fbf4>:1: FutureWarning: Downcasting object dtype arrays on .fillna, .ffill, .bfill is deprecated and will change in a future version. Call result.infer_objects(copy=False) instead. To opt-in to the future behavior, set `pd.set_option('future.no_silent_downcasting', True)`\n",
            "  df_test[\"transferred\"] = df_test[\"transferred\"].fillna(False).astype('bool')\n"
          ]
        }
      ],
      "source": [
        "df_test[\"transferred\"] = df_test[\"transferred\"].fillna(False).astype('bool')\n",
        "df_test[\"transferred\"] = df_test[\"transferred\"].astype('int8')"
      ]
    },
    {
      "cell_type": "code",
      "execution_count": null,
      "metadata": {
        "id": "Ou_3-T_Vcm-F",
        "colab": {
          "base_uri": "https://localhost:8080/"
        },
        "outputId": "f745c156-9144-4f1d-9418-378dee9b1851"
      },
      "outputs": [
        {
          "output_type": "stream",
          "name": "stderr",
          "text": [
            "<ipython-input-205-53e2b53091cc>:2: FutureWarning: Series.fillna with 'method' is deprecated and will raise in a future version. Use obj.ffill() or obj.bfill() instead.\n",
            "  df_test['dcoilwtico'] = df_test['dcoilwtico'].fillna(method='ffill').fillna(method='bfill')\n"
          ]
        }
      ],
      "source": [
        "# Fill NaN in 'dcoilwtico' (oil price) with previous available value\n",
        "df_test['dcoilwtico'] = df_test['dcoilwtico'].fillna(method='ffill').fillna(method='bfill')"
      ]
    },
    {
      "cell_type": "code",
      "execution_count": null,
      "metadata": {
        "id": "XLiJ91aEQ6TF",
        "colab": {
          "base_uri": "https://localhost:8080/",
          "height": 163
        },
        "outputId": "63d8af3f-8728-478d-b87d-c85ee0397819"
      },
      "outputs": [
        {
          "output_type": "execute_result",
          "data": {
            "text/plain": [
              "       test_date  store_nbr  item_nbr  onpromotion  unit_sales  dcoilwtico  \\\n",
              "7019  2017-08-16          4    939663            0           0        46.8   \n",
              "13854 2017-08-16          7   1395693            0           0        46.8   \n",
              "9802  2017-08-16          5   1473401            1           0        46.8   \n",
              "\n",
              "      holiday_type locale  transferred  city store_type  store_cluster  \\\n",
              "7019          None   None            0  None       None              0   \n",
              "13854         None   None            0  None       None              0   \n",
              "9802          None   None            0  None       None              0   \n",
              "\n",
              "      items_family  item_class  perishable_items transactions  weekday  \n",
              "7019     GROCERY I        1045                 0         None        2  \n",
              "13854    GROCERY I        1028                 0         None        2  \n",
              "9802       PRODUCE        2008                 1         None        2  "
            ],
            "text/html": [
              "\n",
              "  <div id=\"df-efc037e8-7da7-4aab-b316-6dc2bf4fc3b3\" class=\"colab-df-container\">\n",
              "    <div>\n",
              "<style scoped>\n",
              "    .dataframe tbody tr th:only-of-type {\n",
              "        vertical-align: middle;\n",
              "    }\n",
              "\n",
              "    .dataframe tbody tr th {\n",
              "        vertical-align: top;\n",
              "    }\n",
              "\n",
              "    .dataframe thead th {\n",
              "        text-align: right;\n",
              "    }\n",
              "</style>\n",
              "<table border=\"1\" class=\"dataframe\">\n",
              "  <thead>\n",
              "    <tr style=\"text-align: right;\">\n",
              "      <th></th>\n",
              "      <th>test_date</th>\n",
              "      <th>store_nbr</th>\n",
              "      <th>item_nbr</th>\n",
              "      <th>onpromotion</th>\n",
              "      <th>unit_sales</th>\n",
              "      <th>dcoilwtico</th>\n",
              "      <th>holiday_type</th>\n",
              "      <th>locale</th>\n",
              "      <th>transferred</th>\n",
              "      <th>city</th>\n",
              "      <th>store_type</th>\n",
              "      <th>store_cluster</th>\n",
              "      <th>items_family</th>\n",
              "      <th>item_class</th>\n",
              "      <th>perishable_items</th>\n",
              "      <th>transactions</th>\n",
              "      <th>weekday</th>\n",
              "    </tr>\n",
              "  </thead>\n",
              "  <tbody>\n",
              "    <tr>\n",
              "      <th>7019</th>\n",
              "      <td>2017-08-16</td>\n",
              "      <td>4</td>\n",
              "      <td>939663</td>\n",
              "      <td>0</td>\n",
              "      <td>0</td>\n",
              "      <td>46.8</td>\n",
              "      <td>None</td>\n",
              "      <td>None</td>\n",
              "      <td>0</td>\n",
              "      <td>None</td>\n",
              "      <td>None</td>\n",
              "      <td>0</td>\n",
              "      <td>GROCERY I</td>\n",
              "      <td>1045</td>\n",
              "      <td>0</td>\n",
              "      <td>None</td>\n",
              "      <td>2</td>\n",
              "    </tr>\n",
              "    <tr>\n",
              "      <th>13854</th>\n",
              "      <td>2017-08-16</td>\n",
              "      <td>7</td>\n",
              "      <td>1395693</td>\n",
              "      <td>0</td>\n",
              "      <td>0</td>\n",
              "      <td>46.8</td>\n",
              "      <td>None</td>\n",
              "      <td>None</td>\n",
              "      <td>0</td>\n",
              "      <td>None</td>\n",
              "      <td>None</td>\n",
              "      <td>0</td>\n",
              "      <td>GROCERY I</td>\n",
              "      <td>1028</td>\n",
              "      <td>0</td>\n",
              "      <td>None</td>\n",
              "      <td>2</td>\n",
              "    </tr>\n",
              "    <tr>\n",
              "      <th>9802</th>\n",
              "      <td>2017-08-16</td>\n",
              "      <td>5</td>\n",
              "      <td>1473401</td>\n",
              "      <td>1</td>\n",
              "      <td>0</td>\n",
              "      <td>46.8</td>\n",
              "      <td>None</td>\n",
              "      <td>None</td>\n",
              "      <td>0</td>\n",
              "      <td>None</td>\n",
              "      <td>None</td>\n",
              "      <td>0</td>\n",
              "      <td>PRODUCE</td>\n",
              "      <td>2008</td>\n",
              "      <td>1</td>\n",
              "      <td>None</td>\n",
              "      <td>2</td>\n",
              "    </tr>\n",
              "  </tbody>\n",
              "</table>\n",
              "</div>\n",
              "    <div class=\"colab-df-buttons\">\n",
              "\n",
              "  <div class=\"colab-df-container\">\n",
              "    <button class=\"colab-df-convert\" onclick=\"convertToInteractive('df-efc037e8-7da7-4aab-b316-6dc2bf4fc3b3')\"\n",
              "            title=\"Convert this dataframe to an interactive table.\"\n",
              "            style=\"display:none;\">\n",
              "\n",
              "  <svg xmlns=\"http://www.w3.org/2000/svg\" height=\"24px\" viewBox=\"0 -960 960 960\">\n",
              "    <path d=\"M120-120v-720h720v720H120Zm60-500h600v-160H180v160Zm220 220h160v-160H400v160Zm0 220h160v-160H400v160ZM180-400h160v-160H180v160Zm440 0h160v-160H620v160ZM180-180h160v-160H180v160Zm440 0h160v-160H620v160Z\"/>\n",
              "  </svg>\n",
              "    </button>\n",
              "\n",
              "  <style>\n",
              "    .colab-df-container {\n",
              "      display:flex;\n",
              "      gap: 12px;\n",
              "    }\n",
              "\n",
              "    .colab-df-convert {\n",
              "      background-color: #E8F0FE;\n",
              "      border: none;\n",
              "      border-radius: 50%;\n",
              "      cursor: pointer;\n",
              "      display: none;\n",
              "      fill: #1967D2;\n",
              "      height: 32px;\n",
              "      padding: 0 0 0 0;\n",
              "      width: 32px;\n",
              "    }\n",
              "\n",
              "    .colab-df-convert:hover {\n",
              "      background-color: #E2EBFA;\n",
              "      box-shadow: 0px 1px 2px rgba(60, 64, 67, 0.3), 0px 1px 3px 1px rgba(60, 64, 67, 0.15);\n",
              "      fill: #174EA6;\n",
              "    }\n",
              "\n",
              "    .colab-df-buttons div {\n",
              "      margin-bottom: 4px;\n",
              "    }\n",
              "\n",
              "    [theme=dark] .colab-df-convert {\n",
              "      background-color: #3B4455;\n",
              "      fill: #D2E3FC;\n",
              "    }\n",
              "\n",
              "    [theme=dark] .colab-df-convert:hover {\n",
              "      background-color: #434B5C;\n",
              "      box-shadow: 0px 1px 3px 1px rgba(0, 0, 0, 0.15);\n",
              "      filter: drop-shadow(0px 1px 2px rgba(0, 0, 0, 0.3));\n",
              "      fill: #FFFFFF;\n",
              "    }\n",
              "  </style>\n",
              "\n",
              "    <script>\n",
              "      const buttonEl =\n",
              "        document.querySelector('#df-efc037e8-7da7-4aab-b316-6dc2bf4fc3b3 button.colab-df-convert');\n",
              "      buttonEl.style.display =\n",
              "        google.colab.kernel.accessAllowed ? 'block' : 'none';\n",
              "\n",
              "      async function convertToInteractive(key) {\n",
              "        const element = document.querySelector('#df-efc037e8-7da7-4aab-b316-6dc2bf4fc3b3');\n",
              "        const dataTable =\n",
              "          await google.colab.kernel.invokeFunction('convertToInteractive',\n",
              "                                                    [key], {});\n",
              "        if (!dataTable) return;\n",
              "\n",
              "        const docLinkHtml = 'Like what you see? Visit the ' +\n",
              "          '<a target=\"_blank\" href=https://colab.research.google.com/notebooks/data_table.ipynb>data table notebook</a>'\n",
              "          + ' to learn more about interactive tables.';\n",
              "        element.innerHTML = '';\n",
              "        dataTable['output_type'] = 'display_data';\n",
              "        await google.colab.output.renderOutput(dataTable, element);\n",
              "        const docLink = document.createElement('div');\n",
              "        docLink.innerHTML = docLinkHtml;\n",
              "        element.appendChild(docLink);\n",
              "      }\n",
              "    </script>\n",
              "  </div>\n",
              "\n",
              "\n",
              "    <div id=\"df-0b82daff-ff33-479e-b830-4beac86e698c\">\n",
              "      <button class=\"colab-df-quickchart\" onclick=\"quickchart('df-0b82daff-ff33-479e-b830-4beac86e698c')\"\n",
              "                title=\"Suggest charts\"\n",
              "                style=\"display:none;\">\n",
              "\n",
              "<svg xmlns=\"http://www.w3.org/2000/svg\" height=\"24px\"viewBox=\"0 0 24 24\"\n",
              "     width=\"24px\">\n",
              "    <g>\n",
              "        <path d=\"M19 3H5c-1.1 0-2 .9-2 2v14c0 1.1.9 2 2 2h14c1.1 0 2-.9 2-2V5c0-1.1-.9-2-2-2zM9 17H7v-7h2v7zm4 0h-2V7h2v10zm4 0h-2v-4h2v4z\"/>\n",
              "    </g>\n",
              "</svg>\n",
              "      </button>\n",
              "\n",
              "<style>\n",
              "  .colab-df-quickchart {\n",
              "      --bg-color: #E8F0FE;\n",
              "      --fill-color: #1967D2;\n",
              "      --hover-bg-color: #E2EBFA;\n",
              "      --hover-fill-color: #174EA6;\n",
              "      --disabled-fill-color: #AAA;\n",
              "      --disabled-bg-color: #DDD;\n",
              "  }\n",
              "\n",
              "  [theme=dark] .colab-df-quickchart {\n",
              "      --bg-color: #3B4455;\n",
              "      --fill-color: #D2E3FC;\n",
              "      --hover-bg-color: #434B5C;\n",
              "      --hover-fill-color: #FFFFFF;\n",
              "      --disabled-bg-color: #3B4455;\n",
              "      --disabled-fill-color: #666;\n",
              "  }\n",
              "\n",
              "  .colab-df-quickchart {\n",
              "    background-color: var(--bg-color);\n",
              "    border: none;\n",
              "    border-radius: 50%;\n",
              "    cursor: pointer;\n",
              "    display: none;\n",
              "    fill: var(--fill-color);\n",
              "    height: 32px;\n",
              "    padding: 0;\n",
              "    width: 32px;\n",
              "  }\n",
              "\n",
              "  .colab-df-quickchart:hover {\n",
              "    background-color: var(--hover-bg-color);\n",
              "    box-shadow: 0 1px 2px rgba(60, 64, 67, 0.3), 0 1px 3px 1px rgba(60, 64, 67, 0.15);\n",
              "    fill: var(--button-hover-fill-color);\n",
              "  }\n",
              "\n",
              "  .colab-df-quickchart-complete:disabled,\n",
              "  .colab-df-quickchart-complete:disabled:hover {\n",
              "    background-color: var(--disabled-bg-color);\n",
              "    fill: var(--disabled-fill-color);\n",
              "    box-shadow: none;\n",
              "  }\n",
              "\n",
              "  .colab-df-spinner {\n",
              "    border: 2px solid var(--fill-color);\n",
              "    border-color: transparent;\n",
              "    border-bottom-color: var(--fill-color);\n",
              "    animation:\n",
              "      spin 1s steps(1) infinite;\n",
              "  }\n",
              "\n",
              "  @keyframes spin {\n",
              "    0% {\n",
              "      border-color: transparent;\n",
              "      border-bottom-color: var(--fill-color);\n",
              "      border-left-color: var(--fill-color);\n",
              "    }\n",
              "    20% {\n",
              "      border-color: transparent;\n",
              "      border-left-color: var(--fill-color);\n",
              "      border-top-color: var(--fill-color);\n",
              "    }\n",
              "    30% {\n",
              "      border-color: transparent;\n",
              "      border-left-color: var(--fill-color);\n",
              "      border-top-color: var(--fill-color);\n",
              "      border-right-color: var(--fill-color);\n",
              "    }\n",
              "    40% {\n",
              "      border-color: transparent;\n",
              "      border-right-color: var(--fill-color);\n",
              "      border-top-color: var(--fill-color);\n",
              "    }\n",
              "    60% {\n",
              "      border-color: transparent;\n",
              "      border-right-color: var(--fill-color);\n",
              "    }\n",
              "    80% {\n",
              "      border-color: transparent;\n",
              "      border-right-color: var(--fill-color);\n",
              "      border-bottom-color: var(--fill-color);\n",
              "    }\n",
              "    90% {\n",
              "      border-color: transparent;\n",
              "      border-bottom-color: var(--fill-color);\n",
              "    }\n",
              "  }\n",
              "</style>\n",
              "\n",
              "      <script>\n",
              "        async function quickchart(key) {\n",
              "          const quickchartButtonEl =\n",
              "            document.querySelector('#' + key + ' button');\n",
              "          quickchartButtonEl.disabled = true;  // To prevent multiple clicks.\n",
              "          quickchartButtonEl.classList.add('colab-df-spinner');\n",
              "          try {\n",
              "            const charts = await google.colab.kernel.invokeFunction(\n",
              "                'suggestCharts', [key], {});\n",
              "          } catch (error) {\n",
              "            console.error('Error during call to suggestCharts:', error);\n",
              "          }\n",
              "          quickchartButtonEl.classList.remove('colab-df-spinner');\n",
              "          quickchartButtonEl.classList.add('colab-df-quickchart-complete');\n",
              "        }\n",
              "        (() => {\n",
              "          let quickchartButtonEl =\n",
              "            document.querySelector('#df-0b82daff-ff33-479e-b830-4beac86e698c button');\n",
              "          quickchartButtonEl.style.display =\n",
              "            google.colab.kernel.accessAllowed ? 'block' : 'none';\n",
              "        })();\n",
              "      </script>\n",
              "    </div>\n",
              "\n",
              "    </div>\n",
              "  </div>\n"
            ],
            "application/vnd.google.colaboratory.intrinsic+json": {
              "type": "dataframe",
              "repr_error": "0"
            }
          },
          "metadata": {},
          "execution_count": 206
        }
      ],
      "source": [
        "df_test.sample(3)"
      ]
    },
    {
      "cell_type": "code",
      "execution_count": null,
      "metadata": {
        "id": "LukPvSo0cMhw"
      },
      "outputs": [],
      "source": [
        "for col in df_test.select_dtypes(include=['int64']).columns:\n",
        "    df_test[col] = pd.to_numeric(df_test[col], downcast='integer')"
      ]
    },
    {
      "cell_type": "markdown",
      "metadata": {
        "id": "FdneX0wmUeKc"
      },
      "source": [
        "### train"
      ]
    },
    {
      "cell_type": "code",
      "execution_count": null,
      "metadata": {
        "id": "aboSjtKpUlWe"
      },
      "outputs": [],
      "source": [
        "query_train = \"\"\"\n",
        "WITH top_families AS (\n",
        "    SELECT items.family\n",
        "    FROM train\n",
        "    JOIN items ON train.item_nbr = items.item_nbr\n",
        "    WHERE train.unit_sales >= 0\n",
        "    GROUP BY items.family\n",
        "    ORDER BY SUM(train.unit_sales) DESC\n",
        "    LIMIT 3\n",
        ")\n",
        "\n",
        "SELECT\n",
        "    train.unit_sales,\n",
        "    train.date AS train_date,\n",
        "    train.store_nbr,\n",
        "    train.item_nbr,\n",
        "    train.onpromotion,\n",
        "\n",
        "    oil.dcoilwtico,\n",
        "\n",
        "    holidays_events.type AS holiday_type,\n",
        "    holidays_events.locale,\n",
        "    holidays_events.transferred,\n",
        "\n",
        "    stores.city,\n",
        "    stores.type AS store_type,\n",
        "    stores.cluster AS store_cluster,\n",
        "\n",
        "    items.family AS items_family,\n",
        "    items.class AS item_class,\n",
        "    items.perishable AS perishable_items,\n",
        "\n",
        "    transactions.transactions\n",
        "\n",
        "FROM train\n",
        "LEFT JOIN oil\n",
        "  ON DATE(train.date) = DATE(oil.date)\n",
        "LEFT JOIN holidays_events\n",
        "  ON DATE(train.date) = DATE(holidays_events.date)\n",
        "LEFT JOIN stores\n",
        "  ON train.store_nbr = stores.store_nbr\n",
        "LEFT JOIN items\n",
        "  ON train.item_nbr = items.item_nbr\n",
        "LEFT JOIN transactions\n",
        "  ON DATE(train.date) = DATE(transactions.date)\n",
        "     AND train.store_nbr = transactions.store_nbr\n",
        "\n",
        "WHERE train.unit_sales >= 0\n",
        "  AND items.family IN (SELECT family FROM top_families)\n",
        "\n",
        "LIMIT 100000;\n",
        "\"\"\""
      ]
    },
    {
      "cell_type": "code",
      "execution_count": null,
      "metadata": {
        "id": "u_0i5HX0VLW1",
        "colab": {
          "base_uri": "https://localhost:8080/"
        },
        "outputId": "33dfa9df-fdb3-428e-ea07-9a091c0975ce"
      },
      "outputs": [
        {
          "output_type": "execute_result",
          "data": {
            "text/plain": [
              "(100000, 16)"
            ]
          },
          "metadata": {},
          "execution_count": 209
        }
      ],
      "source": [
        "df_train_download = pd.read_sql_query(query_train, engine)\n",
        "df_train = df_train_download.copy()\n",
        "df_train.shape"
      ]
    },
    {
      "cell_type": "code",
      "execution_count": null,
      "metadata": {
        "id": "qtH11SgBWjbv",
        "colab": {
          "base_uri": "https://localhost:8080/"
        },
        "outputId": "ab178ff7-492a-4568-da6e-9fe1ed889c80"
      },
      "outputs": [
        {
          "output_type": "execute_result",
          "data": {
            "text/plain": [
              "['df_train_download.joblib.gz']"
            ]
          },
          "metadata": {},
          "execution_count": 210
        }
      ],
      "source": [
        "# Save the DataFrame to a compressed file\n",
        "joblib.dump(df_train_download, 'df_train_download.joblib.gz', compress=('gzip', 3))\n",
        "\n",
        "# You can load it back later like this:\n",
        "# df_train_download = joblib.load('df_train_download.joblib.gz')"
      ]
    },
    {
      "cell_type": "code",
      "execution_count": null,
      "metadata": {
        "id": "p4Qa3oAZV53-"
      },
      "outputs": [],
      "source": [
        "df_train[\"train_date\"] = pd.to_datetime(df_train[\"train_date\"], errors='coerce').dt.date"
      ]
    },
    {
      "cell_type": "code",
      "execution_count": null,
      "metadata": {
        "id": "gg08RB7CrNVi"
      },
      "outputs": [],
      "source": [
        "df_train[\"onpromotion\"] = df_train[\"onpromotion\"].fillna(False).astype('bool')\n",
        "df_train[\"onpromotion\"] = df_train[\"onpromotion\"].astype('int8')"
      ]
    },
    {
      "cell_type": "code",
      "execution_count": null,
      "metadata": {
        "id": "D-3j-28gRTKo"
      },
      "outputs": [],
      "source": [
        "df_train[\"train_date\"] = pd.to_datetime(df_train[\"train_date\"], errors='coerce')\n",
        "df_train[\"weekday\"] = df_train[\"train_date\"].dt.weekday"
      ]
    },
    {
      "cell_type": "code",
      "execution_count": null,
      "metadata": {
        "id": "HZLkjHLgVwxP"
      },
      "outputs": [],
      "source": [
        "df_train['unit_sales'] = df_train['unit_sales'].fillna(0)"
      ]
    },
    {
      "cell_type": "code",
      "execution_count": null,
      "metadata": {
        "id": "IWeblrteWFcL",
        "colab": {
          "base_uri": "https://localhost:8080/",
          "height": 163
        },
        "outputId": "8a6d7ad6-3f8f-4164-86c6-c09e3fddf89d"
      },
      "outputs": [
        {
          "output_type": "execute_result",
          "data": {
            "text/plain": [
              "       unit_sales train_date  store_nbr  item_nbr  onpromotion  dcoilwtico  \\\n",
              "7624     8.039062 2017-01-21          8   1642397            0         NaN   \n",
              "79425    1.000000 2017-02-11         49   1464095            0         NaN   \n",
              "28968    6.000000 2017-02-13         36   2048471            0       52.96   \n",
              "\n",
              "      holiday_type locale  transferred      city store_type  store_cluster  \\\n",
              "7624          None   None          NaN      None       None            NaN   \n",
              "79425         None   None          NaN      None       None            NaN   \n",
              "28968         None   None          NaN  Libertad          E           10.0   \n",
              "\n",
              "      items_family  item_class  perishable_items  transactions  weekday  \n",
              "7624       PRODUCE        2028                 1          3176        5  \n",
              "79425    BEVERAGES        1148                 0          3292        5  \n",
              "28968    GROCERY I        1016                 0          1208        0  "
            ],
            "text/html": [
              "\n",
              "  <div id=\"df-4f005777-b43c-4746-aa38-7e40a4c28347\" class=\"colab-df-container\">\n",
              "    <div>\n",
              "<style scoped>\n",
              "    .dataframe tbody tr th:only-of-type {\n",
              "        vertical-align: middle;\n",
              "    }\n",
              "\n",
              "    .dataframe tbody tr th {\n",
              "        vertical-align: top;\n",
              "    }\n",
              "\n",
              "    .dataframe thead th {\n",
              "        text-align: right;\n",
              "    }\n",
              "</style>\n",
              "<table border=\"1\" class=\"dataframe\">\n",
              "  <thead>\n",
              "    <tr style=\"text-align: right;\">\n",
              "      <th></th>\n",
              "      <th>unit_sales</th>\n",
              "      <th>train_date</th>\n",
              "      <th>store_nbr</th>\n",
              "      <th>item_nbr</th>\n",
              "      <th>onpromotion</th>\n",
              "      <th>dcoilwtico</th>\n",
              "      <th>holiday_type</th>\n",
              "      <th>locale</th>\n",
              "      <th>transferred</th>\n",
              "      <th>city</th>\n",
              "      <th>store_type</th>\n",
              "      <th>store_cluster</th>\n",
              "      <th>items_family</th>\n",
              "      <th>item_class</th>\n",
              "      <th>perishable_items</th>\n",
              "      <th>transactions</th>\n",
              "      <th>weekday</th>\n",
              "    </tr>\n",
              "  </thead>\n",
              "  <tbody>\n",
              "    <tr>\n",
              "      <th>7624</th>\n",
              "      <td>8.039062</td>\n",
              "      <td>2017-01-21</td>\n",
              "      <td>8</td>\n",
              "      <td>1642397</td>\n",
              "      <td>0</td>\n",
              "      <td>NaN</td>\n",
              "      <td>None</td>\n",
              "      <td>None</td>\n",
              "      <td>NaN</td>\n",
              "      <td>None</td>\n",
              "      <td>None</td>\n",
              "      <td>NaN</td>\n",
              "      <td>PRODUCE</td>\n",
              "      <td>2028</td>\n",
              "      <td>1</td>\n",
              "      <td>3176</td>\n",
              "      <td>5</td>\n",
              "    </tr>\n",
              "    <tr>\n",
              "      <th>79425</th>\n",
              "      <td>1.000000</td>\n",
              "      <td>2017-02-11</td>\n",
              "      <td>49</td>\n",
              "      <td>1464095</td>\n",
              "      <td>0</td>\n",
              "      <td>NaN</td>\n",
              "      <td>None</td>\n",
              "      <td>None</td>\n",
              "      <td>NaN</td>\n",
              "      <td>None</td>\n",
              "      <td>None</td>\n",
              "      <td>NaN</td>\n",
              "      <td>BEVERAGES</td>\n",
              "      <td>1148</td>\n",
              "      <td>0</td>\n",
              "      <td>3292</td>\n",
              "      <td>5</td>\n",
              "    </tr>\n",
              "    <tr>\n",
              "      <th>28968</th>\n",
              "      <td>6.000000</td>\n",
              "      <td>2017-02-13</td>\n",
              "      <td>36</td>\n",
              "      <td>2048471</td>\n",
              "      <td>0</td>\n",
              "      <td>52.96</td>\n",
              "      <td>None</td>\n",
              "      <td>None</td>\n",
              "      <td>NaN</td>\n",
              "      <td>Libertad</td>\n",
              "      <td>E</td>\n",
              "      <td>10.0</td>\n",
              "      <td>GROCERY I</td>\n",
              "      <td>1016</td>\n",
              "      <td>0</td>\n",
              "      <td>1208</td>\n",
              "      <td>0</td>\n",
              "    </tr>\n",
              "  </tbody>\n",
              "</table>\n",
              "</div>\n",
              "    <div class=\"colab-df-buttons\">\n",
              "\n",
              "  <div class=\"colab-df-container\">\n",
              "    <button class=\"colab-df-convert\" onclick=\"convertToInteractive('df-4f005777-b43c-4746-aa38-7e40a4c28347')\"\n",
              "            title=\"Convert this dataframe to an interactive table.\"\n",
              "            style=\"display:none;\">\n",
              "\n",
              "  <svg xmlns=\"http://www.w3.org/2000/svg\" height=\"24px\" viewBox=\"0 -960 960 960\">\n",
              "    <path d=\"M120-120v-720h720v720H120Zm60-500h600v-160H180v160Zm220 220h160v-160H400v160Zm0 220h160v-160H400v160ZM180-400h160v-160H180v160Zm440 0h160v-160H620v160ZM180-180h160v-160H180v160Zm440 0h160v-160H620v160Z\"/>\n",
              "  </svg>\n",
              "    </button>\n",
              "\n",
              "  <style>\n",
              "    .colab-df-container {\n",
              "      display:flex;\n",
              "      gap: 12px;\n",
              "    }\n",
              "\n",
              "    .colab-df-convert {\n",
              "      background-color: #E8F0FE;\n",
              "      border: none;\n",
              "      border-radius: 50%;\n",
              "      cursor: pointer;\n",
              "      display: none;\n",
              "      fill: #1967D2;\n",
              "      height: 32px;\n",
              "      padding: 0 0 0 0;\n",
              "      width: 32px;\n",
              "    }\n",
              "\n",
              "    .colab-df-convert:hover {\n",
              "      background-color: #E2EBFA;\n",
              "      box-shadow: 0px 1px 2px rgba(60, 64, 67, 0.3), 0px 1px 3px 1px rgba(60, 64, 67, 0.15);\n",
              "      fill: #174EA6;\n",
              "    }\n",
              "\n",
              "    .colab-df-buttons div {\n",
              "      margin-bottom: 4px;\n",
              "    }\n",
              "\n",
              "    [theme=dark] .colab-df-convert {\n",
              "      background-color: #3B4455;\n",
              "      fill: #D2E3FC;\n",
              "    }\n",
              "\n",
              "    [theme=dark] .colab-df-convert:hover {\n",
              "      background-color: #434B5C;\n",
              "      box-shadow: 0px 1px 3px 1px rgba(0, 0, 0, 0.15);\n",
              "      filter: drop-shadow(0px 1px 2px rgba(0, 0, 0, 0.3));\n",
              "      fill: #FFFFFF;\n",
              "    }\n",
              "  </style>\n",
              "\n",
              "    <script>\n",
              "      const buttonEl =\n",
              "        document.querySelector('#df-4f005777-b43c-4746-aa38-7e40a4c28347 button.colab-df-convert');\n",
              "      buttonEl.style.display =\n",
              "        google.colab.kernel.accessAllowed ? 'block' : 'none';\n",
              "\n",
              "      async function convertToInteractive(key) {\n",
              "        const element = document.querySelector('#df-4f005777-b43c-4746-aa38-7e40a4c28347');\n",
              "        const dataTable =\n",
              "          await google.colab.kernel.invokeFunction('convertToInteractive',\n",
              "                                                    [key], {});\n",
              "        if (!dataTable) return;\n",
              "\n",
              "        const docLinkHtml = 'Like what you see? Visit the ' +\n",
              "          '<a target=\"_blank\" href=https://colab.research.google.com/notebooks/data_table.ipynb>data table notebook</a>'\n",
              "          + ' to learn more about interactive tables.';\n",
              "        element.innerHTML = '';\n",
              "        dataTable['output_type'] = 'display_data';\n",
              "        await google.colab.output.renderOutput(dataTable, element);\n",
              "        const docLink = document.createElement('div');\n",
              "        docLink.innerHTML = docLinkHtml;\n",
              "        element.appendChild(docLink);\n",
              "      }\n",
              "    </script>\n",
              "  </div>\n",
              "\n",
              "\n",
              "    <div id=\"df-e0e81c95-52ed-4a9e-a670-9e17f0092cb6\">\n",
              "      <button class=\"colab-df-quickchart\" onclick=\"quickchart('df-e0e81c95-52ed-4a9e-a670-9e17f0092cb6')\"\n",
              "                title=\"Suggest charts\"\n",
              "                style=\"display:none;\">\n",
              "\n",
              "<svg xmlns=\"http://www.w3.org/2000/svg\" height=\"24px\"viewBox=\"0 0 24 24\"\n",
              "     width=\"24px\">\n",
              "    <g>\n",
              "        <path d=\"M19 3H5c-1.1 0-2 .9-2 2v14c0 1.1.9 2 2 2h14c1.1 0 2-.9 2-2V5c0-1.1-.9-2-2-2zM9 17H7v-7h2v7zm4 0h-2V7h2v10zm4 0h-2v-4h2v4z\"/>\n",
              "    </g>\n",
              "</svg>\n",
              "      </button>\n",
              "\n",
              "<style>\n",
              "  .colab-df-quickchart {\n",
              "      --bg-color: #E8F0FE;\n",
              "      --fill-color: #1967D2;\n",
              "      --hover-bg-color: #E2EBFA;\n",
              "      --hover-fill-color: #174EA6;\n",
              "      --disabled-fill-color: #AAA;\n",
              "      --disabled-bg-color: #DDD;\n",
              "  }\n",
              "\n",
              "  [theme=dark] .colab-df-quickchart {\n",
              "      --bg-color: #3B4455;\n",
              "      --fill-color: #D2E3FC;\n",
              "      --hover-bg-color: #434B5C;\n",
              "      --hover-fill-color: #FFFFFF;\n",
              "      --disabled-bg-color: #3B4455;\n",
              "      --disabled-fill-color: #666;\n",
              "  }\n",
              "\n",
              "  .colab-df-quickchart {\n",
              "    background-color: var(--bg-color);\n",
              "    border: none;\n",
              "    border-radius: 50%;\n",
              "    cursor: pointer;\n",
              "    display: none;\n",
              "    fill: var(--fill-color);\n",
              "    height: 32px;\n",
              "    padding: 0;\n",
              "    width: 32px;\n",
              "  }\n",
              "\n",
              "  .colab-df-quickchart:hover {\n",
              "    background-color: var(--hover-bg-color);\n",
              "    box-shadow: 0 1px 2px rgba(60, 64, 67, 0.3), 0 1px 3px 1px rgba(60, 64, 67, 0.15);\n",
              "    fill: var(--button-hover-fill-color);\n",
              "  }\n",
              "\n",
              "  .colab-df-quickchart-complete:disabled,\n",
              "  .colab-df-quickchart-complete:disabled:hover {\n",
              "    background-color: var(--disabled-bg-color);\n",
              "    fill: var(--disabled-fill-color);\n",
              "    box-shadow: none;\n",
              "  }\n",
              "\n",
              "  .colab-df-spinner {\n",
              "    border: 2px solid var(--fill-color);\n",
              "    border-color: transparent;\n",
              "    border-bottom-color: var(--fill-color);\n",
              "    animation:\n",
              "      spin 1s steps(1) infinite;\n",
              "  }\n",
              "\n",
              "  @keyframes spin {\n",
              "    0% {\n",
              "      border-color: transparent;\n",
              "      border-bottom-color: var(--fill-color);\n",
              "      border-left-color: var(--fill-color);\n",
              "    }\n",
              "    20% {\n",
              "      border-color: transparent;\n",
              "      border-left-color: var(--fill-color);\n",
              "      border-top-color: var(--fill-color);\n",
              "    }\n",
              "    30% {\n",
              "      border-color: transparent;\n",
              "      border-left-color: var(--fill-color);\n",
              "      border-top-color: var(--fill-color);\n",
              "      border-right-color: var(--fill-color);\n",
              "    }\n",
              "    40% {\n",
              "      border-color: transparent;\n",
              "      border-right-color: var(--fill-color);\n",
              "      border-top-color: var(--fill-color);\n",
              "    }\n",
              "    60% {\n",
              "      border-color: transparent;\n",
              "      border-right-color: var(--fill-color);\n",
              "    }\n",
              "    80% {\n",
              "      border-color: transparent;\n",
              "      border-right-color: var(--fill-color);\n",
              "      border-bottom-color: var(--fill-color);\n",
              "    }\n",
              "    90% {\n",
              "      border-color: transparent;\n",
              "      border-bottom-color: var(--fill-color);\n",
              "    }\n",
              "  }\n",
              "</style>\n",
              "\n",
              "      <script>\n",
              "        async function quickchart(key) {\n",
              "          const quickchartButtonEl =\n",
              "            document.querySelector('#' + key + ' button');\n",
              "          quickchartButtonEl.disabled = true;  // To prevent multiple clicks.\n",
              "          quickchartButtonEl.classList.add('colab-df-spinner');\n",
              "          try {\n",
              "            const charts = await google.colab.kernel.invokeFunction(\n",
              "                'suggestCharts', [key], {});\n",
              "          } catch (error) {\n",
              "            console.error('Error during call to suggestCharts:', error);\n",
              "          }\n",
              "          quickchartButtonEl.classList.remove('colab-df-spinner');\n",
              "          quickchartButtonEl.classList.add('colab-df-quickchart-complete');\n",
              "        }\n",
              "        (() => {\n",
              "          let quickchartButtonEl =\n",
              "            document.querySelector('#df-e0e81c95-52ed-4a9e-a670-9e17f0092cb6 button');\n",
              "          quickchartButtonEl.style.display =\n",
              "            google.colab.kernel.accessAllowed ? 'block' : 'none';\n",
              "        })();\n",
              "      </script>\n",
              "    </div>\n",
              "\n",
              "    </div>\n",
              "  </div>\n"
            ],
            "application/vnd.google.colaboratory.intrinsic+json": {
              "type": "dataframe",
              "repr_error": "0"
            }
          },
          "metadata": {},
          "execution_count": 215
        }
      ],
      "source": [
        "df_train.sample(3)"
      ]
    },
    {
      "cell_type": "code",
      "execution_count": null,
      "metadata": {
        "id": "AYTWuIZzXson",
        "colab": {
          "base_uri": "https://localhost:8080/",
          "height": 630
        },
        "outputId": "fae5beb2-da88-41b2-ca6e-066358c28048"
      },
      "outputs": [
        {
          "output_type": "display_data",
          "data": {
            "text/plain": [
              "<Figure size 1200x700 with 2 Axes>"
            ],
            "image/png": "[encoded data removed]"
          },
          "metadata": {}
        }
      ],
      "source": [
        "# Group by items_family\n",
        "family_counts_train = df_train['items_family'].value_counts()\n",
        "family_counts_test = df_test['items_family'].value_counts()\n",
        "\n",
        "# Plotting\n",
        "fig, axes = plt.subplots(1, 2, figsize=(12, 7))\n",
        "\n",
        "colors = plt.cm.tab20.colors  # Nice colormap\n",
        "\n",
        "# Train pie chart\n",
        "patches1, texts1, autotexts1 = axes[0].pie(\n",
        "    family_counts_train,\n",
        "    labels=family_counts_train.index,\n",
        "    autopct='%1.1f%%',\n",
        "    startangle=140,\n",
        "    colors=colors,\n",
        "    wedgeprops={'edgecolor': 'white'}\n",
        ")\n",
        "axes[0].set_title('Train Set: Items-family Distribution', fontsize=16)\n",
        "\n",
        "# Test pie chart\n",
        "patches2, texts2, autotexts2 = axes[1].pie(\n",
        "    family_counts_test,\n",
        "    labels=family_counts_test.index,\n",
        "    autopct='%1.1f%%',\n",
        "    startangle=140,\n",
        "    colors=colors,\n",
        "    wedgeprops={'edgecolor': 'white'}\n",
        ")\n",
        "axes[1].set_title('Test Set: Items-family Distribution', fontsize=16)\n",
        "\n",
        "# Text styling\n",
        "for texts in [texts1, texts2]:\n",
        "    for text in texts:\n",
        "        text.set_fontsize(10)\n",
        "for autotexts in [autotexts1, autotexts2]:\n",
        "    for autotext in autotexts:\n",
        "        autotext.set_fontsize(9)\n",
        "\n",
        "plt.tight_layout()\n",
        "plt.show()"
      ]
    },
    {
      "cell_type": "code",
      "execution_count": null,
      "metadata": {
        "id": "AGJeQz7HNYmU"
      },
      "outputs": [],
      "source": [
        "del family_counts_train\n",
        "del family_counts_test"
      ]
    },
    {
      "cell_type": "code",
      "execution_count": null,
      "metadata": {
        "id": "4WqVDZcGPgjq",
        "colab": {
          "base_uri": "https://localhost:8080/"
        },
        "outputId": "48662129-cda1-4fcd-e528-6496a559580e"
      },
      "outputs": [
        {
          "output_type": "stream",
          "name": "stdout",
          "text": [
            "2\n",
            "onpromotion\n",
            "0    91468\n",
            "1     8532\n",
            "Name: count, dtype: int64\n"
          ]
        }
      ],
      "source": [
        "print(df_train[\"onpromotion\"].nunique())\n",
        "print(df_train[\"onpromotion\"].value_counts())"
      ]
    },
    {
      "cell_type": "code",
      "execution_count": null,
      "metadata": {
        "id": "ZrcIIO2LQC6R",
        "colab": {
          "base_uri": "https://localhost:8080/"
        },
        "outputId": "f794911c-1a9b-4411-9cc9-82d07d6ff854"
      },
      "outputs": [
        {
          "output_type": "stream",
          "name": "stdout",
          "text": [
            "53\n",
            "0\n"
          ]
        }
      ],
      "source": [
        "print(df_train[\"store_nbr\"].nunique())\n",
        "print(df_train[\"store_nbr\"].isnull().sum())\n",
        "# print(df_train[\"store_nbr\"].value_counts())"
      ]
    },
    {
      "cell_type": "code",
      "execution_count": null,
      "metadata": {
        "id": "iDU94xZyQc9O",
        "colab": {
          "base_uri": "https://localhost:8080/"
        },
        "outputId": "7d71fd79-bfa3-456f-807d-9b538d14d8a5"
      },
      "outputs": [
        {
          "output_type": "stream",
          "name": "stdout",
          "text": [
            "2\n",
            "holiday_type\n",
            "Holiday     4193\n",
            "Transfer    1336\n",
            "Name: count, dtype: int64\n",
            "94471\n"
          ]
        }
      ],
      "source": [
        "print(df_train[\"holiday_type\"].nunique())\n",
        "print(df_train[\"holiday_type\"].value_counts())\n",
        "print(df_train[\"holiday_type\"].isnull().sum())"
      ]
    },
    {
      "cell_type": "code",
      "execution_count": null,
      "metadata": {
        "colab": {
          "base_uri": "https://localhost:8080/"
        },
        "id": "pEtiSKg6Tx6l",
        "outputId": "5549e142-ba30-47a9-bef6-eea831fb5d77"
      },
      "outputs": [
        {
          "metadata": {
            "tags": null
          },
          "name": "stdout",
          "output_type": "stream",
          "text": [
            "3\n",
            "locale\n",
            "National    3776\n",
            "Local       1284\n",
            "Regional     469\n",
            "Name: count, dtype: int64\n",
            "94471\n"
          ]
        }
      ],
      "source": [
        "print(df_train[\"locale\"].nunique())\n",
        "print(df_train[\"locale\"].value_counts())\n",
        "print(df_train[\"locale\"].isnull().sum())"
      ]
    },
    {
      "cell_type": "code",
      "execution_count": null,
      "metadata": {
        "id": "5dpTbFDrUiTA"
      },
      "outputs": [],
      "source": [
        "df_train[\"transferred\"] = df_train[\"transferred\"].fillna(False).astype('bool')\n",
        "df_train[\"transferred\"] = df_train[\"transferred\"].astype('int8')"
      ]
    },
    {
      "cell_type": "code",
      "execution_count": null,
      "metadata": {
        "colab": {
          "base_uri": "https://localhost:8080/"
        },
        "id": "0yzz_kk8UCeW",
        "outputId": "1af5189d-43c8-46cd-b03d-b21e294c349a"
      },
      "outputs": [
        {
          "output_type": "stream",
          "name": "stdout",
          "text": [
            "2\n",
            "transferred\n",
            "0    99978\n",
            "1       22\n",
            "Name: count, dtype: int64\n",
            "0\n"
          ]
        }
      ],
      "source": [
        "print(df_train[\"transferred\"].nunique())\n",
        "print(df_train[\"transferred\"].value_counts())\n",
        "print(df_train[\"transferred\"].isnull().sum())"
      ]
    },
    {
      "cell_type": "code",
      "execution_count": null,
      "metadata": {
        "id": "hJFOY14DVV0k",
        "colab": {
          "base_uri": "https://localhost:8080/"
        },
        "outputId": "782fc4e6-e9be-47e1-b7ac-95a65ba66bfc"
      },
      "outputs": [
        {
          "metadata": {
            "tags": null
          },
          "name": "stdout",
          "output_type": "stream",
          "text": [
            "4\n",
            "city\n",
            "Guayaquil    13371\n",
            "Daule         1996\n",
            "Libertad      1767\n",
            "Playas        1168\n",
            "Name: count, dtype: int64\n",
            "81698\n"
          ]
        }
      ],
      "source": [
        "print(df_train[\"city\"].nunique())\n",
        "print(df_train[\"city\"].value_counts())\n",
        "print(df_train[\"city\"].isnull().sum())"
      ]
    },
    {
      "cell_type": "code",
      "execution_count": null,
      "metadata": {
        "id": "RPhWttufZMYY",
        "colab": {
          "base_uri": "https://localhost:8080/"
        },
        "outputId": "ba1bb0cb-3626-4d13-e13d-dace11b5c5dd"
      },
      "outputs": [
        {
          "output_type": "stream",
          "name": "stdout",
          "text": [
            "5\n",
            "store_type\n",
            "E    5437\n",
            "D    5399\n",
            "C    3547\n",
            "A    2237\n",
            "B    1682\n",
            "Name: count, dtype: int64\n",
            "81698\n"
          ]
        }
      ],
      "source": [
        "print(df_train[\"store_type\"].nunique())\n",
        "print(df_train[\"store_type\"].value_counts())\n",
        "print(df_train[\"store_type\"].isnull().sum())"
      ]
    },
    {
      "cell_type": "code",
      "execution_count": null,
      "metadata": {
        "id": "9cz2TqG-Z1MN"
      },
      "outputs": [],
      "source": [
        "df_train[\"store_cluster\"] = df_train[\"store_cluster\"].fillna(0).astype('int8')"
      ]
    },
    {
      "cell_type": "code",
      "execution_count": null,
      "metadata": {
        "id": "tbmjkKOMZagB",
        "colab": {
          "base_uri": "https://localhost:8080/"
        },
        "outputId": "84da61d9-e2db-4949-9d8a-cce180c483ef"
      },
      "outputs": [
        {
          "metadata": {
            "tags": null
          },
          "name": "stdout",
          "output_type": "stream",
          "text": [
            "6\n",
            "store_cluster\n",
            "0     81698\n",
            "10     6750\n",
            "1      4086\n",
            "3      3547\n",
            "17     2237\n",
            "6      1682\n",
            "Name: count, dtype: int64\n",
            "0\n"
          ]
        }
      ],
      "source": [
        "print(df_train[\"store_cluster\"].nunique())\n",
        "print(df_train[\"store_cluster\"].value_counts())\n",
        "print(df_train[\"store_cluster\"].isnull().sum())"
      ]
    },
    {
      "cell_type": "code",
      "execution_count": null,
      "metadata": {
        "id": "8IpD17nxaUT4",
        "colab": {
          "base_uri": "https://localhost:8080/"
        },
        "outputId": "02f0456c-d078-451e-ae8b-7d269eb70bbd"
      },
      "outputs": [
        {
          "output_type": "stream",
          "name": "stdout",
          "text": [
            "3\n",
            "items_family\n",
            "GROCERY I    59286\n",
            "BEVERAGES    27681\n",
            "PRODUCE      13033\n",
            "Name: count, dtype: int64\n",
            "0\n"
          ]
        }
      ],
      "source": [
        "print(df_train[\"items_family\"].nunique())\n",
        "print(df_train[\"items_family\"].value_counts())\n",
        "print(df_train[\"items_family\"].isnull().sum())"
      ]
    },
    {
      "cell_type": "code",
      "execution_count": null,
      "metadata": {
        "id": "A1d2QEh3amDK",
        "colab": {
          "base_uri": "https://localhost:8080/"
        },
        "outputId": "732beaaa-3292-42d1-a135-a12adab2c265"
      },
      "outputs": [
        {
          "output_type": "stream",
          "name": "stdout",
          "text": [
            "103\n",
            "item_class\n",
            "1016    5792\n",
            "1040    5763\n",
            "1124    4657\n",
            "1034    4240\n",
            "1122    3941\n",
            "        ... \n",
            "1087       6\n",
            "1153       5\n",
            "1150       3\n",
            "1154       3\n",
            "1046       2\n",
            "Name: count, Length: 103, dtype: int64\n",
            "0\n"
          ]
        }
      ],
      "source": [
        "print(df_train[\"item_class\"].nunique())\n",
        "print(df_train[\"item_class\"].value_counts())\n",
        "print(df_train[\"item_class\"].isnull().sum())"
      ]
    },
    {
      "cell_type": "code",
      "execution_count": null,
      "metadata": {
        "id": "qarR4JjCa8Mz",
        "colab": {
          "base_uri": "https://localhost:8080/"
        },
        "outputId": "aad3f90f-436d-47b5-d4ec-5421a50f018f"
      },
      "outputs": [
        {
          "output_type": "stream",
          "name": "stdout",
          "text": [
            "2\n",
            "perishable_items\n",
            "0    86967\n",
            "1    13033\n",
            "Name: count, dtype: int64\n",
            "0\n"
          ]
        }
      ],
      "source": [
        "print(df_train[\"perishable_items\"].nunique())\n",
        "print(df_train[\"perishable_items\"].value_counts())\n",
        "print(df_train[\"perishable_items\"].isnull().sum())"
      ]
    },
    {
      "cell_type": "code",
      "execution_count": null,
      "metadata": {
        "id": "wXlrgUJKhLtt"
      },
      "outputs": [],
      "source": [
        "# Create a weight column\n",
        "df_train['weight'] = 1.0  # default weight for non-perishable\n",
        "\n",
        "# Increase weight for perishable items\n",
        "df_train.loc[df_train['perishable_items'] == 1, 'weight'] = 1.5"
      ]
    },
    {
      "cell_type": "code",
      "execution_count": null,
      "metadata": {
        "id": "RlPnKDEebSUy",
        "colab": {
          "base_uri": "https://localhost:8080/"
        },
        "outputId": "e85d84ad-0815-4a10-c473-b8d3ad621d66"
      },
      "outputs": [
        {
          "metadata": {
            "tags": null
          },
          "name": "stdout",
          "output_type": "stream",
          "text": [
            "2312\n",
            "transactions\n",
            "1380    221\n",
            "1180    219\n",
            "1068    193\n",
            "1355    181\n",
            "1301    175\n",
            "       ... \n",
            "427       3\n",
            "622       2\n",
            "452       2\n",
            "352       2\n",
            "2300      1\n",
            "Name: count, Length: 2312, dtype: int64\n",
            "0\n"
          ]
        }
      ],
      "source": [
        "print(df_train[\"transactions\"].nunique())\n",
        "print(df_train[\"transactions\"].value_counts())\n",
        "print(df_train[\"transactions\"].isnull().sum())"
      ]
    },
    {
      "cell_type": "code",
      "execution_count": null,
      "metadata": {
        "id": "2PCB6UZtblgx",
        "colab": {
          "base_uri": "https://localhost:8080/"
        },
        "outputId": "6f5ade0c-9829-4634-b256-5347e678e2cc"
      },
      "outputs": [
        {
          "output_type": "stream",
          "name": "stdout",
          "text": [
            "7\n",
            "weekday\n",
            "5    15046\n",
            "0    14463\n",
            "6    14405\n",
            "4    14199\n",
            "1    14194\n",
            "2    13928\n",
            "3    13765\n",
            "Name: count, dtype: int64\n",
            "0\n"
          ]
        }
      ],
      "source": [
        "print(df_train[\"weekday\"].nunique())\n",
        "print(df_train[\"weekday\"].value_counts())\n",
        "print(df_train[\"weekday\"].isnull().sum())"
      ]
    },
    {
      "cell_type": "code",
      "execution_count": null,
      "metadata": {
        "id": "VJtLe3QucE8T"
      },
      "outputs": [],
      "source": [
        "for col in df_train.select_dtypes(include=['int64']).columns:\n",
        "    df_train[col] = pd.to_numeric(df_train[col], downcast='integer')"
      ]
    },
    {
      "cell_type": "code",
      "execution_count": null,
      "metadata": {
        "id": "mZzcMmQKcNN3",
        "colab": {
          "base_uri": "https://localhost:8080/"
        },
        "outputId": "c4fa82e2-1f78-406c-bed8-7d7cf5cf05d8"
      },
      "outputs": [
        {
          "output_type": "stream",
          "name": "stderr",
          "text": [
            "<ipython-input-235-9c7d44bb2d08>:2: FutureWarning: Series.fillna with 'method' is deprecated and will raise in a future version. Use obj.ffill() or obj.bfill() instead.\n",
            "  df_train['dcoilwtico'] = df_train['dcoilwtico'].fillna(method='ffill').fillna(method='bfill')\n"
          ]
        }
      ],
      "source": [
        "# Fill NaN in 'dcoilwtico' (oil price) with previous available value\n",
        "df_train['dcoilwtico'] = df_train['dcoilwtico'].fillna(method='ffill').fillna(method='bfill')"
      ]
    },
    {
      "cell_type": "markdown",
      "metadata": {
        "id": "9gr4K9bJniTG"
      },
      "source": [
        "Theo original idea of this Kaggel code-prediction was that Equador is oil exporting country and high/low oil price significanly influence shopping activity/spending confidence"
      ]
    },
    {
      "cell_type": "code",
      "execution_count": null,
      "metadata": {
        "id": "zxU94WXPjUYf",
        "colab": {
          "base_uri": "https://localhost:8080/",
          "height": 806
        },
        "outputId": "8bc0aa29-6846-478a-c7f4-e0cf90ff1305"
      },
      "outputs": [
        {
          "output_type": "display_data",
          "data": {
            "text/plain": [
              "<Figure size 1000x800 with 2 Axes>"
            ],
            "image/png": "[encoded data removed]"
          },
          "metadata": {}
        }
      ],
      "source": [
        "# Make sure dates are in datetime format\n",
        "df_train['train_date'] = pd.to_datetime(df_train['train_date'])\n",
        "df_test['test_date'] = pd.to_datetime(df_test['test_date'])\n",
        "\n",
        "# Sort by date\n",
        "df_train = df_train.sort_values('train_date')\n",
        "df_test = df_test.sort_values('test_date')\n",
        "\n",
        "# Group unit_sales per day\n",
        "sales_per_day = df_train.groupby('train_date')['unit_sales'].sum()\n",
        "\n",
        "# Create two vertically stacked plots\n",
        "fig, (ax1, ax2) = plt.subplots(2, 1, figsize=(10, 8), sharex=True)\n",
        "\n",
        "# Top plot: Shopping activity\n",
        "ax1.plot(sales_per_day.index, sales_per_day.values, color='green', label='Train Total Unit Sales')\n",
        "ax1.set_title('Shopping Activity Over Time (Total Unit Sales)', fontsize=16)\n",
        "ax1.set_ylabel('Total Unit Sales', fontsize=14)\n",
        "ax1.legend()\n",
        "ax1.grid(True)\n",
        "\n",
        "# Bottom plot: Oil prices\n",
        "ax2.plot(df_train['train_date'], df_train['dcoilwtico'], label='Train Oil Price', color='blue')\n",
        "ax2.plot(df_test['test_date'], df_test['dcoilwtico'], label='Test Oil Price', color='orange')\n",
        "ax2.set_title('Oil Prices Over Time (Train and Test)', fontsize=16)\n",
        "ax2.set_xlabel('Date', fontsize=14)\n",
        "ax2.set_ylabel('Oil Price (dcoilwtico)', fontsize=14)\n",
        "ax2.legend()\n",
        "ax2.grid(True)\n",
        "\n",
        "# Layout adjustment\n",
        "plt.tight_layout()\n",
        "plt.show()"
      ]
    },
    {
      "cell_type": "code",
      "execution_count": null,
      "metadata": {
        "id": "zuVFnvEoF_tO",
        "colab": {
          "base_uri": "https://localhost:8080/",
          "height": 163
        },
        "outputId": "47b27626-ed64-4b1c-9726-a3e40569bd3f"
      },
      "outputs": [
        {
          "output_type": "execute_result",
          "data": {
            "text/plain": [
              "       unit_sales train_date  store_nbr  item_nbr  onpromotion  dcoilwtico  \\\n",
              "7391          2.0 2017-01-08         15   1397779            0       53.01   \n",
              "40010        34.0 2017-03-04         46    464356            0       52.68   \n",
              "23802         5.0 2017-02-08         18   1166475            0       52.37   \n",
              "\n",
              "      holiday_type locale  transferred  city store_type  store_cluster  \\\n",
              "7391          None   None            0  None       None              0   \n",
              "40010         None   None            0  None       None              0   \n",
              "23802         None   None            0  None       None              0   \n",
              "\n",
              "      items_family  item_class  perishable_items  transactions  weekday  \\\n",
              "7391     GROCERY I        1030                 0          1071        6   \n",
              "40010    GROCERY I        1040                 0          4476        5   \n",
              "23802    BEVERAGES        1120                 0          1298        2   \n",
              "\n",
              "       weight  \n",
              "7391      1.0  \n",
              "40010     1.0  \n",
              "23802     1.0  "
            ],
            "text/html": [
              "\n",
              "  <div id=\"df-ec9be1e7-c20f-4e2d-9e17-c3259f817ca7\" class=\"colab-df-container\">\n",
              "    <div>\n",
              "<style scoped>\n",
              "    .dataframe tbody tr th:only-of-type {\n",
              "        vertical-align: middle;\n",
              "    }\n",
              "\n",
              "    .dataframe tbody tr th {\n",
              "        vertical-align: top;\n",
              "    }\n",
              "\n",
              "    .dataframe thead th {\n",
              "        text-align: right;\n",
              "    }\n",
              "</style>\n",
              "<table border=\"1\" class=\"dataframe\">\n",
              "  <thead>\n",
              "    <tr style=\"text-align: right;\">\n",
              "      <th></th>\n",
              "      <th>unit_sales</th>\n",
              "      <th>train_date</th>\n",
              "      <th>store_nbr</th>\n",
              "      <th>item_nbr</th>\n",
              "      <th>onpromotion</th>\n",
              "      <th>dcoilwtico</th>\n",
              "      <th>holiday_type</th>\n",
              "      <th>locale</th>\n",
              "      <th>transferred</th>\n",
              "      <th>city</th>\n",
              "      <th>store_type</th>\n",
              "      <th>store_cluster</th>\n",
              "      <th>items_family</th>\n",
              "      <th>item_class</th>\n",
              "      <th>perishable_items</th>\n",
              "      <th>transactions</th>\n",
              "      <th>weekday</th>\n",
              "      <th>weight</th>\n",
              "    </tr>\n",
              "  </thead>\n",
              "  <tbody>\n",
              "    <tr>\n",
              "      <th>7391</th>\n",
              "      <td>2.0</td>\n",
              "      <td>2017-01-08</td>\n",
              "      <td>15</td>\n",
              "      <td>1397779</td>\n",
              "      <td>0</td>\n",
              "      <td>53.01</td>\n",
              "      <td>None</td>\n",
              "      <td>None</td>\n",
              "      <td>0</td>\n",
              "      <td>None</td>\n",
              "      <td>None</td>\n",
              "      <td>0</td>\n",
              "      <td>GROCERY I</td>\n",
              "      <td>1030</td>\n",
              "      <td>0</td>\n",
              "      <td>1071</td>\n",
              "      <td>6</td>\n",
              "      <td>1.0</td>\n",
              "    </tr>\n",
              "    <tr>\n",
              "      <th>40010</th>\n",
              "      <td>34.0</td>\n",
              "      <td>2017-03-04</td>\n",
              "      <td>46</td>\n",
              "      <td>464356</td>\n",
              "      <td>0</td>\n",
              "      <td>52.68</td>\n",
              "      <td>None</td>\n",
              "      <td>None</td>\n",
              "      <td>0</td>\n",
              "      <td>None</td>\n",
              "      <td>None</td>\n",
              "      <td>0</td>\n",
              "      <td>GROCERY I</td>\n",
              "      <td>1040</td>\n",
              "      <td>0</td>\n",
              "      <td>4476</td>\n",
              "      <td>5</td>\n",
              "      <td>1.0</td>\n",
              "    </tr>\n",
              "    <tr>\n",
              "      <th>23802</th>\n",
              "      <td>5.0</td>\n",
              "      <td>2017-02-08</td>\n",
              "      <td>18</td>\n",
              "      <td>1166475</td>\n",
              "      <td>0</td>\n",
              "      <td>52.37</td>\n",
              "      <td>None</td>\n",
              "      <td>None</td>\n",
              "      <td>0</td>\n",
              "      <td>None</td>\n",
              "      <td>None</td>\n",
              "      <td>0</td>\n",
              "      <td>BEVERAGES</td>\n",
              "      <td>1120</td>\n",
              "      <td>0</td>\n",
              "      <td>1298</td>\n",
              "      <td>2</td>\n",
              "      <td>1.0</td>\n",
              "    </tr>\n",
              "  </tbody>\n",
              "</table>\n",
              "</div>\n",
              "    <div class=\"colab-df-buttons\">\n",
              "\n",
              "  <div class=\"colab-df-container\">\n",
              "    <button class=\"colab-df-convert\" onclick=\"convertToInteractive('df-ec9be1e7-c20f-4e2d-9e17-c3259f817ca7')\"\n",
              "            title=\"Convert this dataframe to an interactive table.\"\n",
              "            style=\"display:none;\">\n",
              "\n",
              "  <svg xmlns=\"http://www.w3.org/2000/svg\" height=\"24px\" viewBox=\"0 -960 960 960\">\n",
              "    <path d=\"M120-120v-720h720v720H120Zm60-500h600v-160H180v160Zm220 220h160v-160H400v160Zm0 220h160v-160H400v160ZM180-400h160v-160H180v160Zm440 0h160v-160H620v160ZM180-180h160v-160H180v160Zm440 0h160v-160H620v160Z\"/>\n",
              "  </svg>\n",
              "    </button>\n",
              "\n",
              "  <style>\n",
              "    .colab-df-container {\n",
              "      display:flex;\n",
              "      gap: 12px;\n",
              "    }\n",
              "\n",
              "    .colab-df-convert {\n",
              "      background-color: #E8F0FE;\n",
              "      border: none;\n",
              "      border-radius: 50%;\n",
              "      cursor: pointer;\n",
              "      display: none;\n",
              "      fill: #1967D2;\n",
              "      height: 32px;\n",
              "      padding: 0 0 0 0;\n",
              "      width: 32px;\n",
              "    }\n",
              "\n",
              "    .colab-df-convert:hover {\n",
              "      background-color: #E2EBFA;\n",
              "      box-shadow: 0px 1px 2px rgba(60, 64, 67, 0.3), 0px 1px 3px 1px rgba(60, 64, 67, 0.15);\n",
              "      fill: #174EA6;\n",
              "    }\n",
              "\n",
              "    .colab-df-buttons div {\n",
              "      margin-bottom: 4px;\n",
              "    }\n",
              "\n",
              "    [theme=dark] .colab-df-convert {\n",
              "      background-color: #3B4455;\n",
              "      fill: #D2E3FC;\n",
              "    }\n",
              "\n",
              "    [theme=dark] .colab-df-convert:hover {\n",
              "      background-color: #434B5C;\n",
              "      box-shadow: 0px 1px 3px 1px rgba(0, 0, 0, 0.15);\n",
              "      filter: drop-shadow(0px 1px 2px rgba(0, 0, 0, 0.3));\n",
              "      fill: #FFFFFF;\n",
              "    }\n",
              "  </style>\n",
              "\n",
              "    <script>\n",
              "      const buttonEl =\n",
              "        document.querySelector('#df-ec9be1e7-c20f-4e2d-9e17-c3259f817ca7 button.colab-df-convert');\n",
              "      buttonEl.style.display =\n",
              "        google.colab.kernel.accessAllowed ? 'block' : 'none';\n",
              "\n",
              "      async function convertToInteractive(key) {\n",
              "        const element = document.querySelector('#df-ec9be1e7-c20f-4e2d-9e17-c3259f817ca7');\n",
              "        const dataTable =\n",
              "          await google.colab.kernel.invokeFunction('convertToInteractive',\n",
              "                                                    [key], {});\n",
              "        if (!dataTable) return;\n",
              "\n",
              "        const docLinkHtml = 'Like what you see? Visit the ' +\n",
              "          '<a target=\"_blank\" href=https://colab.research.google.com/notebooks/data_table.ipynb>data table notebook</a>'\n",
              "          + ' to learn more about interactive tables.';\n",
              "        element.innerHTML = '';\n",
              "        dataTable['output_type'] = 'display_data';\n",
              "        await google.colab.output.renderOutput(dataTable, element);\n",
              "        const docLink = document.createElement('div');\n",
              "        docLink.innerHTML = docLinkHtml;\n",
              "        element.appendChild(docLink);\n",
              "      }\n",
              "    </script>\n",
              "  </div>\n",
              "\n",
              "\n",
              "    <div id=\"df-25292a8d-a811-407f-9c53-de966599bfff\">\n",
              "      <button class=\"colab-df-quickchart\" onclick=\"quickchart('df-25292a8d-a811-407f-9c53-de966599bfff')\"\n",
              "                title=\"Suggest charts\"\n",
              "                style=\"display:none;\">\n",
              "\n",
              "<svg xmlns=\"http://www.w3.org/2000/svg\" height=\"24px\"viewBox=\"0 0 24 24\"\n",
              "     width=\"24px\">\n",
              "    <g>\n",
              "        <path d=\"M19 3H5c-1.1 0-2 .9-2 2v14c0 1.1.9 2 2 2h14c1.1 0 2-.9 2-2V5c0-1.1-.9-2-2-2zM9 17H7v-7h2v7zm4 0h-2V7h2v10zm4 0h-2v-4h2v4z\"/>\n",
              "    </g>\n",
              "</svg>\n",
              "      </button>\n",
              "\n",
              "<style>\n",
              "  .colab-df-quickchart {\n",
              "      --bg-color: #E8F0FE;\n",
              "      --fill-color: #1967D2;\n",
              "      --hover-bg-color: #E2EBFA;\n",
              "      --hover-fill-color: #174EA6;\n",
              "      --disabled-fill-color: #AAA;\n",
              "      --disabled-bg-color: #DDD;\n",
              "  }\n",
              "\n",
              "  [theme=dark] .colab-df-quickchart {\n",
              "      --bg-color: #3B4455;\n",
              "      --fill-color: #D2E3FC;\n",
              "      --hover-bg-color: #434B5C;\n",
              "      --hover-fill-color: #FFFFFF;\n",
              "      --disabled-bg-color: #3B4455;\n",
              "      --disabled-fill-color: #666;\n",
              "  }\n",
              "\n",
              "  .colab-df-quickchart {\n",
              "    background-color: var(--bg-color);\n",
              "    border: none;\n",
              "    border-radius: 50%;\n",
              "    cursor: pointer;\n",
              "    display: none;\n",
              "    fill: var(--fill-color);\n",
              "    height: 32px;\n",
              "    padding: 0;\n",
              "    width: 32px;\n",
              "  }\n",
              "\n",
              "  .colab-df-quickchart:hover {\n",
              "    background-color: var(--hover-bg-color);\n",
              "    box-shadow: 0 1px 2px rgba(60, 64, 67, 0.3), 0 1px 3px 1px rgba(60, 64, 67, 0.15);\n",
              "    fill: var(--button-hover-fill-color);\n",
              "  }\n",
              "\n",
              "  .colab-df-quickchart-complete:disabled,\n",
              "  .colab-df-quickchart-complete:disabled:hover {\n",
              "    background-color: var(--disabled-bg-color);\n",
              "    fill: var(--disabled-fill-color);\n",
              "    box-shadow: none;\n",
              "  }\n",
              "\n",
              "  .colab-df-spinner {\n",
              "    border: 2px solid var(--fill-color);\n",
              "    border-color: transparent;\n",
              "    border-bottom-color: var(--fill-color);\n",
              "    animation:\n",
              "      spin 1s steps(1) infinite;\n",
              "  }\n",
              "\n",
              "  @keyframes spin {\n",
              "    0% {\n",
              "      border-color: transparent;\n",
              "      border-bottom-color: var(--fill-color);\n",
              "      border-left-color: var(--fill-color);\n",
              "    }\n",
              "    20% {\n",
              "      border-color: transparent;\n",
              "      border-left-color: var(--fill-color);\n",
              "      border-top-color: var(--fill-color);\n",
              "    }\n",
              "    30% {\n",
              "      border-color: transparent;\n",
              "      border-left-color: var(--fill-color);\n",
              "      border-top-color: var(--fill-color);\n",
              "      border-right-color: var(--fill-color);\n",
              "    }\n",
              "    40% {\n",
              "      border-color: transparent;\n",
              "      border-right-color: var(--fill-color);\n",
              "      border-top-color: var(--fill-color);\n",
              "    }\n",
              "    60% {\n",
              "      border-color: transparent;\n",
              "      border-right-color: var(--fill-color);\n",
              "    }\n",
              "    80% {\n",
              "      border-color: transparent;\n",
              "      border-right-color: var(--fill-color);\n",
              "      border-bottom-color: var(--fill-color);\n",
              "    }\n",
              "    90% {\n",
              "      border-color: transparent;\n",
              "      border-bottom-color: var(--fill-color);\n",
              "    }\n",
              "  }\n",
              "</style>\n",
              "\n",
              "      <script>\n",
              "        async function quickchart(key) {\n",
              "          const quickchartButtonEl =\n",
              "            document.querySelector('#' + key + ' button');\n",
              "          quickchartButtonEl.disabled = true;  // To prevent multiple clicks.\n",
              "          quickchartButtonEl.classList.add('colab-df-spinner');\n",
              "          try {\n",
              "            const charts = await google.colab.kernel.invokeFunction(\n",
              "                'suggestCharts', [key], {});\n",
              "          } catch (error) {\n",
              "            console.error('Error during call to suggestCharts:', error);\n",
              "          }\n",
              "          quickchartButtonEl.classList.remove('colab-df-spinner');\n",
              "          quickchartButtonEl.classList.add('colab-df-quickchart-complete');\n",
              "        }\n",
              "        (() => {\n",
              "          let quickchartButtonEl =\n",
              "            document.querySelector('#df-25292a8d-a811-407f-9c53-de966599bfff button');\n",
              "          quickchartButtonEl.style.display =\n",
              "            google.colab.kernel.accessAllowed ? 'block' : 'none';\n",
              "        })();\n",
              "      </script>\n",
              "    </div>\n",
              "\n",
              "    </div>\n",
              "  </div>\n"
            ],
            "application/vnd.google.colaboratory.intrinsic+json": {
              "type": "dataframe",
              "repr_error": "0"
            }
          },
          "metadata": {},
          "execution_count": 237
        }
      ],
      "source": [
        "df_train.sample(3)"
      ]
    },
    {
      "cell_type": "code",
      "execution_count": null,
      "metadata": {
        "id": "gO90iT7nw9Xn",
        "colab": {
          "base_uri": "https://localhost:8080/"
        },
        "outputId": "49820ab3-14cc-4f5b-e2ec-bb62c6805f21"
      },
      "outputs": [
        {
          "output_type": "execute_result",
          "data": {
            "text/plain": [
              "(100000, 18)"
            ]
          },
          "metadata": {},
          "execution_count": 238
        }
      ],
      "source": [
        "df_enc = df_train.copy() # encoded\n",
        "df_enc.shape"
      ]
    },
    {
      "cell_type": "code",
      "execution_count": null,
      "metadata": {
        "id": "yIFd2yhUgyJj"
      },
      "outputs": [],
      "source": [
        "# Save the DataFrame to a compressed file\n",
        "# joblib.dump(df_train, 'df_train.joblib.gz', compress=('gzip', 3))"
      ]
    },
    {
      "cell_type": "code",
      "execution_count": null,
      "metadata": {
        "id": "CDP4ShSRxNPG",
        "colab": {
          "base_uri": "https://localhost:8080/"
        },
        "outputId": "e85e61a4-f102-4a32-82f2-9f986bddaaa2"
      },
      "outputs": [
        {
          "output_type": "execute_result",
          "data": {
            "text/plain": [
              "10898"
            ]
          },
          "metadata": {},
          "execution_count": 240
        }
      ],
      "source": [
        "gc.collect() # gc.collect() are for garbage collection — basically cleaning up memory that Python no longer needs"
      ]
    },
    {
      "cell_type": "markdown",
      "metadata": {
        "id": "G3S_YPixthYw"
      },
      "source": [
        "# Data Preparation"
      ]
    },
    {
      "cell_type": "markdown",
      "metadata": {
        "id": "kRsRks0Ett-C"
      },
      "source": [
        "## cleaning and encoding"
      ]
    },
    {
      "cell_type": "markdown",
      "metadata": {
        "id": "zqiYfYe6EGDK"
      },
      "source": [
        "### Z-score 2%"
      ]
    },
    {
      "cell_type": "code",
      "execution_count": null,
      "metadata": {
        "id": "DCL1ZvyLEAqk",
        "colab": {
          "base_uri": "https://localhost:8080/",
          "height": 186
        },
        "outputId": "e1cd2fc0-407a-4822-e1f0-8e6e8ed88a89"
      },
      "outputs": [
        {
          "output_type": "stream",
          "name": "stdout",
          "text": [
            "Number of outliers detected: 31\n"
          ]
        },
        {
          "output_type": "stream",
          "name": "stderr",
          "text": [
            "<ipython-input-241-50815ae4462c>:12: DeprecationWarning: DataFrameGroupBy.apply operated on the grouping columns. This behavior is deprecated, and in a future version of pandas the grouping columns will be excluded from the operation. Either pass `include_groups=False` to exclude the groupings or explicitly select the grouping columns after groupby to silence this warning.\n",
            "  df_enc_grouped = df_train.groupby(['store_nbr', 'item_nbr']).apply(calculate_store_item_zscore)\n"
          ]
        },
        {
          "output_type": "execute_result",
          "data": {
            "text/plain": [
              "       unit_sales train_date  store_nbr  item_nbr  onpromotion  dcoilwtico  \\\n",
              "88050        15.0 2017-04-06         48    805321            0       51.69   \n",
              "49208         8.0 2017-03-31         27   1958219            0       50.54   \n",
              "\n",
              "      holiday_type locale  transferred   city store_type  store_cluster  \\\n",
              "88050         None   None            0   None       None              0   \n",
              "49208         None   None            0  Daule          D              1   \n",
              "\n",
              "      items_family  item_class  perishable_items  transactions  weekday  \\\n",
              "88050    GROCERY I        1060                 0          2522        3   \n",
              "49208    BEVERAGES        1142                 0          1710        4   \n",
              "\n",
              "       weight   z_score  \n",
              "88050     1.0  2.267787  \n",
              "49208     1.0  2.081795  "
            ],
            "text/html": [
              "\n",
              "  <div id=\"df-e4171ecb-6a34-4f30-8245-fac8407c94ba\" class=\"colab-df-container\">\n",
              "    <div>\n",
              "<style scoped>\n",
              "    .dataframe tbody tr th:only-of-type {\n",
              "        vertical-align: middle;\n",
              "    }\n",
              "\n",
              "    .dataframe tbody tr th {\n",
              "        vertical-align: top;\n",
              "    }\n",
              "\n",
              "    .dataframe thead th {\n",
              "        text-align: right;\n",
              "    }\n",
              "</style>\n",
              "<table border=\"1\" class=\"dataframe\">\n",
              "  <thead>\n",
              "    <tr style=\"text-align: right;\">\n",
              "      <th></th>\n",
              "      <th>unit_sales</th>\n",
              "      <th>train_date</th>\n",
              "      <th>store_nbr</th>\n",
              "      <th>item_nbr</th>\n",
              "      <th>onpromotion</th>\n",
              "      <th>dcoilwtico</th>\n",
              "      <th>holiday_type</th>\n",
              "      <th>locale</th>\n",
              "      <th>transferred</th>\n",
              "      <th>city</th>\n",
              "      <th>store_type</th>\n",
              "      <th>store_cluster</th>\n",
              "      <th>items_family</th>\n",
              "      <th>item_class</th>\n",
              "      <th>perishable_items</th>\n",
              "      <th>transactions</th>\n",
              "      <th>weekday</th>\n",
              "      <th>weight</th>\n",
              "      <th>z_score</th>\n",
              "    </tr>\n",
              "  </thead>\n",
              "  <tbody>\n",
              "    <tr>\n",
              "      <th>88050</th>\n",
              "      <td>15.0</td>\n",
              "      <td>2017-04-06</td>\n",
              "      <td>48</td>\n",
              "      <td>805321</td>\n",
              "      <td>0</td>\n",
              "      <td>51.69</td>\n",
              "      <td>None</td>\n",
              "      <td>None</td>\n",
              "      <td>0</td>\n",
              "      <td>None</td>\n",
              "      <td>None</td>\n",
              "      <td>0</td>\n",
              "      <td>GROCERY I</td>\n",
              "      <td>1060</td>\n",
              "      <td>0</td>\n",
              "      <td>2522</td>\n",
              "      <td>3</td>\n",
              "      <td>1.0</td>\n",
              "      <td>2.267787</td>\n",
              "    </tr>\n",
              "    <tr>\n",
              "      <th>49208</th>\n",
              "      <td>8.0</td>\n",
              "      <td>2017-03-31</td>\n",
              "      <td>27</td>\n",
              "      <td>1958219</td>\n",
              "      <td>0</td>\n",
              "      <td>50.54</td>\n",
              "      <td>None</td>\n",
              "      <td>None</td>\n",
              "      <td>0</td>\n",
              "      <td>Daule</td>\n",
              "      <td>D</td>\n",
              "      <td>1</td>\n",
              "      <td>BEVERAGES</td>\n",
              "      <td>1142</td>\n",
              "      <td>0</td>\n",
              "      <td>1710</td>\n",
              "      <td>4</td>\n",
              "      <td>1.0</td>\n",
              "      <td>2.081795</td>\n",
              "    </tr>\n",
              "  </tbody>\n",
              "</table>\n",
              "</div>\n",
              "    <div class=\"colab-df-buttons\">\n",
              "\n",
              "  <div class=\"colab-df-container\">\n",
              "    <button class=\"colab-df-convert\" onclick=\"convertToInteractive('df-e4171ecb-6a34-4f30-8245-fac8407c94ba')\"\n",
              "            title=\"Convert this dataframe to an interactive table.\"\n",
              "            style=\"display:none;\">\n",
              "\n",
              "  <svg xmlns=\"http://www.w3.org/2000/svg\" height=\"24px\" viewBox=\"0 -960 960 960\">\n",
              "    <path d=\"M120-120v-720h720v720H120Zm60-500h600v-160H180v160Zm220 220h160v-160H400v160Zm0 220h160v-160H400v160ZM180-400h160v-160H180v160Zm440 0h160v-160H620v160ZM180-180h160v-160H180v160Zm440 0h160v-160H620v160Z\"/>\n",
              "  </svg>\n",
              "    </button>\n",
              "\n",
              "  <style>\n",
              "    .colab-df-container {\n",
              "      display:flex;\n",
              "      gap: 12px;\n",
              "    }\n",
              "\n",
              "    .colab-df-convert {\n",
              "      background-color: #E8F0FE;\n",
              "      border: none;\n",
              "      border-radius: 50%;\n",
              "      cursor: pointer;\n",
              "      display: none;\n",
              "      fill: #1967D2;\n",
              "      height: 32px;\n",
              "      padding: 0 0 0 0;\n",
              "      width: 32px;\n",
              "    }\n",
              "\n",
              "    .colab-df-convert:hover {\n",
              "      background-color: #E2EBFA;\n",
              "      box-shadow: 0px 1px 2px rgba(60, 64, 67, 0.3), 0px 1px 3px 1px rgba(60, 64, 67, 0.15);\n",
              "      fill: #174EA6;\n",
              "    }\n",
              "\n",
              "    .colab-df-buttons div {\n",
              "      margin-bottom: 4px;\n",
              "    }\n",
              "\n",
              "    [theme=dark] .colab-df-convert {\n",
              "      background-color: #3B4455;\n",
              "      fill: #D2E3FC;\n",
              "    }\n",
              "\n",
              "    [theme=dark] .colab-df-convert:hover {\n",
              "      background-color: #434B5C;\n",
              "      box-shadow: 0px 1px 3px 1px rgba(0, 0, 0, 0.15);\n",
              "      filter: drop-shadow(0px 1px 2px rgba(0, 0, 0, 0.3));\n",
              "      fill: #FFFFFF;\n",
              "    }\n",
              "  </style>\n",
              "\n",
              "    <script>\n",
              "      const buttonEl =\n",
              "        document.querySelector('#df-e4171ecb-6a34-4f30-8245-fac8407c94ba button.colab-df-convert');\n",
              "      buttonEl.style.display =\n",
              "        google.colab.kernel.accessAllowed ? 'block' : 'none';\n",
              "\n",
              "      async function convertToInteractive(key) {\n",
              "        const element = document.querySelector('#df-e4171ecb-6a34-4f30-8245-fac8407c94ba');\n",
              "        const dataTable =\n",
              "          await google.colab.kernel.invokeFunction('convertToInteractive',\n",
              "                                                    [key], {});\n",
              "        if (!dataTable) return;\n",
              "\n",
              "        const docLinkHtml = 'Like what you see? Visit the ' +\n",
              "          '<a target=\"_blank\" href=https://colab.research.google.com/notebooks/data_table.ipynb>data table notebook</a>'\n",
              "          + ' to learn more about interactive tables.';\n",
              "        element.innerHTML = '';\n",
              "        dataTable['output_type'] = 'display_data';\n",
              "        await google.colab.output.renderOutput(dataTable, element);\n",
              "        const docLink = document.createElement('div');\n",
              "        docLink.innerHTML = docLinkHtml;\n",
              "        element.appendChild(docLink);\n",
              "      }\n",
              "    </script>\n",
              "  </div>\n",
              "\n",
              "\n",
              "    <div id=\"df-bb546d7b-be04-4bd3-8cf7-3c52741fc1dd\">\n",
              "      <button class=\"colab-df-quickchart\" onclick=\"quickchart('df-bb546d7b-be04-4bd3-8cf7-3c52741fc1dd')\"\n",
              "                title=\"Suggest charts\"\n",
              "                style=\"display:none;\">\n",
              "\n",
              "<svg xmlns=\"http://www.w3.org/2000/svg\" height=\"24px\"viewBox=\"0 0 24 24\"\n",
              "     width=\"24px\">\n",
              "    <g>\n",
              "        <path d=\"M19 3H5c-1.1 0-2 .9-2 2v14c0 1.1.9 2 2 2h14c1.1 0 2-.9 2-2V5c0-1.1-.9-2-2-2zM9 17H7v-7h2v7zm4 0h-2V7h2v10zm4 0h-2v-4h2v4z\"/>\n",
              "    </g>\n",
              "</svg>\n",
              "      </button>\n",
              "\n",
              "<style>\n",
              "  .colab-df-quickchart {\n",
              "      --bg-color: #E8F0FE;\n",
              "      --fill-color: #1967D2;\n",
              "      --hover-bg-color: #E2EBFA;\n",
              "      --hover-fill-color: #174EA6;\n",
              "      --disabled-fill-color: #AAA;\n",
              "      --disabled-bg-color: #DDD;\n",
              "  }\n",
              "\n",
              "  [theme=dark] .colab-df-quickchart {\n",
              "      --bg-color: #3B4455;\n",
              "      --fill-color: #D2E3FC;\n",
              "      --hover-bg-color: #434B5C;\n",
              "      --hover-fill-color: #FFFFFF;\n",
              "      --disabled-bg-color: #3B4455;\n",
              "      --disabled-fill-color: #666;\n",
              "  }\n",
              "\n",
              "  .colab-df-quickchart {\n",
              "    background-color: var(--bg-color);\n",
              "    border: none;\n",
              "    border-radius: 50%;\n",
              "    cursor: pointer;\n",
              "    display: none;\n",
              "    fill: var(--fill-color);\n",
              "    height: 32px;\n",
              "    padding: 0;\n",
              "    width: 32px;\n",
              "  }\n",
              "\n",
              "  .colab-df-quickchart:hover {\n",
              "    background-color: var(--hover-bg-color);\n",
              "    box-shadow: 0 1px 2px rgba(60, 64, 67, 0.3), 0 1px 3px 1px rgba(60, 64, 67, 0.15);\n",
              "    fill: var(--button-hover-fill-color);\n",
              "  }\n",
              "\n",
              "  .colab-df-quickchart-complete:disabled,\n",
              "  .colab-df-quickchart-complete:disabled:hover {\n",
              "    background-color: var(--disabled-bg-color);\n",
              "    fill: var(--disabled-fill-color);\n",
              "    box-shadow: none;\n",
              "  }\n",
              "\n",
              "  .colab-df-spinner {\n",
              "    border: 2px solid var(--fill-color);\n",
              "    border-color: transparent;\n",
              "    border-bottom-color: var(--fill-color);\n",
              "    animation:\n",
              "      spin 1s steps(1) infinite;\n",
              "  }\n",
              "\n",
              "  @keyframes spin {\n",
              "    0% {\n",
              "      border-color: transparent;\n",
              "      border-bottom-color: var(--fill-color);\n",
              "      border-left-color: var(--fill-color);\n",
              "    }\n",
              "    20% {\n",
              "      border-color: transparent;\n",
              "      border-left-color: var(--fill-color);\n",
              "      border-top-color: var(--fill-color);\n",
              "    }\n",
              "    30% {\n",
              "      border-color: transparent;\n",
              "      border-left-color: var(--fill-color);\n",
              "      border-top-color: var(--fill-color);\n",
              "      border-right-color: var(--fill-color);\n",
              "    }\n",
              "    40% {\n",
              "      border-color: transparent;\n",
              "      border-right-color: var(--fill-color);\n",
              "      border-top-color: var(--fill-color);\n",
              "    }\n",
              "    60% {\n",
              "      border-color: transparent;\n",
              "      border-right-color: var(--fill-color);\n",
              "    }\n",
              "    80% {\n",
              "      border-color: transparent;\n",
              "      border-right-color: var(--fill-color);\n",
              "      border-bottom-color: var(--fill-color);\n",
              "    }\n",
              "    90% {\n",
              "      border-color: transparent;\n",
              "      border-bottom-color: var(--fill-color);\n",
              "    }\n",
              "  }\n",
              "</style>\n",
              "\n",
              "      <script>\n",
              "        async function quickchart(key) {\n",
              "          const quickchartButtonEl =\n",
              "            document.querySelector('#' + key + ' button');\n",
              "          quickchartButtonEl.disabled = true;  // To prevent multiple clicks.\n",
              "          quickchartButtonEl.classList.add('colab-df-spinner');\n",
              "          try {\n",
              "            const charts = await google.colab.kernel.invokeFunction(\n",
              "                'suggestCharts', [key], {});\n",
              "          } catch (error) {\n",
              "            console.error('Error during call to suggestCharts:', error);\n",
              "          }\n",
              "          quickchartButtonEl.classList.remove('colab-df-spinner');\n",
              "          quickchartButtonEl.classList.add('colab-df-quickchart-complete');\n",
              "        }\n",
              "        (() => {\n",
              "          let quickchartButtonEl =\n",
              "            document.querySelector('#df-bb546d7b-be04-4bd3-8cf7-3c52741fc1dd button');\n",
              "          quickchartButtonEl.style.display =\n",
              "            google.colab.kernel.accessAllowed ? 'block' : 'none';\n",
              "        })();\n",
              "      </script>\n",
              "    </div>\n",
              "\n",
              "    </div>\n",
              "  </div>\n"
            ],
            "application/vnd.google.colaboratory.intrinsic+json": {
              "type": "dataframe",
              "repr_error": "0"
            }
          },
          "metadata": {},
          "execution_count": 241
        }
      ],
      "source": [
        "# Function to calculate Z-score 2% for each group (store-item combination)\n",
        "def calculate_store_item_zscore(group):\n",
        "    # Compute mean and standard deviation for each store-item group\n",
        "    mean_sales = group['unit_sales'].mean()\n",
        "    std_sales = group['unit_sales'].std()\n",
        "\n",
        "    # Calculate Z-score (avoiding division by zero for standard deviation)\n",
        "    group['z_score'] = (group['unit_sales'] - mean_sales) / (std_sales if std_sales != 0 else 1)\n",
        "    return group\n",
        "\n",
        "# Apply the Z-score calculation to each store-item group without resetting the index\n",
        "df_enc_grouped = df_train.groupby(['store_nbr', 'item_nbr']).apply(calculate_store_item_zscore)\n",
        "df_enc_grouped.reset_index(drop=True, inplace=True)\n",
        "\n",
        "# Define threshold for outliers (e.g., Z-score > 2)\n",
        "outliers = df_enc_grouped[df_enc_grouped['z_score'] > 2]\n",
        "\n",
        "# Print summary\n",
        "print(f\"Number of outliers detected: {len(outliers)}\")\n",
        "del df_enc_grouped\n",
        "outliers.sample(2)"
      ]
    },
    {
      "cell_type": "markdown",
      "metadata": {
        "id": "FkAIDSC0t9wm"
      },
      "source": [
        "### target unit_sales — it’s a continuous numerical value"
      ]
    },
    {
      "cell_type": "markdown",
      "metadata": {
        "id": "QNVQxAvyuFCI"
      },
      "source": [
        "Log transform it to stabilize variance (because sales can have huge spikes)"
      ]
    },
    {
      "cell_type": "code",
      "execution_count": null,
      "metadata": {
        "id": "p7mynWcxuIK4"
      },
      "outputs": [],
      "source": [
        "df_enc['unit_sales_log'] = np.log1p(df_enc['unit_sales'])"
      ]
    },
    {
      "cell_type": "code",
      "execution_count": null,
      "metadata": {
        "id": "8igV9DbluTQi"
      },
      "outputs": [],
      "source": [
        "# preds = np.expm1(model_predictions) after prediction you can reverse transform"
      ]
    },
    {
      "cell_type": "markdown",
      "metadata": {
        "id": "Lw1FvxGqvHY6"
      },
      "source": [
        "### dates"
      ]
    },
    {
      "cell_type": "code",
      "execution_count": null,
      "metadata": {
        "id": "wOsKDh8IvK-a"
      },
      "outputs": [],
      "source": [
        "df_enc['month'] = df_enc['train_date'].dt.month\n",
        "df_enc['day_of_month'] = df_enc['train_date'].dt.day\n",
        "df_enc['year'] = df_enc['train_date'].dt.year"
      ]
    },
    {
      "cell_type": "code",
      "execution_count": null,
      "metadata": {
        "id": "4pDJ4gnfJ3tI"
      },
      "outputs": [],
      "source": [
        "df_enc['year'] = df_enc['year'] - df_enc['year'].min()"
      ]
    },
    {
      "cell_type": "markdown",
      "metadata": {
        "id": "sER08NwXBbnR"
      },
      "source": [
        "### store_nbr"
      ]
    },
    {
      "cell_type": "markdown",
      "metadata": {
        "id": "XidEuJh8NT3n"
      },
      "source": [
        "nothig"
      ]
    },
    {
      "cell_type": "markdown",
      "metadata": {
        "id": "NXRDxy0aNWKS"
      },
      "source": [
        "## item_nbr"
      ]
    },
    {
      "cell_type": "code",
      "execution_count": null,
      "metadata": {
        "id": "ZG7c2sYWNDww"
      },
      "outputs": [],
      "source": [
        "le = LabelEncoder()\n",
        "df_enc['item_nbr'] = le.fit_transform(df_enc['item_nbr'])\n",
        "df_enc['item_nbr'] = df_enc['item_nbr'].astype('uint32')"
      ]
    },
    {
      "cell_type": "markdown",
      "metadata": {
        "id": "h76MzsHSN8WQ"
      },
      "source": [
        "## onpromotion"
      ]
    },
    {
      "cell_type": "markdown",
      "metadata": {
        "id": "DoFhumhzN_dx"
      },
      "source": [
        "nothing"
      ]
    },
    {
      "cell_type": "markdown",
      "metadata": {
        "id": "qqQTEz7POGbl"
      },
      "source": [
        "## dcoilwtico"
      ]
    },
    {
      "cell_type": "code",
      "execution_count": null,
      "metadata": {
        "id": "0PWFGWl0O46p"
      },
      "outputs": [],
      "source": [
        "scaler = StandardScaler()\n",
        "df_enc['dcoilwtico_scaled'] = scaler.fit_transform(df_enc[['dcoilwtico']])"
      ]
    },
    {
      "cell_type": "markdown",
      "metadata": {
        "id": "mrCuqM0VPeQf"
      },
      "source": [
        "## \tholiday_type"
      ]
    },
    {
      "cell_type": "code",
      "execution_count": null,
      "metadata": {
        "id": "J6fk0LRtQHez"
      },
      "outputs": [],
      "source": [
        "# One-hot encode 'holiday_type', treating NaNs as a separate category\n",
        "holiday_dummies = pd.get_dummies(df_enc['holiday_type'], prefix='holiday', dummy_na=True)\n",
        "\n",
        "# Concatenate back to df_enc\n",
        "df_enc = pd.concat([df_enc, holiday_dummies], axis=1)\n",
        "\n",
        "# Force all holiday_* columns to be 0/1 integers\n",
        "for col in holiday_dummies.columns:\n",
        "    df_enc[col] = df_enc[col].astype(int)\n",
        "\n",
        "# (Optional) Drop the original column if I want\n",
        "# df_enc.drop('holiday_type', axis=1, inplace=True)"
      ]
    },
    {
      "cell_type": "markdown",
      "metadata": {
        "id": "l1aSaiA2Qr1u"
      },
      "source": [
        "## locale"
      ]
    },
    {
      "cell_type": "code",
      "execution_count": null,
      "metadata": {
        "id": "wE7BDLU5RBBM"
      },
      "outputs": [],
      "source": [
        "locale_dummies = pd.get_dummies(df_enc['locale'], prefix='locale', dummy_na=True)\n",
        "df_enc = pd.concat([df_enc, locale_dummies], axis=1)\n",
        "\n",
        "for col in locale_dummies.columns:\n",
        "    df_enc[col] = df_enc[col].astype(int)"
      ]
    },
    {
      "cell_type": "markdown",
      "metadata": {
        "id": "voSq8XVAShSj"
      },
      "source": [
        "## city"
      ]
    },
    {
      "cell_type": "code",
      "execution_count": null,
      "metadata": {
        "id": "kpbcnulBSo3q"
      },
      "outputs": [],
      "source": [
        "city_dummies = pd.get_dummies(df_enc['city'], prefix='city', dummy_na=True)\n",
        "df_enc = pd.concat([df_enc, city_dummies], axis=1)\n",
        "\n",
        "for col in city_dummies.columns:\n",
        "    df_enc[col] = df_enc[col].astype(int)"
      ]
    },
    {
      "cell_type": "markdown",
      "metadata": {
        "id": "NDI21DzNTCq4"
      },
      "source": [
        "## store_type"
      ]
    },
    {
      "cell_type": "code",
      "execution_count": null,
      "metadata": {
        "id": "YreuHmKJTLao"
      },
      "outputs": [],
      "source": [
        "store_type_dummies = pd.get_dummies(df_enc['store_type'], prefix='store_type', dummy_na=True)\n",
        "df_enc = pd.concat([df_enc, store_type_dummies], axis=1)\n",
        "\n",
        "for col in store_type_dummies.columns:\n",
        "    df_enc[col] = df_enc[col].astype(int)"
      ]
    },
    {
      "cell_type": "markdown",
      "metadata": {
        "id": "0y64T5cRVREz"
      },
      "source": [
        "## \tstore_cluster"
      ]
    },
    {
      "cell_type": "code",
      "execution_count": null,
      "metadata": {
        "id": "a0U66aInVafv"
      },
      "outputs": [],
      "source": [
        "store_cluster_dummies = pd.get_dummies(df_enc['store_cluster'], prefix='store_cluster', dummy_na=True)\n",
        "df_enc = pd.concat([df_enc, store_cluster_dummies], axis=1)\n",
        "\n",
        "for col in store_cluster_dummies.columns:\n",
        "    df_enc[col] = df_enc[col].astype(int)"
      ]
    },
    {
      "cell_type": "markdown",
      "metadata": {
        "id": "x0oYUoWqWWb2"
      },
      "source": [
        "## items_family"
      ]
    },
    {
      "cell_type": "code",
      "execution_count": null,
      "metadata": {
        "id": "RxddhzRuWijc"
      },
      "outputs": [],
      "source": [
        "items_family_dummies = pd.get_dummies(df_enc['items_family'], prefix='items_family', dummy_na=True)\n",
        "df_enc = pd.concat([df_enc, items_family_dummies], axis=1)\n",
        "\n",
        "for col in items_family_dummies.columns:\n",
        "    df_enc[col] = df_enc[col].astype(int)"
      ]
    },
    {
      "cell_type": "markdown",
      "metadata": {
        "id": "LAW-KERWXRHo"
      },
      "source": [
        "## perishable_items"
      ]
    },
    {
      "cell_type": "markdown",
      "metadata": {
        "id": "tcDPI2oiXYd4"
      },
      "source": [
        "nothing"
      ]
    },
    {
      "cell_type": "markdown",
      "metadata": {
        "id": "tDlm3QgFX_-p"
      },
      "source": [
        "## transferred"
      ]
    },
    {
      "cell_type": "markdown",
      "metadata": {
        "id": "ppJuM6xAYFtW"
      },
      "source": [
        "nothing"
      ]
    },
    {
      "cell_type": "markdown",
      "metadata": {
        "id": "KLqQoUqSYTqw"
      },
      "source": [
        "## item_class"
      ]
    },
    {
      "cell_type": "markdown",
      "metadata": {
        "id": "ureMorIIZELq"
      },
      "source": [
        "no perfect decision - nothing"
      ]
    },
    {
      "cell_type": "markdown",
      "metadata": {
        "id": "bNybBO76ZdlE"
      },
      "source": [
        "## transactions"
      ]
    },
    {
      "cell_type": "code",
      "execution_count": null,
      "metadata": {
        "id": "9rqwTEeLcVhp"
      },
      "outputs": [],
      "source": [
        "scaler = MinMaxScaler()\n",
        "df_enc['transactions'] = scaler.fit_transform(df_enc[['transactions']])"
      ]
    },
    {
      "cell_type": "markdown",
      "metadata": {
        "id": "-s19rupJcm3T"
      },
      "source": [
        "## weekday"
      ]
    },
    {
      "cell_type": "markdown",
      "metadata": {
        "id": "H6QQgVhTcrjC"
      },
      "source": [
        "nothing"
      ]
    },
    {
      "cell_type": "markdown",
      "metadata": {
        "id": "BTZcRjuD91cj"
      },
      "source": [
        "### Drop all the columns I don’t want at once, but keep them safely aside"
      ]
    },
    {
      "cell_type": "code",
      "execution_count": null,
      "metadata": {
        "id": "QSPvELAWFg5h"
      },
      "outputs": [],
      "source": [
        "# List of columns I want to temporarily remove\n",
        "columns_to_hide = ['item_nbr', 'unit_sales', 'dcoilwtico', 'holiday_type', 'locale', 'city', 'store_type', 'items_family']\n",
        "\n",
        "# 1️⃣ Save the columns separately\n",
        "hidden_data = df_enc[columns_to_hide].copy()\n",
        "\n",
        "# 2️⃣ Drop them from df_enc (now df_enc has only working features)\n",
        "df_enc = df_enc.drop(columns=columns_to_hide)\n",
        "\n",
        "# 3️⃣ If later you want to restore:\n",
        "# df_enc = pd.concat([df_enc, hidden_data], axis=1)"
      ]
    },
    {
      "cell_type": "markdown",
      "metadata": {
        "id": "39Akyrnsfi8E"
      },
      "source": [
        "## Drop about 5% combine of most “outlier” points based on distance"
      ]
    },
    {
      "cell_type": "markdown",
      "metadata": {
        "id": "xfaf-o-QfoRt"
      },
      "source": [
        "Use KNN to 3% find “weird” points — points far from their 10 nearest neighbors"
      ]
    },
    {
      "cell_type": "code",
      "execution_count": null,
      "metadata": {
        "id": "zeV0zfIQe0-d"
      },
      "outputs": [],
      "source": [
        "# Step 1: Prepare\n",
        "X_target = df_enc[['unit_sales_log']].values  # Needs 2D for KNN\n",
        "\n",
        "# Step 2: Fit Nearest Neighbors\n",
        "knn = NearestNeighbors(n_neighbors=10)\n",
        "knn.fit(X_target)\n",
        "\n",
        "# Step 3: Find average distance to neighbors\n",
        "distances, _ = knn.kneighbors(X_target)\n",
        "avg_distances = distances.mean(axis=1)\n",
        "\n",
        "# Step 4: Define threshold to drop top 3% largest distances (biggest outliers)\n",
        "threshold = np.percentile(avg_distances, 97)\n",
        "\n",
        "# Step 5: Keep only points below the threshold\n",
        "mask = avg_distances < threshold\n",
        "df_enc_cleaned = df_enc[mask].reset_index(drop=True)\n",
        "\n",
        "print(f\"✅ Outliers removed. New shape: {df_enc_cleaned.shape}\")"
      ]
    },
    {
      "cell_type": "code",
      "execution_count": null,
      "metadata": {
        "id": "Xq98R4ztg_dt"
      },
      "outputs": [],
      "source": [
        "df_model = df_enc_cleaned.copy()"
      ]
    },
    {
      "cell_type": "code",
      "execution_count": null,
      "metadata": {
        "id": "S6yHrbjGg-TO"
      },
      "outputs": [],
      "source": [
        "# Save the DataFrame to a compressed file\n",
        "# joblib.dump(df_enc, 'df_enc.joblib.gz', compress=('gzip', 3))\n",
        "# joblib.dump(df_enc_cleaned, 'df_enc_cleaned.joblib.gz', compress=('gzip', 3))"
      ]
    },
    {
      "cell_type": "code",
      "execution_count": null,
      "metadata": {
        "id": "vSe-K7RakAhL"
      },
      "outputs": [],
      "source": [
        "gc.collect() # gc.collect() are for garbage collection — basically cleaning up memory that Python no longer needs"
      ]
    },
    {
      "cell_type": "code",
      "execution_count": null,
      "metadata": {
        "id": "bGY1cwNzTr52"
      },
      "outputs": [],
      "source": [
        "df_model.sample(3)"
      ]
    },
    {
      "cell_type": "markdown",
      "metadata": {
        "id": "NG0WQixdf3RI"
      },
      "source": [
        "# EDA"
      ]
    },
    {
      "cell_type": "markdown",
      "metadata": {
        "id": "5a3bzReDWg8h"
      },
      "source": [
        "This Random Forest shows only very general feature importance tendency, as the most influential feature \"transactions\" was taken out"
      ]
    },
    {
      "cell_type": "code",
      "execution_count": null,
      "metadata": {
        "id": "XZbCGZtEUaFh",
        "colab": {
          "base_uri": "https://localhost:8080/",
          "height": 552
        },
        "outputId": "755a1935-7fda-4598-ee76-7c7d9cab9417"
      },
      "outputs": [
        {
          "output_type": "stream",
          "name": "stdout",
          "text": [
            "✅ Mean Absolute Error: 0.6121\n",
            "✅ R² Score: 0.2402\n"
          ]
        },
        {
          "output_type": "stream",
          "name": "stderr",
          "text": [
            "<ipython-input-265-f0d99edc45a4>:34: FutureWarning: \n",
            "\n",
            "Passing `palette` without assigning `hue` is deprecated and will be removed in v0.14.0. Assign the `y` variable to `hue` and set `legend=False` for the same effect.\n",
            "\n",
            "  sns.barplot(x=top_features, y=top_features.index, palette=\"viridis\")\n"
          ]
        },
        {
          "output_type": "display_data",
          "data": {
            "text/plain": [
              "<Figure size 1000x400 with 1 Axes>"
            ],
            "image/png": "[encoded data removed]"
          },
          "metadata": {}
        }
      ],
      "source": [
        "# 1. Features (X) and Target (y)\n",
        "# Drop target, and ONLY columns that are present\n",
        "X = df_model.drop(columns=[\"unit_sales_log\", \"train_date\", \"transactions\"])\n",
        "y = df_model[\"unit_sales_log\"]                 # Target\n",
        "\n",
        "# 2. Train/Test Split\n",
        "X_train, X_test, y_train, y_test = train_test_split(\n",
        "    X, y, test_size=0.05, random_state=42\n",
        ")\n",
        "\n",
        "# 3. Random Forest Regressor\n",
        "regressor = RandomForestRegressor(\n",
        "    n_estimators=100,\n",
        "    max_depth=10,\n",
        "    random_state=42,\n",
        "    n_jobs=-1\n",
        ")\n",
        "regressor.fit(X_train, y_train)\n",
        "\n",
        "# 4. Predictions and Evaluation\n",
        "y_pred = regressor.predict(X_test)\n",
        "mae = mean_absolute_error(y_test, y_pred)\n",
        "r2 = r2_score(y_test, y_pred)\n",
        "\n",
        "print(f\"✅ Mean Absolute Error: {mae:.4f}\")\n",
        "print(f\"✅ R² Score: {r2:.4f}\")\n",
        "\n",
        "# 5. Feature Importances\n",
        "feature_importance = pd.Series(regressor.feature_importances_, index=X.columns)\n",
        "top_features = feature_importance.sort_values(ascending=False).head(10)\n",
        "\n",
        "# 6. Plotting\n",
        "plt.figure(figsize=(10, 4))\n",
        "sns.barplot(x=top_features, y=top_features.index, palette=\"viridis\")\n",
        "plt.title(\"Top 10 Feature Importances (Random Forest)\", fontsize=14)\n",
        "plt.xlabel(\"Importance Score\")\n",
        "plt.ylabel(\"Feature\")\n",
        "plt.tight_layout()\n",
        "plt.show()"
      ]
    },
    {
      "cell_type": "markdown",
      "metadata": {
        "id": "kYJcvDysY30n"
      },
      "source": [
        "## 7-day rolling mean 'item_class'"
      ]
    },
    {
      "cell_type": "code",
      "execution_count": null,
      "metadata": {
        "id": "tqguMY_FYXn4",
        "colab": {
          "base_uri": "https://localhost:8080/",
          "height": 607
        },
        "outputId": "d36ae8dd-a4a2-46dc-a16d-4977c5e9daf6"
      },
      "outputs": [
        {
          "output_type": "display_data",
          "data": {
            "text/plain": [
              "<Figure size 800x600 with 1 Axes>"
            ],
            "image/png": "[encoded data removed]"
          },
          "metadata": {}
        }
      ],
      "source": [
        "# 1. Find top 10 item_class based on counts\n",
        "top_item_classes = df_model['item_class'].value_counts().head(10).index\n",
        "\n",
        "# 2. Filter df_model to keep only top item_class\n",
        "df_top_items = df_model[df_model['item_class'].isin(top_item_classes)]\n",
        "\n",
        "# 3. Sort by weekday for nice plots\n",
        "df_top_items = df_top_items.sort_values('weekday')\n",
        "\n",
        "# 4. Plot\n",
        "plt.figure(figsize=(8, 6))\n",
        "\n",
        "for item_class in top_item_classes:\n",
        "    item_data = df_top_items[df_top_items['item_class'] == item_class]\n",
        "\n",
        "    # Group by weekday and calculate mean unit_sales_log\n",
        "    weekday_sales = item_data.groupby('weekday')['unit_sales_log'].mean()\n",
        "\n",
        "    # Apply 7-point rolling mean (but since only weekdays (0-6), not truly 7 days, so we skip rolling)\n",
        "    # Just plot directly\n",
        "    plt.plot(weekday_sales.index, weekday_sales.values, label=f'Item Class {item_class}', marker='o')\n",
        "\n",
        "# Styling\n",
        "plt.title('Unit Sales Log by Weekday for Top 10 Item Classes', fontsize=16)\n",
        "plt.xlabel('Weekday (0=Monday, 6=Sunday)', fontsize=14)\n",
        "plt.ylabel('Average Log Unit Sales', fontsize=14)\n",
        "plt.legend(title='Item Class', fontsize=9)\n",
        "plt.grid(True)\n",
        "plt.tight_layout()\n",
        "\n",
        "del df_top_items\n",
        "\n",
        "plt.show()"
      ]
    },
    {
      "cell_type": "markdown",
      "metadata": {
        "id": "ph8dp8v4m406"
      },
      "source": [
        "Expending Window"
      ]
    },
    {
      "cell_type": "code",
      "execution_count": null,
      "metadata": {
        "id": "0-BMTPjjgBeo",
        "colab": {
          "base_uri": "https://localhost:8080/",
          "height": 707
        },
        "outputId": "0e38b1b4-3305-4b65-af2b-9ad4f4149c76"
      },
      "outputs": [
        {
          "output_type": "display_data",
          "data": {
            "text/plain": [
              "<Figure size 1200x700 with 1 Axes>"
            ],
            "image/png": "[encoded data removed]"
          },
          "metadata": {}
        }
      ],
      "source": [
        "# 1. Recover 'city' columns (already one-hot encoded)\n",
        "city_columns = [col for col in df_model.columns if col.startswith('city_')]\n",
        "\n",
        "# 2. Remove 'city_Daule' and 'city_nan' from the list\n",
        "excluded_cities = ['city_Daule', 'city_nan']\n",
        "city_columns = [col for col in city_columns if col not in excluded_cities]\n",
        "\n",
        "# 3. Set up the plot\n",
        "plt.figure(figsize=(12, 7))\n",
        "\n",
        "# 4. Loop through each city (excluding Daule and NaN city)\n",
        "for city_col in city_columns:\n",
        "    # Select only rows where this city is active\n",
        "    city_data = df_model[df_model[city_col] == 1]\n",
        "\n",
        "    # Sort by original index (since train_date was hidden)\n",
        "    city_data = city_data.sort_index()\n",
        "\n",
        "    # Recover 'train_date' from original df_train\n",
        "    city_data['train_date'] = df_train.loc[city_data.index, 'train_date']\n",
        "\n",
        "    # Group by train_date and sum unit_sales_log\n",
        "    date_grouped_sales = city_data.groupby('train_date')[\"unit_sales_log\"].sum()\n",
        "\n",
        "    # Apply expanding sum (with minimum 3 periods)\n",
        "    expanding_sum_sales = date_grouped_sales.expanding(3).sum()\n",
        "\n",
        "    # For x-axis: average oil price by date\n",
        "    date_grouped_oil = city_data.groupby('train_date')[\"dcoilwtico_scaled\"].mean()\n",
        "\n",
        "    # Match indexes\n",
        "    common_index = expanding_sum_sales.index.intersection(date_grouped_oil.index)\n",
        "\n",
        "    # Plot oil price (X-axis) vs expanding sales sum (Y-axis)\n",
        "    plt.plot(date_grouped_oil.loc[common_index], expanding_sum_sales.loc[common_index], label=city_col.replace('city_', ''))\n",
        "\n",
        "# 5. Styling\n",
        "plt.title('Expanding Sum of Unit Sales vs Scaled Oil Price by City (Excluding Daule and NaN)', fontsize=16)\n",
        "plt.xlabel('Avg Scaled Oil Price', fontsize=14)\n",
        "plt.ylabel('Expanding Sum of Unit Sales (log)', fontsize=14)\n",
        "plt.legend(title='City', fontsize=10, loc='upper left', bbox_to_anchor=(1,1))\n",
        "plt.grid(True)\n",
        "plt.tight_layout()\n",
        "\n",
        "del city_columns, excluded_cities, city_data, date_grouped_sales, expanding_sum_sales, date_grouped_oil, common_index\n",
        "\n",
        "plt.show()"
      ]
    },
    {
      "cell_type": "code",
      "execution_count": null,
      "metadata": {
        "id": "6sY2jBKEnS21",
        "colab": {
          "base_uri": "https://localhost:8080/",
          "height": 707
        },
        "outputId": "6976d307-567b-479e-8fc5-61a99f0784e4"
      },
      "outputs": [
        {
          "output_type": "display_data",
          "data": {
            "text/plain": [
              "<Figure size 1200x700 with 1 Axes>"
            ],
            "image/png": "[encoded data removed]"
          },
          "metadata": {}
        }
      ],
      "source": [
        "# 1. Recover 'city' columns (already one-hot encoded)\n",
        "city_columns = [col for col in df_model.columns if col.startswith('city_')]\n",
        "\n",
        "# 2. Set up the plot\n",
        "plt.figure(figsize=(12, 7))\n",
        "\n",
        "# 3. Loop through each city (include all cities)\n",
        "for city_col in city_columns:\n",
        "    # Select only rows where this city is active\n",
        "    city_data = df_model[df_model[city_col] == 1]\n",
        "\n",
        "    # Sort by original index (since train_date was hidden)\n",
        "    city_data = city_data.sort_index()\n",
        "\n",
        "    # Recover 'train_date' from original df_train\n",
        "    city_data['train_date'] = df_train.loc[city_data.index, 'train_date']\n",
        "\n",
        "    # Group by train_date and take **mean** of unit_sales_log\n",
        "    date_grouped_sales = city_data.groupby('train_date')[\"unit_sales_log\"].mean()\n",
        "\n",
        "    # Apply expanding **mean** with minimum 3 periods\n",
        "    expanding_mean_sales = date_grouped_sales.expanding(3).mean()\n",
        "\n",
        "    # For x-axis: average oil price by date\n",
        "    date_grouped_oil = city_data.groupby('train_date')[\"dcoilwtico_scaled\"].mean()\n",
        "\n",
        "    # Match indexes\n",
        "    common_index = expanding_mean_sales.index.intersection(date_grouped_oil.index)\n",
        "\n",
        "    # Plot oil price (X-axis) vs expanding mean sales (Y-axis)\n",
        "    plt.plot(date_grouped_oil.loc[common_index], expanding_mean_sales.loc[common_index], label=city_col.replace('city_', ''))\n",
        "\n",
        "# 4. Styling\n",
        "plt.title('Expanding Mean of Unit Sales vs Scaled Oil Price by City (All Cities)', fontsize=16)\n",
        "plt.xlabel('Avg Scaled Oil Price', fontsize=14)\n",
        "plt.ylabel('Expanding Mean of Unit Sales (log)', fontsize=14)\n",
        "plt.legend(title='City', fontsize=10, loc='upper left', bbox_to_anchor=(1,1))\n",
        "plt.grid(True)\n",
        "plt.tight_layout()\n",
        "\n",
        "# 5. Clean up variables if you want (optional)\n",
        "del city_columns, city_data, date_grouped_sales, expanding_mean_sales, date_grouped_oil, common_index\n",
        "\n",
        "# Show the plot\n",
        "plt.show()"
      ]
    }
  ],
  "metadata": {
    "colab": {
      "provenance": [],
      "authorship_tag": "ABX9TyMD+T0gGaEp6BL9eZNWwzDi",
      "include_colab_link": true
    },
    "kernelspec": {
      "display_name": "Python 3",
      "name": "python3"
    },
    "language_info": {
      "name": "python"
    }
  },
  "nbformat": 4,
  "nbformat_minor": 0
}